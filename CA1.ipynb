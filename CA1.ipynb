{
 "cells": [
  {
   "cell_type": "markdown",
   "id": "e1f9ec13",
   "metadata": {},
   "source": [
    "# CA1"
   ]
  },
  {
   "cell_type": "markdown",
   "id": "17fae050",
   "metadata": {},
   "source": [
    "Scenario: \n",
    "\n",
    "You have been retained by a haulage company to analyse a dataset based on data collected from heavy Scania trucks in everyday usage. The system in focus is the Air Pressure system (APS) which generates pressurised air that are utilized in various functions in a truck, such as braking and gear changes. The dataset’s  positive class consists of component failures for a specific component of the APS system.\n",
    "\n",
    "The negative class consists of trucks with failures for components not related to the APS. The data consists  of a subset of all available data, selected by experts. This analysis will help determine the investment strategy for the company in the upcoming year.\n",
    "\n",
    "All data wrangling, analysis, and visualizations must generated using python.\n",
    "\n",
    "The companies CTO also requires you to rationalize all the decisions that you have made in your report.\n",
    "\n",
    "Minimum Requirements \n",
    "\n",
    "You are required to use the dataset contained within the file “aps_failure_set.csv”, conduct the following analysis and report on your findings:\n",
    "\n",
    "Characterization of the data set: size; number of attributes; has/does not have missing values, number of observations etc.\n",
    "\n",
    "Application of Data preparation/evaluation methods (Cleaning, renaming, etc) and EDA visualizations (plural), including a clear and concise explanation of your rationale for what you are doing with the data and why you are doing it.\n",
    "Use PCA to establish the minimum number of features needed for retaining 99.5% variance in the data and then implement PCA to dimensionally reduce the data to the number of features that you have discovered. Include a clear and concise explanation of your rationale for what you are doing with the data and why you are doing it.\n",
    "Explain in your own words what the “Curse of Dimensionality ” is and how it may affect your analysis going forward.\n",
    "Conclusions, Findings of data set and references (HARVARD style).\n",
    "Note that all written work MUST be completed in Jupyter Notebook Markdown (please review “Jupyter Notebook Tutorial” Notes in Moodle if you are unsure of this).\n",
    "\n",
    "All Code must be included in code blocks (As normal). No other upload will be accepted.\n",
    "\n",
    "All written work MUST be detailed in your Jupyter Markdown (NOT in code comments).\n",
    "\n"
   ]
  },
  {
   "cell_type": "markdown",
   "id": "d239835c",
   "metadata": {},
   "source": [
    "# Explain in your own words what the “Curse of Dimensionality ” is and how it may affect your analysis going forward.\n",
    "\n",
    "The Curse of Dimensionality occurs when it is hard to get meaningful patterns within the data due its large number of features (dimensions). The analysis may be affected by different reasons, two of them are:\n",
    "- the amount of time that the algorithms have to process high-dimensional data;\n",
    "- the amount of noise surpassing the significant patterns, causing the phenomenal called overfitting and impacting on the generalisation of the model;"
   ]
  },
  {
   "cell_type": "markdown",
   "id": "19bdd484",
   "metadata": {},
   "source": [
    "# IMORTING LIBRARIES"
   ]
  },
  {
   "cell_type": "code",
   "execution_count": 1,
   "id": "8bb7e53e",
   "metadata": {},
   "outputs": [],
   "source": [
    "%matplotlib inline\n",
    "\n",
    "import pandas as pd\n",
    "\n",
    "import numpy as np\n",
    "\n",
    "import matplotlib.pyplot as plt\n",
    "\n",
    "import seaborn as sns\n",
    "\n",
    "sns.set()\n",
    "\n",
    "from sklearn.preprocessing import StandardScaler\n",
    "\n",
    "from sklearn.decomposition import PCA\n",
    "\n",
    "from sklearn import preprocessing\n",
    "\n",
    "from sklearn.model_selection import train_test_split "
   ]
  },
  {
   "cell_type": "code",
   "execution_count": 2,
   "id": "b20a0ac6",
   "metadata": {},
   "outputs": [
    {
     "name": "stdout",
     "output_type": "stream",
     "text": [
      "Requirement already satisfied: mglearn in /Users/izaiaszacca/anaconda3/lib/python3.11/site-packages (0.2.0)\n",
      "Requirement already satisfied: numpy in /Users/izaiaszacca/anaconda3/lib/python3.11/site-packages (from mglearn) (1.24.3)\n",
      "Requirement already satisfied: matplotlib in /Users/izaiaszacca/anaconda3/lib/python3.11/site-packages (from mglearn) (3.7.1)\n",
      "Requirement already satisfied: scikit-learn in /Users/izaiaszacca/anaconda3/lib/python3.11/site-packages (from mglearn) (1.3.0)\n",
      "Requirement already satisfied: pandas in /Users/izaiaszacca/anaconda3/lib/python3.11/site-packages (from mglearn) (1.5.3)\n",
      "Requirement already satisfied: pillow in /Users/izaiaszacca/anaconda3/lib/python3.11/site-packages (from mglearn) (9.4.0)\n",
      "Requirement already satisfied: cycler in /Users/izaiaszacca/anaconda3/lib/python3.11/site-packages (from mglearn) (0.11.0)\n",
      "Requirement already satisfied: imageio in /Users/izaiaszacca/anaconda3/lib/python3.11/site-packages (from mglearn) (2.31.1)\n",
      "Requirement already satisfied: joblib in /Users/izaiaszacca/anaconda3/lib/python3.11/site-packages (from mglearn) (1.2.0)\n",
      "Requirement already satisfied: contourpy>=1.0.1 in /Users/izaiaszacca/anaconda3/lib/python3.11/site-packages (from matplotlib->mglearn) (1.0.5)\n",
      "Requirement already satisfied: fonttools>=4.22.0 in /Users/izaiaszacca/anaconda3/lib/python3.11/site-packages (from matplotlib->mglearn) (4.25.0)\n",
      "Requirement already satisfied: kiwisolver>=1.0.1 in /Users/izaiaszacca/anaconda3/lib/python3.11/site-packages (from matplotlib->mglearn) (1.4.4)\n",
      "Requirement already satisfied: packaging>=20.0 in /Users/izaiaszacca/anaconda3/lib/python3.11/site-packages (from matplotlib->mglearn) (23.0)\n",
      "Requirement already satisfied: pyparsing>=2.3.1 in /Users/izaiaszacca/anaconda3/lib/python3.11/site-packages (from matplotlib->mglearn) (3.0.9)\n",
      "Requirement already satisfied: python-dateutil>=2.7 in /Users/izaiaszacca/anaconda3/lib/python3.11/site-packages (from matplotlib->mglearn) (2.8.2)\n",
      "Requirement already satisfied: pytz>=2020.1 in /Users/izaiaszacca/anaconda3/lib/python3.11/site-packages (from pandas->mglearn) (2022.7)\n",
      "Requirement already satisfied: scipy>=1.5.0 in /Users/izaiaszacca/anaconda3/lib/python3.11/site-packages (from scikit-learn->mglearn) (1.10.1)\n",
      "Requirement already satisfied: threadpoolctl>=2.0.0 in /Users/izaiaszacca/anaconda3/lib/python3.11/site-packages (from scikit-learn->mglearn) (2.2.0)\n",
      "Requirement already satisfied: six>=1.5 in /Users/izaiaszacca/anaconda3/lib/python3.11/site-packages (from python-dateutil>=2.7->matplotlib->mglearn) (1.16.0)\n",
      "Note: you may need to restart the kernel to use updated packages.\n"
     ]
    }
   ],
   "source": [
    "pip install mglearn"
   ]
  },
  {
   "cell_type": "markdown",
   "id": "8a669301",
   "metadata": {},
   "source": [
    "# EDA\n",
    "\n",
    "Exploratory Data Analysis. \n",
    "\n",
    "After importing the necessary labraries the next step is to do the Exploratory Data Analysis in our raw data to check its characteristics, such as: the size, shape, which kind of features and observations they are, if there is any missing or duplicated values and what kind of ditribution it is. EDA was originally developed in 1970 by the American mathematician John Tukey (ibm, 2023). \n",
    "\n",
    "This is a crucial task because it is the one that helps us to understand what we are dealing with and which approach we are going to use next to obtain a good accuracy for the Machine Learning Model applied and get effective results. "
   ]
  },
  {
   "cell_type": "code",
   "execution_count": 3,
   "id": "0231c75f",
   "metadata": {},
   "outputs": [],
   "source": [
    "ca1 = pd.read_csv(\"aps_failure_set.csv\")"
   ]
  },
  {
   "cell_type": "code",
   "execution_count": 4,
   "id": "5bc89854",
   "metadata": {},
   "outputs": [
    {
     "data": {
      "text/html": [
       "<div>\n",
       "<style scoped>\n",
       "    .dataframe tbody tr th:only-of-type {\n",
       "        vertical-align: middle;\n",
       "    }\n",
       "\n",
       "    .dataframe tbody tr th {\n",
       "        vertical-align: top;\n",
       "    }\n",
       "\n",
       "    .dataframe thead th {\n",
       "        text-align: right;\n",
       "    }\n",
       "</style>\n",
       "<table border=\"1\" class=\"dataframe\">\n",
       "  <thead>\n",
       "    <tr style=\"text-align: right;\">\n",
       "      <th></th>\n",
       "      <th>class</th>\n",
       "      <th>aa_000</th>\n",
       "      <th>ab_000</th>\n",
       "      <th>ac_000</th>\n",
       "      <th>ad_000</th>\n",
       "      <th>ae_000</th>\n",
       "      <th>af_000</th>\n",
       "      <th>ag_000</th>\n",
       "      <th>ag_001</th>\n",
       "      <th>ag_002</th>\n",
       "      <th>...</th>\n",
       "      <th>ee_002</th>\n",
       "      <th>ee_003</th>\n",
       "      <th>ee_004</th>\n",
       "      <th>ee_005</th>\n",
       "      <th>ee_006</th>\n",
       "      <th>ee_007</th>\n",
       "      <th>ee_008</th>\n",
       "      <th>ee_009</th>\n",
       "      <th>ef_000</th>\n",
       "      <th>eg_000</th>\n",
       "    </tr>\n",
       "  </thead>\n",
       "  <tbody>\n",
       "    <tr>\n",
       "      <th>0</th>\n",
       "      <td>neg</td>\n",
       "      <td>76698</td>\n",
       "      <td>na</td>\n",
       "      <td>2130706438</td>\n",
       "      <td>280</td>\n",
       "      <td>0</td>\n",
       "      <td>0</td>\n",
       "      <td>0</td>\n",
       "      <td>0</td>\n",
       "      <td>0</td>\n",
       "      <td>...</td>\n",
       "      <td>1240520</td>\n",
       "      <td>493384</td>\n",
       "      <td>721044</td>\n",
       "      <td>469792</td>\n",
       "      <td>339156</td>\n",
       "      <td>157956</td>\n",
       "      <td>73224</td>\n",
       "      <td>0</td>\n",
       "      <td>0</td>\n",
       "      <td>0</td>\n",
       "    </tr>\n",
       "    <tr>\n",
       "      <th>1</th>\n",
       "      <td>neg</td>\n",
       "      <td>33058</td>\n",
       "      <td>na</td>\n",
       "      <td>0</td>\n",
       "      <td>na</td>\n",
       "      <td>0</td>\n",
       "      <td>0</td>\n",
       "      <td>0</td>\n",
       "      <td>0</td>\n",
       "      <td>0</td>\n",
       "      <td>...</td>\n",
       "      <td>421400</td>\n",
       "      <td>178064</td>\n",
       "      <td>293306</td>\n",
       "      <td>245416</td>\n",
       "      <td>133654</td>\n",
       "      <td>81140</td>\n",
       "      <td>97576</td>\n",
       "      <td>1500</td>\n",
       "      <td>0</td>\n",
       "      <td>0</td>\n",
       "    </tr>\n",
       "    <tr>\n",
       "      <th>2</th>\n",
       "      <td>neg</td>\n",
       "      <td>41040</td>\n",
       "      <td>na</td>\n",
       "      <td>228</td>\n",
       "      <td>100</td>\n",
       "      <td>0</td>\n",
       "      <td>0</td>\n",
       "      <td>0</td>\n",
       "      <td>0</td>\n",
       "      <td>0</td>\n",
       "      <td>...</td>\n",
       "      <td>277378</td>\n",
       "      <td>159812</td>\n",
       "      <td>423992</td>\n",
       "      <td>409564</td>\n",
       "      <td>320746</td>\n",
       "      <td>158022</td>\n",
       "      <td>95128</td>\n",
       "      <td>514</td>\n",
       "      <td>0</td>\n",
       "      <td>0</td>\n",
       "    </tr>\n",
       "    <tr>\n",
       "      <th>3</th>\n",
       "      <td>neg</td>\n",
       "      <td>12</td>\n",
       "      <td>0</td>\n",
       "      <td>70</td>\n",
       "      <td>66</td>\n",
       "      <td>0</td>\n",
       "      <td>10</td>\n",
       "      <td>0</td>\n",
       "      <td>0</td>\n",
       "      <td>0</td>\n",
       "      <td>...</td>\n",
       "      <td>240</td>\n",
       "      <td>46</td>\n",
       "      <td>58</td>\n",
       "      <td>44</td>\n",
       "      <td>10</td>\n",
       "      <td>0</td>\n",
       "      <td>0</td>\n",
       "      <td>0</td>\n",
       "      <td>4</td>\n",
       "      <td>32</td>\n",
       "    </tr>\n",
       "    <tr>\n",
       "      <th>4</th>\n",
       "      <td>neg</td>\n",
       "      <td>60874</td>\n",
       "      <td>na</td>\n",
       "      <td>1368</td>\n",
       "      <td>458</td>\n",
       "      <td>0</td>\n",
       "      <td>0</td>\n",
       "      <td>0</td>\n",
       "      <td>0</td>\n",
       "      <td>0</td>\n",
       "      <td>...</td>\n",
       "      <td>622012</td>\n",
       "      <td>229790</td>\n",
       "      <td>405298</td>\n",
       "      <td>347188</td>\n",
       "      <td>286954</td>\n",
       "      <td>311560</td>\n",
       "      <td>433954</td>\n",
       "      <td>1218</td>\n",
       "      <td>0</td>\n",
       "      <td>0</td>\n",
       "    </tr>\n",
       "    <tr>\n",
       "      <th>5</th>\n",
       "      <td>neg</td>\n",
       "      <td>38312</td>\n",
       "      <td>na</td>\n",
       "      <td>2130706432</td>\n",
       "      <td>218</td>\n",
       "      <td>0</td>\n",
       "      <td>0</td>\n",
       "      <td>0</td>\n",
       "      <td>0</td>\n",
       "      <td>0</td>\n",
       "      <td>...</td>\n",
       "      <td>388574</td>\n",
       "      <td>288278</td>\n",
       "      <td>900430</td>\n",
       "      <td>300412</td>\n",
       "      <td>1534</td>\n",
       "      <td>338</td>\n",
       "      <td>856</td>\n",
       "      <td>0</td>\n",
       "      <td>0</td>\n",
       "      <td>0</td>\n",
       "    </tr>\n",
       "    <tr>\n",
       "      <th>6</th>\n",
       "      <td>neg</td>\n",
       "      <td>14</td>\n",
       "      <td>0</td>\n",
       "      <td>6</td>\n",
       "      <td>na</td>\n",
       "      <td>0</td>\n",
       "      <td>0</td>\n",
       "      <td>0</td>\n",
       "      <td>0</td>\n",
       "      <td>0</td>\n",
       "      <td>...</td>\n",
       "      <td>168</td>\n",
       "      <td>48</td>\n",
       "      <td>60</td>\n",
       "      <td>28</td>\n",
       "      <td>0</td>\n",
       "      <td>0</td>\n",
       "      <td>0</td>\n",
       "      <td>0</td>\n",
       "      <td>0</td>\n",
       "      <td>0</td>\n",
       "    </tr>\n",
       "    <tr>\n",
       "      <th>7</th>\n",
       "      <td>neg</td>\n",
       "      <td>102960</td>\n",
       "      <td>na</td>\n",
       "      <td>2130706432</td>\n",
       "      <td>116</td>\n",
       "      <td>0</td>\n",
       "      <td>0</td>\n",
       "      <td>0</td>\n",
       "      <td>0</td>\n",
       "      <td>0</td>\n",
       "      <td>...</td>\n",
       "      <td>715518</td>\n",
       "      <td>384948</td>\n",
       "      <td>915978</td>\n",
       "      <td>1052166</td>\n",
       "      <td>1108672</td>\n",
       "      <td>341532</td>\n",
       "      <td>129504</td>\n",
       "      <td>7832</td>\n",
       "      <td>0</td>\n",
       "      <td>0</td>\n",
       "    </tr>\n",
       "    <tr>\n",
       "      <th>8</th>\n",
       "      <td>neg</td>\n",
       "      <td>78696</td>\n",
       "      <td>na</td>\n",
       "      <td>0</td>\n",
       "      <td>na</td>\n",
       "      <td>0</td>\n",
       "      <td>0</td>\n",
       "      <td>0</td>\n",
       "      <td>0</td>\n",
       "      <td>0</td>\n",
       "      <td>...</td>\n",
       "      <td>699290</td>\n",
       "      <td>362510</td>\n",
       "      <td>1190028</td>\n",
       "      <td>1012704</td>\n",
       "      <td>160090</td>\n",
       "      <td>63216</td>\n",
       "      <td>41202</td>\n",
       "      <td>4</td>\n",
       "      <td>0</td>\n",
       "      <td>0</td>\n",
       "    </tr>\n",
       "    <tr>\n",
       "      <th>9</th>\n",
       "      <td>pos</td>\n",
       "      <td>153204</td>\n",
       "      <td>0</td>\n",
       "      <td>182</td>\n",
       "      <td>na</td>\n",
       "      <td>0</td>\n",
       "      <td>0</td>\n",
       "      <td>0</td>\n",
       "      <td>0</td>\n",
       "      <td>0</td>\n",
       "      <td>...</td>\n",
       "      <td>129862</td>\n",
       "      <td>26872</td>\n",
       "      <td>34044</td>\n",
       "      <td>22472</td>\n",
       "      <td>34362</td>\n",
       "      <td>0</td>\n",
       "      <td>0</td>\n",
       "      <td>0</td>\n",
       "      <td>0</td>\n",
       "      <td>0</td>\n",
       "    </tr>\n",
       "  </tbody>\n",
       "</table>\n",
       "<p>10 rows × 171 columns</p>\n",
       "</div>"
      ],
      "text/plain": [
       "  class  aa_000 ab_000      ac_000 ad_000 ae_000 af_000 ag_000 ag_001 ag_002  \\\n",
       "0   neg   76698     na  2130706438    280      0      0      0      0      0   \n",
       "1   neg   33058     na           0     na      0      0      0      0      0   \n",
       "2   neg   41040     na         228    100      0      0      0      0      0   \n",
       "3   neg      12      0          70     66      0     10      0      0      0   \n",
       "4   neg   60874     na        1368    458      0      0      0      0      0   \n",
       "5   neg   38312     na  2130706432    218      0      0      0      0      0   \n",
       "6   neg      14      0           6     na      0      0      0      0      0   \n",
       "7   neg  102960     na  2130706432    116      0      0      0      0      0   \n",
       "8   neg   78696     na           0     na      0      0      0      0      0   \n",
       "9   pos  153204      0         182     na      0      0      0      0      0   \n",
       "\n",
       "   ...   ee_002  ee_003   ee_004   ee_005   ee_006  ee_007  ee_008 ee_009  \\\n",
       "0  ...  1240520  493384   721044   469792   339156  157956   73224      0   \n",
       "1  ...   421400  178064   293306   245416   133654   81140   97576   1500   \n",
       "2  ...   277378  159812   423992   409564   320746  158022   95128    514   \n",
       "3  ...      240      46       58       44       10       0       0      0   \n",
       "4  ...   622012  229790   405298   347188   286954  311560  433954   1218   \n",
       "5  ...   388574  288278   900430   300412     1534     338     856      0   \n",
       "6  ...      168      48       60       28        0       0       0      0   \n",
       "7  ...   715518  384948   915978  1052166  1108672  341532  129504   7832   \n",
       "8  ...   699290  362510  1190028  1012704   160090   63216   41202      4   \n",
       "9  ...   129862   26872    34044    22472    34362       0       0      0   \n",
       "\n",
       "  ef_000 eg_000  \n",
       "0      0      0  \n",
       "1      0      0  \n",
       "2      0      0  \n",
       "3      4     32  \n",
       "4      0      0  \n",
       "5      0      0  \n",
       "6      0      0  \n",
       "7      0      0  \n",
       "8      0      0  \n",
       "9      0      0  \n",
       "\n",
       "[10 rows x 171 columns]"
      ]
     },
     "execution_count": 4,
     "metadata": {},
     "output_type": "execute_result"
    }
   ],
   "source": [
    "ca1.head(10)"
   ]
  },
  {
   "cell_type": "code",
   "execution_count": 5,
   "id": "4cee88c8",
   "metadata": {},
   "outputs": [
    {
     "data": {
      "text/plain": [
       "(60000, 171)"
      ]
     },
     "execution_count": 5,
     "metadata": {},
     "output_type": "execute_result"
    }
   ],
   "source": [
    "ca1.shape"
   ]
  },
  {
   "cell_type": "markdown",
   "id": "74fc5779",
   "metadata": {},
   "source": [
    "The shape of our dataset tells us that we have 60,000 observations distributed into 171 features. Some questions can be made in this point: \n",
    "- Is there any missing or duplicated values within the observations?;\n",
    "- Are all the independent variables important to explain the target variable?\n",
    "\n",
    "We need to keep exploring our raw data to answer those and other questions. "
   ]
  },
  {
   "cell_type": "code",
   "execution_count": 6,
   "id": "9020285f",
   "metadata": {},
   "outputs": [
    {
     "name": "stdout",
     "output_type": "stream",
     "text": [
      "<class 'pandas.core.frame.DataFrame'>\n",
      "RangeIndex: 60000 entries, 0 to 59999\n",
      "Columns: 171 entries, class to eg_000\n",
      "dtypes: int64(1), object(170)\n",
      "memory usage: 78.3+ MB\n"
     ]
    }
   ],
   "source": [
    "ca1.info()"
   ]
  },
  {
   "cell_type": "markdown",
   "id": "9e1b9a5f",
   "metadata": {},
   "source": [
    "The function .info() shows us that something is wrong with our observations. We know that all of our independent variables should be classified as numbers (int64 or float64) by the description of our dataset. Early when we looked at the head we saw a lot of numbers and some \"na\" observations. All the features are being considered as objects which means these \"na\" are strings, that is the reason why we are going to see that apparently we do not have any missing values in our dataset."
   ]
  },
  {
   "cell_type": "code",
   "execution_count": 7,
   "id": "dd83626f",
   "metadata": {},
   "outputs": [
    {
     "data": {
      "text/plain": [
       "class     0\n",
       "aa_000    0\n",
       "ab_000    0\n",
       "ac_000    0\n",
       "ad_000    0\n",
       "         ..\n",
       "ee_007    0\n",
       "ee_008    0\n",
       "ee_009    0\n",
       "ef_000    0\n",
       "eg_000    0\n",
       "Length: 171, dtype: int64"
      ]
     },
     "execution_count": 7,
     "metadata": {},
     "output_type": "execute_result"
    }
   ],
   "source": [
    "ca1.isnull().sum()"
   ]
  },
  {
   "cell_type": "markdown",
   "id": "8e557430",
   "metadata": {},
   "source": [
    "As written above, no missing values were found because all the independent variables are considered as objects. The following steps will include substitute all the \"na\" strings for the special value \"NaN\", counting the missing values and testing which is going to be the best way to deal with them"
   ]
  },
  {
   "cell_type": "code",
   "execution_count": 8,
   "id": "2616d571",
   "metadata": {},
   "outputs": [
    {
     "data": {
      "text/html": [
       "<div>\n",
       "<style scoped>\n",
       "    .dataframe tbody tr th:only-of-type {\n",
       "        vertical-align: middle;\n",
       "    }\n",
       "\n",
       "    .dataframe tbody tr th {\n",
       "        vertical-align: top;\n",
       "    }\n",
       "\n",
       "    .dataframe thead th {\n",
       "        text-align: right;\n",
       "    }\n",
       "</style>\n",
       "<table border=\"1\" class=\"dataframe\">\n",
       "  <thead>\n",
       "    <tr style=\"text-align: right;\">\n",
       "      <th></th>\n",
       "      <th>class</th>\n",
       "      <th>ab_000</th>\n",
       "      <th>ac_000</th>\n",
       "      <th>ad_000</th>\n",
       "      <th>ae_000</th>\n",
       "      <th>af_000</th>\n",
       "      <th>ag_000</th>\n",
       "      <th>ag_001</th>\n",
       "      <th>ag_002</th>\n",
       "      <th>ag_003</th>\n",
       "      <th>...</th>\n",
       "      <th>ee_002</th>\n",
       "      <th>ee_003</th>\n",
       "      <th>ee_004</th>\n",
       "      <th>ee_005</th>\n",
       "      <th>ee_006</th>\n",
       "      <th>ee_007</th>\n",
       "      <th>ee_008</th>\n",
       "      <th>ee_009</th>\n",
       "      <th>ef_000</th>\n",
       "      <th>eg_000</th>\n",
       "    </tr>\n",
       "  </thead>\n",
       "  <tbody>\n",
       "    <tr>\n",
       "      <th>count</th>\n",
       "      <td>60000</td>\n",
       "      <td>60000</td>\n",
       "      <td>60000</td>\n",
       "      <td>60000</td>\n",
       "      <td>60000</td>\n",
       "      <td>60000</td>\n",
       "      <td>60000</td>\n",
       "      <td>60000</td>\n",
       "      <td>60000</td>\n",
       "      <td>60000</td>\n",
       "      <td>...</td>\n",
       "      <td>60000</td>\n",
       "      <td>60000</td>\n",
       "      <td>60000</td>\n",
       "      <td>60000</td>\n",
       "      <td>60000</td>\n",
       "      <td>60000</td>\n",
       "      <td>60000</td>\n",
       "      <td>60000</td>\n",
       "      <td>60000</td>\n",
       "      <td>60000</td>\n",
       "    </tr>\n",
       "    <tr>\n",
       "      <th>unique</th>\n",
       "      <td>2</td>\n",
       "      <td>30</td>\n",
       "      <td>2062</td>\n",
       "      <td>1887</td>\n",
       "      <td>334</td>\n",
       "      <td>419</td>\n",
       "      <td>155</td>\n",
       "      <td>618</td>\n",
       "      <td>2423</td>\n",
       "      <td>7880</td>\n",
       "      <td>...</td>\n",
       "      <td>34489</td>\n",
       "      <td>31712</td>\n",
       "      <td>35189</td>\n",
       "      <td>36289</td>\n",
       "      <td>31796</td>\n",
       "      <td>30470</td>\n",
       "      <td>24214</td>\n",
       "      <td>9725</td>\n",
       "      <td>29</td>\n",
       "      <td>50</td>\n",
       "    </tr>\n",
       "    <tr>\n",
       "      <th>top</th>\n",
       "      <td>neg</td>\n",
       "      <td>na</td>\n",
       "      <td>0</td>\n",
       "      <td>na</td>\n",
       "      <td>0</td>\n",
       "      <td>0</td>\n",
       "      <td>0</td>\n",
       "      <td>0</td>\n",
       "      <td>0</td>\n",
       "      <td>0</td>\n",
       "      <td>...</td>\n",
       "      <td>0</td>\n",
       "      <td>0</td>\n",
       "      <td>0</td>\n",
       "      <td>0</td>\n",
       "      <td>0</td>\n",
       "      <td>0</td>\n",
       "      <td>0</td>\n",
       "      <td>0</td>\n",
       "      <td>0</td>\n",
       "      <td>0</td>\n",
       "    </tr>\n",
       "    <tr>\n",
       "      <th>freq</th>\n",
       "      <td>59000</td>\n",
       "      <td>46329</td>\n",
       "      <td>8752</td>\n",
       "      <td>14861</td>\n",
       "      <td>55543</td>\n",
       "      <td>55476</td>\n",
       "      <td>59133</td>\n",
       "      <td>58587</td>\n",
       "      <td>56181</td>\n",
       "      <td>46894</td>\n",
       "      <td>...</td>\n",
       "      <td>1364</td>\n",
       "      <td>1557</td>\n",
       "      <td>1797</td>\n",
       "      <td>2814</td>\n",
       "      <td>4458</td>\n",
       "      <td>7898</td>\n",
       "      <td>17280</td>\n",
       "      <td>31863</td>\n",
       "      <td>57021</td>\n",
       "      <td>56794</td>\n",
       "    </tr>\n",
       "  </tbody>\n",
       "</table>\n",
       "<p>4 rows × 170 columns</p>\n",
       "</div>"
      ],
      "text/plain": [
       "        class ab_000 ac_000 ad_000 ae_000 af_000 ag_000 ag_001 ag_002 ag_003  \\\n",
       "count   60000  60000  60000  60000  60000  60000  60000  60000  60000  60000   \n",
       "unique      2     30   2062   1887    334    419    155    618   2423   7880   \n",
       "top       neg     na      0     na      0      0      0      0      0      0   \n",
       "freq    59000  46329   8752  14861  55543  55476  59133  58587  56181  46894   \n",
       "\n",
       "        ... ee_002 ee_003 ee_004 ee_005 ee_006 ee_007 ee_008 ee_009 ef_000  \\\n",
       "count   ...  60000  60000  60000  60000  60000  60000  60000  60000  60000   \n",
       "unique  ...  34489  31712  35189  36289  31796  30470  24214   9725     29   \n",
       "top     ...      0      0      0      0      0      0      0      0      0   \n",
       "freq    ...   1364   1557   1797   2814   4458   7898  17280  31863  57021   \n",
       "\n",
       "       eg_000  \n",
       "count   60000  \n",
       "unique     50  \n",
       "top         0  \n",
       "freq    56794  \n",
       "\n",
       "[4 rows x 170 columns]"
      ]
     },
     "execution_count": 8,
     "metadata": {},
     "output_type": "execute_result"
    }
   ],
   "source": [
    "ca1.describe(include = \"object\")"
   ]
  },
  {
   "cell_type": "markdown",
   "id": "4079eb67",
   "metadata": {},
   "source": [
    "From the 20 collumns out of 171 that we can see in this descriptions in two we can see the occurance of \"na\". In the \"ab_000\" collumn 77.21% of all observations are \"na\" and in the \"ad_000\" 24.76%. It could be problematic if this is a constant in the structer of our dataset because the amount of missing values is high and significant information might be lost if is not properly dealt."
   ]
  },
  {
   "cell_type": "code",
   "execution_count": 9,
   "id": "c18d3bc7",
   "metadata": {},
   "outputs": [
    {
     "data": {
      "text/plain": [
       "<Axes: xlabel='class', ylabel='Count'>"
      ]
     },
     "execution_count": 9,
     "metadata": {},
     "output_type": "execute_result"
    },
    {
     "data": {
      "image/png": "[encoded data removed]",
      "text/plain": [
       "<Figure size 640x480 with 1 Axes>"
      ]
     },
     "metadata": {},
     "output_type": "display_data"
    }
   ],
   "source": [
    "sns.histplot(data = ca1, x = \"class\")"
   ]
  },
  {
   "cell_type": "markdown",
   "id": "5456fe1d",
   "metadata": {},
   "source": [
    "By plotting the histogram of the target variable \"class\" we can see that the distribution is strongly skewed to the right. The amount of failures for componets not related to the APS system it is significantly superior than the ones related to the APS. It is important to check the distribution to base futures decisions on the EDA, for example on dealing with the missing variables. "
   ]
  },
  {
   "cell_type": "code",
   "execution_count": 10,
   "id": "dee908e8",
   "metadata": {},
   "outputs": [
    {
     "data": {
      "text/plain": [
       "0"
      ]
     },
     "execution_count": 10,
     "metadata": {},
     "output_type": "execute_result"
    }
   ],
   "source": [
    "ca1.duplicated().sum()"
   ]
  },
  {
   "cell_type": "code",
   "execution_count": 11,
   "id": "ce6588d6",
   "metadata": {},
   "outputs": [],
   "source": [
    "miss_vals = [\"na\"]"
   ]
  },
  {
   "cell_type": "markdown",
   "id": "155acfc6",
   "metadata": {},
   "source": [
    "Defining that all missing values are \"na\""
   ]
  },
  {
   "cell_type": "code",
   "execution_count": 12,
   "id": "121f3ed2",
   "metadata": {},
   "outputs": [],
   "source": [
    "ca1 = pd.read_csv(\"aps_failure_set.csv\", na_values = miss_vals)"
   ]
  },
  {
   "cell_type": "markdown",
   "id": "3e3c107f",
   "metadata": {},
   "source": [
    "Substituting all missing values for the special value NaN so the collums can be counted as numbers (float or int64) and not objects as before."
   ]
  },
  {
   "cell_type": "code",
   "execution_count": 13,
   "id": "f856375d",
   "metadata": {},
   "outputs": [
    {
     "name": "stdout",
     "output_type": "stream",
     "text": [
      "<class 'pandas.core.frame.DataFrame'>\n",
      "RangeIndex: 60000 entries, 0 to 59999\n",
      "Columns: 171 entries, class to eg_000\n",
      "dtypes: float64(169), int64(1), object(1)\n",
      "memory usage: 78.3+ MB\n"
     ]
    }
   ],
   "source": [
    "ca1.info()"
   ]
  },
  {
   "cell_type": "markdown",
   "id": "dddb8042",
   "metadata": {},
   "source": [
    "The only object collumn is the \"class\" where the target variable is held."
   ]
  },
  {
   "cell_type": "code",
   "execution_count": 14,
   "id": "0dffb903",
   "metadata": {},
   "outputs": [
    {
     "data": {
      "text/html": [
       "<div>\n",
       "<style scoped>\n",
       "    .dataframe tbody tr th:only-of-type {\n",
       "        vertical-align: middle;\n",
       "    }\n",
       "\n",
       "    .dataframe tbody tr th {\n",
       "        vertical-align: top;\n",
       "    }\n",
       "\n",
       "    .dataframe thead th {\n",
       "        text-align: right;\n",
       "    }\n",
       "</style>\n",
       "<table border=\"1\" class=\"dataframe\">\n",
       "  <thead>\n",
       "    <tr style=\"text-align: right;\">\n",
       "      <th></th>\n",
       "      <th>class</th>\n",
       "      <th>aa_000</th>\n",
       "      <th>ab_000</th>\n",
       "      <th>ac_000</th>\n",
       "      <th>ad_000</th>\n",
       "      <th>ae_000</th>\n",
       "      <th>af_000</th>\n",
       "      <th>ag_000</th>\n",
       "      <th>ag_001</th>\n",
       "      <th>ag_002</th>\n",
       "      <th>...</th>\n",
       "      <th>ee_002</th>\n",
       "      <th>ee_003</th>\n",
       "      <th>ee_004</th>\n",
       "      <th>ee_005</th>\n",
       "      <th>ee_006</th>\n",
       "      <th>ee_007</th>\n",
       "      <th>ee_008</th>\n",
       "      <th>ee_009</th>\n",
       "      <th>ef_000</th>\n",
       "      <th>eg_000</th>\n",
       "    </tr>\n",
       "  </thead>\n",
       "  <tbody>\n",
       "    <tr>\n",
       "      <th>0</th>\n",
       "      <td>neg</td>\n",
       "      <td>76698</td>\n",
       "      <td>NaN</td>\n",
       "      <td>2.130706e+09</td>\n",
       "      <td>280.0</td>\n",
       "      <td>0.0</td>\n",
       "      <td>0.0</td>\n",
       "      <td>0.0</td>\n",
       "      <td>0.0</td>\n",
       "      <td>0.0</td>\n",
       "      <td>...</td>\n",
       "      <td>1240520.0</td>\n",
       "      <td>493384.0</td>\n",
       "      <td>721044.0</td>\n",
       "      <td>469792.0</td>\n",
       "      <td>339156.0</td>\n",
       "      <td>157956.0</td>\n",
       "      <td>73224.0</td>\n",
       "      <td>0.0</td>\n",
       "      <td>0.0</td>\n",
       "      <td>0.0</td>\n",
       "    </tr>\n",
       "    <tr>\n",
       "      <th>1</th>\n",
       "      <td>neg</td>\n",
       "      <td>33058</td>\n",
       "      <td>NaN</td>\n",
       "      <td>0.000000e+00</td>\n",
       "      <td>NaN</td>\n",
       "      <td>0.0</td>\n",
       "      <td>0.0</td>\n",
       "      <td>0.0</td>\n",
       "      <td>0.0</td>\n",
       "      <td>0.0</td>\n",
       "      <td>...</td>\n",
       "      <td>421400.0</td>\n",
       "      <td>178064.0</td>\n",
       "      <td>293306.0</td>\n",
       "      <td>245416.0</td>\n",
       "      <td>133654.0</td>\n",
       "      <td>81140.0</td>\n",
       "      <td>97576.0</td>\n",
       "      <td>1500.0</td>\n",
       "      <td>0.0</td>\n",
       "      <td>0.0</td>\n",
       "    </tr>\n",
       "    <tr>\n",
       "      <th>2</th>\n",
       "      <td>neg</td>\n",
       "      <td>41040</td>\n",
       "      <td>NaN</td>\n",
       "      <td>2.280000e+02</td>\n",
       "      <td>100.0</td>\n",
       "      <td>0.0</td>\n",
       "      <td>0.0</td>\n",
       "      <td>0.0</td>\n",
       "      <td>0.0</td>\n",
       "      <td>0.0</td>\n",
       "      <td>...</td>\n",
       "      <td>277378.0</td>\n",
       "      <td>159812.0</td>\n",
       "      <td>423992.0</td>\n",
       "      <td>409564.0</td>\n",
       "      <td>320746.0</td>\n",
       "      <td>158022.0</td>\n",
       "      <td>95128.0</td>\n",
       "      <td>514.0</td>\n",
       "      <td>0.0</td>\n",
       "      <td>0.0</td>\n",
       "    </tr>\n",
       "    <tr>\n",
       "      <th>3</th>\n",
       "      <td>neg</td>\n",
       "      <td>12</td>\n",
       "      <td>0.0</td>\n",
       "      <td>7.000000e+01</td>\n",
       "      <td>66.0</td>\n",
       "      <td>0.0</td>\n",
       "      <td>10.0</td>\n",
       "      <td>0.0</td>\n",
       "      <td>0.0</td>\n",
       "      <td>0.0</td>\n",
       "      <td>...</td>\n",
       "      <td>240.0</td>\n",
       "      <td>46.0</td>\n",
       "      <td>58.0</td>\n",
       "      <td>44.0</td>\n",
       "      <td>10.0</td>\n",
       "      <td>0.0</td>\n",
       "      <td>0.0</td>\n",
       "      <td>0.0</td>\n",
       "      <td>4.0</td>\n",
       "      <td>32.0</td>\n",
       "    </tr>\n",
       "    <tr>\n",
       "      <th>4</th>\n",
       "      <td>neg</td>\n",
       "      <td>60874</td>\n",
       "      <td>NaN</td>\n",
       "      <td>1.368000e+03</td>\n",
       "      <td>458.0</td>\n",
       "      <td>0.0</td>\n",
       "      <td>0.0</td>\n",
       "      <td>0.0</td>\n",
       "      <td>0.0</td>\n",
       "      <td>0.0</td>\n",
       "      <td>...</td>\n",
       "      <td>622012.0</td>\n",
       "      <td>229790.0</td>\n",
       "      <td>405298.0</td>\n",
       "      <td>347188.0</td>\n",
       "      <td>286954.0</td>\n",
       "      <td>311560.0</td>\n",
       "      <td>433954.0</td>\n",
       "      <td>1218.0</td>\n",
       "      <td>0.0</td>\n",
       "      <td>0.0</td>\n",
       "    </tr>\n",
       "  </tbody>\n",
       "</table>\n",
       "<p>5 rows × 171 columns</p>\n",
       "</div>"
      ],
      "text/plain": [
       "  class  aa_000  ab_000        ac_000  ad_000  ae_000  af_000  ag_000  ag_001  \\\n",
       "0   neg   76698     NaN  2.130706e+09   280.0     0.0     0.0     0.0     0.0   \n",
       "1   neg   33058     NaN  0.000000e+00     NaN     0.0     0.0     0.0     0.0   \n",
       "2   neg   41040     NaN  2.280000e+02   100.0     0.0     0.0     0.0     0.0   \n",
       "3   neg      12     0.0  7.000000e+01    66.0     0.0    10.0     0.0     0.0   \n",
       "4   neg   60874     NaN  1.368000e+03   458.0     0.0     0.0     0.0     0.0   \n",
       "\n",
       "   ag_002  ...     ee_002    ee_003    ee_004    ee_005    ee_006    ee_007  \\\n",
       "0     0.0  ...  1240520.0  493384.0  721044.0  469792.0  339156.0  157956.0   \n",
       "1     0.0  ...   421400.0  178064.0  293306.0  245416.0  133654.0   81140.0   \n",
       "2     0.0  ...   277378.0  159812.0  423992.0  409564.0  320746.0  158022.0   \n",
       "3     0.0  ...      240.0      46.0      58.0      44.0      10.0       0.0   \n",
       "4     0.0  ...   622012.0  229790.0  405298.0  347188.0  286954.0  311560.0   \n",
       "\n",
       "     ee_008  ee_009  ef_000  eg_000  \n",
       "0   73224.0     0.0     0.0     0.0  \n",
       "1   97576.0  1500.0     0.0     0.0  \n",
       "2   95128.0   514.0     0.0     0.0  \n",
       "3       0.0     0.0     4.0    32.0  \n",
       "4  433954.0  1218.0     0.0     0.0  \n",
       "\n",
       "[5 rows x 171 columns]"
      ]
     },
     "execution_count": 14,
     "metadata": {},
     "output_type": "execute_result"
    }
   ],
   "source": [
    "ca1.head()"
   ]
  },
  {
   "cell_type": "code",
   "execution_count": 15,
   "id": "59029b8b",
   "metadata": {},
   "outputs": [],
   "source": [
    "ca1['class'].replace('neg', 0, inplace = True)\n",
    "ca1['class'].replace('pos', 1, inplace = True)"
   ]
  },
  {
   "cell_type": "code",
   "execution_count": 16,
   "id": "5c84b084",
   "metadata": {},
   "outputs": [
    {
     "data": {
      "text/plain": [
       "class         0\n",
       "aa_000        0\n",
       "ab_000    46329\n",
       "ac_000     3335\n",
       "ad_000    14861\n",
       "ae_000     2500\n",
       "af_000     2500\n",
       "ag_000      671\n",
       "ag_001      671\n",
       "ag_002      671\n",
       "ag_003      671\n",
       "ag_004      671\n",
       "ag_005      671\n",
       "ag_006      671\n",
       "ag_007      671\n",
       "ag_008      671\n",
       "ag_009      671\n",
       "ah_000      645\n",
       "ai_000      629\n",
       "aj_000      629\n",
       "ak_000     4400\n",
       "al_000      642\n",
       "am_0        629\n",
       "an_000      642\n",
       "ao_000      589\n",
       "ap_000      642\n",
       "aq_000      589\n",
       "ar_000     2723\n",
       "as_000      629\n",
       "at_000      629\n",
       "au_000      629\n",
       "av_000     2500\n",
       "ax_000     2501\n",
       "ay_000      671\n",
       "ay_001      671\n",
       "ay_002      671\n",
       "ay_003      671\n",
       "ay_004      671\n",
       "ay_005      671\n",
       "ay_006      671\n",
       "ay_007      671\n",
       "ay_008      671\n",
       "ay_009      671\n",
       "az_000      671\n",
       "az_001      671\n",
       "az_002      671\n",
       "az_003      671\n",
       "az_004      671\n",
       "az_005      671\n",
       "az_006      671\n",
       "dtype: int64"
      ]
     },
     "execution_count": 16,
     "metadata": {},
     "output_type": "execute_result"
    }
   ],
   "source": [
    "ca1.isnull().sum().head(50)"
   ]
  },
  {
   "cell_type": "markdown",
   "id": "08a0cd1c",
   "metadata": {},
   "source": [
    "Now that the substitutions were made we can have a clearer picture of our dataset and start the experiments and decide which is going to be the best way to deal with it.\n",
    "\n",
    "The maximum of columns that it is shown is 50. The idea is to check all the columns to see if it is important to keep all of them when replacing the missing variables. As we saw above some features have more than 70% of observations missing. Is it important to keep those columns? If we replace this high amount of missing values with one of the measures of central tendency or another technique will we input bias to the dataset? In order to answer those questions that have arisen from this step of the EDA it is necessary to do some experiments and analyse which method is the best choice.\n",
    "\n",
    "\n",
    "There are three classes of Missing Data (Kaiser, 2014):\n",
    "\n",
    "- Missing Completely at Random: in this case the observed data or the missing data do not impact on the occurance of a record having missing values. For example when the data is lost in a laboratory due an accident while conducting the reaserch. \n",
    "\n",
    "- Missing ar Random: while in the previous class the observed data does not have an impact, in this case it does, the difference is that the probability of having a missing value is not impacted by the missing value itself. It might happen when the researcher does not get the information required, for example in a questionnaire where salary is one of the questions the missing values could be from the ones that earn more tend to be more reluctant to answer. \n",
    "\n",
    "- Not Missing at Random: Acoording to (Stef van Buuren, 2018), this is the most complex case when the reasons why the values are missing are not known. One of the reasons could be the instruments in a laboratory are not working effective and the reasercher does not notice it.\n",
    "\n",
    "Unfortunately for this project will not be possible to verify why those data are missing, \n",
    "\n"
   ]
  },
  {
   "cell_type": "code",
   "execution_count": 17,
   "id": "d32d7d92",
   "metadata": {},
   "outputs": [
    {
     "name": "stdout",
     "output_type": "stream",
     "text": [
      "ab_000    77.215000\n",
      "bm_000    65.915000\n",
      "bn_000    73.348333\n",
      "bo_000    77.221667\n",
      "bp_000    79.566667\n",
      "bq_000    81.203333\n",
      "br_000    82.106667\n",
      "cr_000    77.215000\n",
      "dtype: float64\n"
     ]
    }
   ],
   "source": [
    "isnull = ca1.isnull().sum()\n",
    "\n",
    "nperc = (isnull / (len(ca1))) * 100\n",
    "\n",
    "more_than_50 = nperc[nperc > 50]\n",
    "\n",
    "print(more_than_50)"
   ]
  },
  {
   "cell_type": "code",
   "execution_count": 18,
   "id": "b8a9878f",
   "metadata": {},
   "outputs": [
    {
     "name": "stdout",
     "output_type": "stream",
     "text": [
      "ab_000    77.215000\n",
      "bl_000    45.461667\n",
      "bm_000    65.915000\n",
      "bn_000    73.348333\n",
      "bo_000    77.221667\n",
      "bp_000    79.566667\n",
      "bq_000    81.203333\n",
      "br_000    82.106667\n",
      "cr_000    77.215000\n",
      "dtype: float64\n"
     ]
    }
   ],
   "source": [
    "isnull = ca1.isnull().sum()\n",
    "\n",
    "nperc = (isnull / (len(ca1))) * 100\n",
    "\n",
    "more_than_40 = nperc[nperc > 40]\n",
    "\n",
    "print(more_than_40)"
   ]
  },
  {
   "cell_type": "code",
   "execution_count": 19,
   "id": "80d45c31",
   "metadata": {
    "scrolled": true
   },
   "outputs": [
    {
     "name": "stdout",
     "output_type": "stream",
     "text": [
      "ab_000    77.215000\n",
      "bk_000    38.390000\n",
      "bl_000    45.461667\n",
      "bm_000    65.915000\n",
      "bn_000    73.348333\n",
      "bo_000    77.221667\n",
      "bp_000    79.566667\n",
      "bq_000    81.203333\n",
      "br_000    82.106667\n",
      "cr_000    77.215000\n",
      "dtype: float64\n"
     ]
    }
   ],
   "source": [
    "isnull = ca1.isnull().sum()\n",
    "\n",
    "nperc = (isnull / (len(ca1))) * 100\n",
    "\n",
    "more_than_30 = nperc[nperc > 30]\n",
    "\n",
    "print(more_than_30)"
   ]
  },
  {
   "cell_type": "code",
   "execution_count": 20,
   "id": "6f3f9e53",
   "metadata": {},
   "outputs": [
    {
     "name": "stdout",
     "output_type": "stream",
     "text": [
      "class      0.000000\n",
      "aa_000     0.000000\n",
      "ac_000     5.558333\n",
      "ad_000    24.768333\n",
      "ae_000     4.166667\n",
      "            ...    \n",
      "ee_007     1.118333\n",
      "ee_008     1.118333\n",
      "ee_009     1.118333\n",
      "ef_000     4.540000\n",
      "eg_000     4.538333\n",
      "Length: 161, dtype: float64\n"
     ]
    }
   ],
   "source": [
    "isnull = ca1.isnull().sum()\n",
    "\n",
    "nperc = (isnull / (len(ca1))) * 100\n",
    "\n",
    "less_than_30 = nperc[nperc < 30]\n",
    "\n",
    "print(less_than_30)"
   ]
  },
  {
   "cell_type": "markdown",
   "id": "b31885eb",
   "metadata": {},
   "source": [
    "8 columns with more than 50% of the values null (4,67%)\n",
    "\n",
    "9 columns with more than 40% of the values null (5,26%)\n",
    "\n",
    "10 columns with more than 30% of the values null (5,84%)"
   ]
  },
  {
   "cell_type": "code",
   "execution_count": 21,
   "id": "481b466b",
   "metadata": {},
   "outputs": [
    {
     "data": {
      "text/plain": [
       "(60000, 171)"
      ]
     },
     "execution_count": 21,
     "metadata": {},
     "output_type": "execute_result"
    }
   ],
   "source": [
    "ca1.shape"
   ]
  },
  {
   "cell_type": "code",
   "execution_count": 22,
   "id": "179b8d5c",
   "metadata": {},
   "outputs": [
    {
     "data": {
      "text/html": [
       "<div>\n",
       "<style scoped>\n",
       "    .dataframe tbody tr th:only-of-type {\n",
       "        vertical-align: middle;\n",
       "    }\n",
       "\n",
       "    .dataframe tbody tr th {\n",
       "        vertical-align: top;\n",
       "    }\n",
       "\n",
       "    .dataframe thead th {\n",
       "        text-align: right;\n",
       "    }\n",
       "</style>\n",
       "<table border=\"1\" class=\"dataframe\">\n",
       "  <thead>\n",
       "    <tr style=\"text-align: right;\">\n",
       "      <th></th>\n",
       "      <th>class</th>\n",
       "    </tr>\n",
       "  </thead>\n",
       "  <tbody>\n",
       "    <tr>\n",
       "      <th>0</th>\n",
       "      <td>0</td>\n",
       "    </tr>\n",
       "    <tr>\n",
       "      <th>1</th>\n",
       "      <td>0</td>\n",
       "    </tr>\n",
       "    <tr>\n",
       "      <th>2</th>\n",
       "      <td>0</td>\n",
       "    </tr>\n",
       "    <tr>\n",
       "      <th>3</th>\n",
       "      <td>0</td>\n",
       "    </tr>\n",
       "    <tr>\n",
       "      <th>4</th>\n",
       "      <td>0</td>\n",
       "    </tr>\n",
       "  </tbody>\n",
       "</table>\n",
       "</div>"
      ],
      "text/plain": [
       "   class\n",
       "0      0\n",
       "1      0\n",
       "2      0\n",
       "3      0\n",
       "4      0"
      ]
     },
     "execution_count": 22,
     "metadata": {},
     "output_type": "execute_result"
    }
   ],
   "source": [
    "class_ca1 = ca1[[\"class\"]]\n",
    "\n",
    "class_ca1.head()"
   ]
  },
  {
   "cell_type": "code",
   "execution_count": 23,
   "id": "138eac20",
   "metadata": {},
   "outputs": [
    {
     "data": {
      "text/plain": [
       "class    60000\n",
       "dtype: int64"
      ]
     },
     "execution_count": 23,
     "metadata": {},
     "output_type": "execute_result"
    }
   ],
   "source": [
    "class_ca1.count()"
   ]
  },
  {
   "cell_type": "code",
   "execution_count": 24,
   "id": "f4ce2776",
   "metadata": {},
   "outputs": [
    {
     "data": {
      "text/plain": [
       "class\n",
       "0        59000\n",
       "1         1000\n",
       "dtype: int64"
      ]
     },
     "execution_count": 24,
     "metadata": {},
     "output_type": "execute_result"
    }
   ],
   "source": [
    "class_ca1.value_counts()"
   ]
  },
  {
   "cell_type": "markdown",
   "id": "4141b6a2",
   "metadata": {},
   "source": [
    "As it was seen before in the histogram, the distribution is skewed to the right concentrating 98.33% of the values in the class \"neg\" (0)."
   ]
  },
  {
   "cell_type": "markdown",
   "id": "ee927a53",
   "metadata": {},
   "source": []
  },
  {
   "cell_type": "markdown",
   "id": "7e20581c",
   "metadata": {},
   "source": [
    "# SPLITTING THE DATASET \n",
    "\n",
    "Splitting the dataset in y (target variable) and X (independent variables) to simplify the next steps."
   ]
  },
  {
   "cell_type": "code",
   "execution_count": 25,
   "id": "8eff9e05",
   "metadata": {},
   "outputs": [
    {
     "data": {
      "text/html": [
       "<div>\n",
       "<style scoped>\n",
       "    .dataframe tbody tr th:only-of-type {\n",
       "        vertical-align: middle;\n",
       "    }\n",
       "\n",
       "    .dataframe tbody tr th {\n",
       "        vertical-align: top;\n",
       "    }\n",
       "\n",
       "    .dataframe thead th {\n",
       "        text-align: right;\n",
       "    }\n",
       "</style>\n",
       "<table border=\"1\" class=\"dataframe\">\n",
       "  <thead>\n",
       "    <tr style=\"text-align: right;\">\n",
       "      <th></th>\n",
       "      <th>aa_000</th>\n",
       "      <th>ab_000</th>\n",
       "      <th>ac_000</th>\n",
       "      <th>ad_000</th>\n",
       "      <th>ae_000</th>\n",
       "      <th>af_000</th>\n",
       "      <th>ag_000</th>\n",
       "      <th>ag_001</th>\n",
       "      <th>ag_002</th>\n",
       "      <th>ag_003</th>\n",
       "      <th>...</th>\n",
       "      <th>ee_002</th>\n",
       "      <th>ee_003</th>\n",
       "      <th>ee_004</th>\n",
       "      <th>ee_005</th>\n",
       "      <th>ee_006</th>\n",
       "      <th>ee_007</th>\n",
       "      <th>ee_008</th>\n",
       "      <th>ee_009</th>\n",
       "      <th>ef_000</th>\n",
       "      <th>eg_000</th>\n",
       "    </tr>\n",
       "  </thead>\n",
       "  <tbody>\n",
       "    <tr>\n",
       "      <th>0</th>\n",
       "      <td>76698</td>\n",
       "      <td>NaN</td>\n",
       "      <td>2.130706e+09</td>\n",
       "      <td>280.0</td>\n",
       "      <td>0.0</td>\n",
       "      <td>0.0</td>\n",
       "      <td>0.0</td>\n",
       "      <td>0.0</td>\n",
       "      <td>0.0</td>\n",
       "      <td>0.0</td>\n",
       "      <td>...</td>\n",
       "      <td>1240520.0</td>\n",
       "      <td>493384.0</td>\n",
       "      <td>721044.0</td>\n",
       "      <td>469792.0</td>\n",
       "      <td>339156.0</td>\n",
       "      <td>157956.0</td>\n",
       "      <td>73224.0</td>\n",
       "      <td>0.0</td>\n",
       "      <td>0.0</td>\n",
       "      <td>0.0</td>\n",
       "    </tr>\n",
       "    <tr>\n",
       "      <th>1</th>\n",
       "      <td>33058</td>\n",
       "      <td>NaN</td>\n",
       "      <td>0.000000e+00</td>\n",
       "      <td>NaN</td>\n",
       "      <td>0.0</td>\n",
       "      <td>0.0</td>\n",
       "      <td>0.0</td>\n",
       "      <td>0.0</td>\n",
       "      <td>0.0</td>\n",
       "      <td>0.0</td>\n",
       "      <td>...</td>\n",
       "      <td>421400.0</td>\n",
       "      <td>178064.0</td>\n",
       "      <td>293306.0</td>\n",
       "      <td>245416.0</td>\n",
       "      <td>133654.0</td>\n",
       "      <td>81140.0</td>\n",
       "      <td>97576.0</td>\n",
       "      <td>1500.0</td>\n",
       "      <td>0.0</td>\n",
       "      <td>0.0</td>\n",
       "    </tr>\n",
       "    <tr>\n",
       "      <th>2</th>\n",
       "      <td>41040</td>\n",
       "      <td>NaN</td>\n",
       "      <td>2.280000e+02</td>\n",
       "      <td>100.0</td>\n",
       "      <td>0.0</td>\n",
       "      <td>0.0</td>\n",
       "      <td>0.0</td>\n",
       "      <td>0.0</td>\n",
       "      <td>0.0</td>\n",
       "      <td>0.0</td>\n",
       "      <td>...</td>\n",
       "      <td>277378.0</td>\n",
       "      <td>159812.0</td>\n",
       "      <td>423992.0</td>\n",
       "      <td>409564.0</td>\n",
       "      <td>320746.0</td>\n",
       "      <td>158022.0</td>\n",
       "      <td>95128.0</td>\n",
       "      <td>514.0</td>\n",
       "      <td>0.0</td>\n",
       "      <td>0.0</td>\n",
       "    </tr>\n",
       "    <tr>\n",
       "      <th>3</th>\n",
       "      <td>12</td>\n",
       "      <td>0.0</td>\n",
       "      <td>7.000000e+01</td>\n",
       "      <td>66.0</td>\n",
       "      <td>0.0</td>\n",
       "      <td>10.0</td>\n",
       "      <td>0.0</td>\n",
       "      <td>0.0</td>\n",
       "      <td>0.0</td>\n",
       "      <td>318.0</td>\n",
       "      <td>...</td>\n",
       "      <td>240.0</td>\n",
       "      <td>46.0</td>\n",
       "      <td>58.0</td>\n",
       "      <td>44.0</td>\n",
       "      <td>10.0</td>\n",
       "      <td>0.0</td>\n",
       "      <td>0.0</td>\n",
       "      <td>0.0</td>\n",
       "      <td>4.0</td>\n",
       "      <td>32.0</td>\n",
       "    </tr>\n",
       "    <tr>\n",
       "      <th>4</th>\n",
       "      <td>60874</td>\n",
       "      <td>NaN</td>\n",
       "      <td>1.368000e+03</td>\n",
       "      <td>458.0</td>\n",
       "      <td>0.0</td>\n",
       "      <td>0.0</td>\n",
       "      <td>0.0</td>\n",
       "      <td>0.0</td>\n",
       "      <td>0.0</td>\n",
       "      <td>0.0</td>\n",
       "      <td>...</td>\n",
       "      <td>622012.0</td>\n",
       "      <td>229790.0</td>\n",
       "      <td>405298.0</td>\n",
       "      <td>347188.0</td>\n",
       "      <td>286954.0</td>\n",
       "      <td>311560.0</td>\n",
       "      <td>433954.0</td>\n",
       "      <td>1218.0</td>\n",
       "      <td>0.0</td>\n",
       "      <td>0.0</td>\n",
       "    </tr>\n",
       "  </tbody>\n",
       "</table>\n",
       "<p>5 rows × 170 columns</p>\n",
       "</div>"
      ],
      "text/plain": [
       "   aa_000  ab_000        ac_000  ad_000  ae_000  af_000  ag_000  ag_001  \\\n",
       "0   76698     NaN  2.130706e+09   280.0     0.0     0.0     0.0     0.0   \n",
       "1   33058     NaN  0.000000e+00     NaN     0.0     0.0     0.0     0.0   \n",
       "2   41040     NaN  2.280000e+02   100.0     0.0     0.0     0.0     0.0   \n",
       "3      12     0.0  7.000000e+01    66.0     0.0    10.0     0.0     0.0   \n",
       "4   60874     NaN  1.368000e+03   458.0     0.0     0.0     0.0     0.0   \n",
       "\n",
       "   ag_002  ag_003  ...     ee_002    ee_003    ee_004    ee_005    ee_006  \\\n",
       "0     0.0     0.0  ...  1240520.0  493384.0  721044.0  469792.0  339156.0   \n",
       "1     0.0     0.0  ...   421400.0  178064.0  293306.0  245416.0  133654.0   \n",
       "2     0.0     0.0  ...   277378.0  159812.0  423992.0  409564.0  320746.0   \n",
       "3     0.0   318.0  ...      240.0      46.0      58.0      44.0      10.0   \n",
       "4     0.0     0.0  ...   622012.0  229790.0  405298.0  347188.0  286954.0   \n",
       "\n",
       "     ee_007    ee_008  ee_009  ef_000  eg_000  \n",
       "0  157956.0   73224.0     0.0     0.0     0.0  \n",
       "1   81140.0   97576.0  1500.0     0.0     0.0  \n",
       "2  158022.0   95128.0   514.0     0.0     0.0  \n",
       "3       0.0       0.0     0.0     4.0    32.0  \n",
       "4  311560.0  433954.0  1218.0     0.0     0.0  \n",
       "\n",
       "[5 rows x 170 columns]"
      ]
     },
     "execution_count": 25,
     "metadata": {},
     "output_type": "execute_result"
    }
   ],
   "source": [
    "ca1_split = ca1.drop([\"class\"], axis = 1)\n",
    "\n",
    "ca1_split.head()"
   ]
  },
  {
   "cell_type": "code",
   "execution_count": 26,
   "id": "20d4456a",
   "metadata": {},
   "outputs": [],
   "source": [
    "X = ca1_split\n",
    "\n",
    "y = class_ca1"
   ]
  },
  {
   "cell_type": "code",
   "execution_count": 27,
   "id": "712cb428",
   "metadata": {},
   "outputs": [
    {
     "data": {
      "text/plain": [
       "class\n",
       "0        59000\n",
       "1         1000\n",
       "dtype: int64"
      ]
     },
     "execution_count": 27,
     "metadata": {},
     "output_type": "execute_result"
    }
   ],
   "source": [
    "y.value_counts()"
   ]
  },
  {
   "cell_type": "code",
   "execution_count": null,
   "id": "6b1d7596",
   "metadata": {},
   "outputs": [],
   "source": []
  },
  {
   "cell_type": "markdown",
   "id": "e63f3943",
   "metadata": {},
   "source": [
    "# DROPPING MISSING VALUES \n",
    "\n",
    "The first experiment with the missing values. How the dataset will look like if all the missing values are dropped? How much information will be lost? Is this the better way to deal with it?"
   ]
  },
  {
   "cell_type": "code",
   "execution_count": 28,
   "id": "2caa886e",
   "metadata": {},
   "outputs": [],
   "source": [
    "ca1_d = ca1.dropna(axis = 0)"
   ]
  },
  {
   "cell_type": "markdown",
   "id": "550528ce",
   "metadata": {},
   "source": [
    "Dropping all the missing values on the rows."
   ]
  },
  {
   "cell_type": "code",
   "execution_count": 29,
   "id": "b07d0d09",
   "metadata": {},
   "outputs": [
    {
     "data": {
      "text/html": [
       "<div>\n",
       "<style scoped>\n",
       "    .dataframe tbody tr th:only-of-type {\n",
       "        vertical-align: middle;\n",
       "    }\n",
       "\n",
       "    .dataframe tbody tr th {\n",
       "        vertical-align: top;\n",
       "    }\n",
       "\n",
       "    .dataframe thead th {\n",
       "        text-align: right;\n",
       "    }\n",
       "</style>\n",
       "<table border=\"1\" class=\"dataframe\">\n",
       "  <thead>\n",
       "    <tr style=\"text-align: right;\">\n",
       "      <th></th>\n",
       "      <th>class</th>\n",
       "      <th>aa_000</th>\n",
       "      <th>ab_000</th>\n",
       "      <th>ac_000</th>\n",
       "      <th>ad_000</th>\n",
       "      <th>ae_000</th>\n",
       "      <th>af_000</th>\n",
       "      <th>ag_000</th>\n",
       "      <th>ag_001</th>\n",
       "      <th>ag_002</th>\n",
       "      <th>...</th>\n",
       "      <th>ee_002</th>\n",
       "      <th>ee_003</th>\n",
       "      <th>ee_004</th>\n",
       "      <th>ee_005</th>\n",
       "      <th>ee_006</th>\n",
       "      <th>ee_007</th>\n",
       "      <th>ee_008</th>\n",
       "      <th>ee_009</th>\n",
       "      <th>ef_000</th>\n",
       "      <th>eg_000</th>\n",
       "    </tr>\n",
       "  </thead>\n",
       "  <tbody>\n",
       "    <tr>\n",
       "      <th>16</th>\n",
       "      <td>0</td>\n",
       "      <td>31300</td>\n",
       "      <td>0.0</td>\n",
       "      <td>784.0</td>\n",
       "      <td>740.0</td>\n",
       "      <td>0.0</td>\n",
       "      <td>0.0</td>\n",
       "      <td>0.0</td>\n",
       "      <td>0.0</td>\n",
       "      <td>0.0</td>\n",
       "      <td>...</td>\n",
       "      <td>798872.0</td>\n",
       "      <td>112724.0</td>\n",
       "      <td>51736.0</td>\n",
       "      <td>7054.0</td>\n",
       "      <td>6628.0</td>\n",
       "      <td>27600.0</td>\n",
       "      <td>2.0</td>\n",
       "      <td>2.0</td>\n",
       "      <td>0.0</td>\n",
       "      <td>0.0</td>\n",
       "    </tr>\n",
       "    <tr>\n",
       "      <th>179</th>\n",
       "      <td>0</td>\n",
       "      <td>97000</td>\n",
       "      <td>0.0</td>\n",
       "      <td>378.0</td>\n",
       "      <td>160.0</td>\n",
       "      <td>0.0</td>\n",
       "      <td>0.0</td>\n",
       "      <td>0.0</td>\n",
       "      <td>0.0</td>\n",
       "      <td>0.0</td>\n",
       "      <td>...</td>\n",
       "      <td>1078982.0</td>\n",
       "      <td>313334.0</td>\n",
       "      <td>511330.0</td>\n",
       "      <td>552328.0</td>\n",
       "      <td>871528.0</td>\n",
       "      <td>871104.0</td>\n",
       "      <td>1980.0</td>\n",
       "      <td>42.0</td>\n",
       "      <td>0.0</td>\n",
       "      <td>0.0</td>\n",
       "    </tr>\n",
       "    <tr>\n",
       "      <th>225</th>\n",
       "      <td>0</td>\n",
       "      <td>124656</td>\n",
       "      <td>2.0</td>\n",
       "      <td>278.0</td>\n",
       "      <td>170.0</td>\n",
       "      <td>0.0</td>\n",
       "      <td>0.0</td>\n",
       "      <td>0.0</td>\n",
       "      <td>0.0</td>\n",
       "      <td>0.0</td>\n",
       "      <td>...</td>\n",
       "      <td>1205696.0</td>\n",
       "      <td>866148.0</td>\n",
       "      <td>697610.0</td>\n",
       "      <td>700400.0</td>\n",
       "      <td>1900386.0</td>\n",
       "      <td>437532.0</td>\n",
       "      <td>3680.0</td>\n",
       "      <td>0.0</td>\n",
       "      <td>0.0</td>\n",
       "      <td>0.0</td>\n",
       "    </tr>\n",
       "    <tr>\n",
       "      <th>394</th>\n",
       "      <td>1</td>\n",
       "      <td>281324</td>\n",
       "      <td>2.0</td>\n",
       "      <td>3762.0</td>\n",
       "      <td>2346.0</td>\n",
       "      <td>0.0</td>\n",
       "      <td>0.0</td>\n",
       "      <td>4808.0</td>\n",
       "      <td>215720.0</td>\n",
       "      <td>967572.0</td>\n",
       "      <td>...</td>\n",
       "      <td>624606.0</td>\n",
       "      <td>269976.0</td>\n",
       "      <td>638838.0</td>\n",
       "      <td>1358354.0</td>\n",
       "      <td>819918.0</td>\n",
       "      <td>262804.0</td>\n",
       "      <td>2824.0</td>\n",
       "      <td>0.0</td>\n",
       "      <td>0.0</td>\n",
       "      <td>0.0</td>\n",
       "    </tr>\n",
       "    <tr>\n",
       "      <th>413</th>\n",
       "      <td>1</td>\n",
       "      <td>43482</td>\n",
       "      <td>0.0</td>\n",
       "      <td>1534.0</td>\n",
       "      <td>1388.0</td>\n",
       "      <td>0.0</td>\n",
       "      <td>0.0</td>\n",
       "      <td>0.0</td>\n",
       "      <td>0.0</td>\n",
       "      <td>40024.0</td>\n",
       "      <td>...</td>\n",
       "      <td>497196.0</td>\n",
       "      <td>121166.0</td>\n",
       "      <td>202272.0</td>\n",
       "      <td>232636.0</td>\n",
       "      <td>645690.0</td>\n",
       "      <td>50.0</td>\n",
       "      <td>0.0</td>\n",
       "      <td>0.0</td>\n",
       "      <td>0.0</td>\n",
       "      <td>0.0</td>\n",
       "    </tr>\n",
       "  </tbody>\n",
       "</table>\n",
       "<p>5 rows × 171 columns</p>\n",
       "</div>"
      ],
      "text/plain": [
       "     class  aa_000  ab_000  ac_000  ad_000  ae_000  af_000  ag_000    ag_001  \\\n",
       "16       0   31300     0.0   784.0   740.0     0.0     0.0     0.0       0.0   \n",
       "179      0   97000     0.0   378.0   160.0     0.0     0.0     0.0       0.0   \n",
       "225      0  124656     2.0   278.0   170.0     0.0     0.0     0.0       0.0   \n",
       "394      1  281324     2.0  3762.0  2346.0     0.0     0.0  4808.0  215720.0   \n",
       "413      1   43482     0.0  1534.0  1388.0     0.0     0.0     0.0       0.0   \n",
       "\n",
       "       ag_002  ...     ee_002    ee_003    ee_004     ee_005     ee_006  \\\n",
       "16        0.0  ...   798872.0  112724.0   51736.0     7054.0     6628.0   \n",
       "179       0.0  ...  1078982.0  313334.0  511330.0   552328.0   871528.0   \n",
       "225       0.0  ...  1205696.0  866148.0  697610.0   700400.0  1900386.0   \n",
       "394  967572.0  ...   624606.0  269976.0  638838.0  1358354.0   819918.0   \n",
       "413   40024.0  ...   497196.0  121166.0  202272.0   232636.0   645690.0   \n",
       "\n",
       "       ee_007  ee_008  ee_009  ef_000  eg_000  \n",
       "16    27600.0     2.0     2.0     0.0     0.0  \n",
       "179  871104.0  1980.0    42.0     0.0     0.0  \n",
       "225  437532.0  3680.0     0.0     0.0     0.0  \n",
       "394  262804.0  2824.0     0.0     0.0     0.0  \n",
       "413      50.0     0.0     0.0     0.0     0.0  \n",
       "\n",
       "[5 rows x 171 columns]"
      ]
     },
     "execution_count": 29,
     "metadata": {},
     "output_type": "execute_result"
    }
   ],
   "source": [
    "ca1_d.head()"
   ]
  },
  {
   "cell_type": "code",
   "execution_count": 30,
   "id": "de76113f",
   "metadata": {},
   "outputs": [
    {
     "data": {
      "text/html": [
       "<div>\n",
       "<style scoped>\n",
       "    .dataframe tbody tr th:only-of-type {\n",
       "        vertical-align: middle;\n",
       "    }\n",
       "\n",
       "    .dataframe tbody tr th {\n",
       "        vertical-align: top;\n",
       "    }\n",
       "\n",
       "    .dataframe thead th {\n",
       "        text-align: right;\n",
       "    }\n",
       "</style>\n",
       "<table border=\"1\" class=\"dataframe\">\n",
       "  <thead>\n",
       "    <tr style=\"text-align: right;\">\n",
       "      <th></th>\n",
       "      <th>class</th>\n",
       "    </tr>\n",
       "  </thead>\n",
       "  <tbody>\n",
       "    <tr>\n",
       "      <th>16</th>\n",
       "      <td>0</td>\n",
       "    </tr>\n",
       "    <tr>\n",
       "      <th>179</th>\n",
       "      <td>0</td>\n",
       "    </tr>\n",
       "    <tr>\n",
       "      <th>225</th>\n",
       "      <td>0</td>\n",
       "    </tr>\n",
       "    <tr>\n",
       "      <th>394</th>\n",
       "      <td>1</td>\n",
       "    </tr>\n",
       "    <tr>\n",
       "      <th>413</th>\n",
       "      <td>1</td>\n",
       "    </tr>\n",
       "  </tbody>\n",
       "</table>\n",
       "</div>"
      ],
      "text/plain": [
       "     class\n",
       "16       0\n",
       "179      0\n",
       "225      0\n",
       "394      1\n",
       "413      1"
      ]
     },
     "execution_count": 30,
     "metadata": {},
     "output_type": "execute_result"
    }
   ],
   "source": [
    "class_d = ca1_d[[\"class\"]]\n",
    "\n",
    "class_d.head()"
   ]
  },
  {
   "cell_type": "code",
   "execution_count": 31,
   "id": "67dd27fa",
   "metadata": {},
   "outputs": [
    {
     "data": {
      "text/plain": [
       "class\n",
       "0        515\n",
       "1         76\n",
       "dtype: int64"
      ]
     },
     "execution_count": 31,
     "metadata": {},
     "output_type": "execute_result"
    }
   ],
   "source": [
    "class_d.value_counts()"
   ]
  },
  {
   "cell_type": "markdown",
   "id": "70135090",
   "metadata": {},
   "source": [
    "Target variable from the dataset without the missing values."
   ]
  },
  {
   "cell_type": "code",
   "execution_count": 32,
   "id": "12e3fca7",
   "metadata": {},
   "outputs": [
    {
     "data": {
      "text/plain": [
       "(591, 171)"
      ]
     },
     "execution_count": 32,
     "metadata": {},
     "output_type": "execute_result"
    }
   ],
   "source": [
    "ca1_d.shape"
   ]
  },
  {
   "cell_type": "markdown",
   "id": "3eaf24f1",
   "metadata": {},
   "source": [
    "The amount of missing values is so massive that the remain dataset will have only 591 rows (0.985%) after removing all the rows with missing values, losing 99.015% of the original dataset. This is a huge loss of information and can be impact negatively in the Machine Learning Model. Further in the analysis I will compare the results of models excluding the missing values with the ones where I replaced them. "
   ]
  },
  {
   "cell_type": "code",
   "execution_count": 33,
   "id": "30e11fd5",
   "metadata": {},
   "outputs": [
    {
     "data": {
      "text/html": [
       "<div>\n",
       "<style scoped>\n",
       "    .dataframe tbody tr th:only-of-type {\n",
       "        vertical-align: middle;\n",
       "    }\n",
       "\n",
       "    .dataframe tbody tr th {\n",
       "        vertical-align: top;\n",
       "    }\n",
       "\n",
       "    .dataframe thead th {\n",
       "        text-align: right;\n",
       "    }\n",
       "</style>\n",
       "<table border=\"1\" class=\"dataframe\">\n",
       "  <thead>\n",
       "    <tr style=\"text-align: right;\">\n",
       "      <th></th>\n",
       "      <th>class</th>\n",
       "      <th>aa_000</th>\n",
       "      <th>ab_000</th>\n",
       "      <th>ac_000</th>\n",
       "      <th>ad_000</th>\n",
       "      <th>ae_000</th>\n",
       "      <th>af_000</th>\n",
       "      <th>ag_000</th>\n",
       "      <th>ag_001</th>\n",
       "      <th>ag_002</th>\n",
       "      <th>...</th>\n",
       "      <th>ee_002</th>\n",
       "      <th>ee_003</th>\n",
       "      <th>ee_004</th>\n",
       "      <th>ee_005</th>\n",
       "      <th>ee_006</th>\n",
       "      <th>ee_007</th>\n",
       "      <th>ee_008</th>\n",
       "      <th>ee_009</th>\n",
       "      <th>ef_000</th>\n",
       "      <th>eg_000</th>\n",
       "    </tr>\n",
       "  </thead>\n",
       "  <tbody>\n",
       "    <tr>\n",
       "      <th>count</th>\n",
       "      <td>591.000000</td>\n",
       "      <td>5.910000e+02</td>\n",
       "      <td>591.00000</td>\n",
       "      <td>5.910000e+02</td>\n",
       "      <td>591.000000</td>\n",
       "      <td>591.000000</td>\n",
       "      <td>591.000000</td>\n",
       "      <td>591.000000</td>\n",
       "      <td>591.000000</td>\n",
       "      <td>5.910000e+02</td>\n",
       "      <td>...</td>\n",
       "      <td>5.910000e+02</td>\n",
       "      <td>5.910000e+02</td>\n",
       "      <td>5.910000e+02</td>\n",
       "      <td>5.910000e+02</td>\n",
       "      <td>5.910000e+02</td>\n",
       "      <td>5.910000e+02</td>\n",
       "      <td>5.910000e+02</td>\n",
       "      <td>591.000000</td>\n",
       "      <td>591.000000</td>\n",
       "      <td>591.000000</td>\n",
       "    </tr>\n",
       "    <tr>\n",
       "      <th>mean</th>\n",
       "      <td>0.128596</td>\n",
       "      <td>2.809300e+05</td>\n",
       "      <td>0.80203</td>\n",
       "      <td>2.451586e+08</td>\n",
       "      <td>908.297800</td>\n",
       "      <td>227.695431</td>\n",
       "      <td>338.355330</td>\n",
       "      <td>45.972927</td>\n",
       "      <td>3922.186125</td>\n",
       "      <td>6.560618e+04</td>\n",
       "      <td>...</td>\n",
       "      <td>1.188929e+06</td>\n",
       "      <td>5.704084e+05</td>\n",
       "      <td>1.156445e+06</td>\n",
       "      <td>1.221455e+06</td>\n",
       "      <td>2.050994e+06</td>\n",
       "      <td>2.206999e+06</td>\n",
       "      <td>4.870669e+04</td>\n",
       "      <td>99.238579</td>\n",
       "      <td>0.439932</td>\n",
       "      <td>2.741117</td>\n",
       "    </tr>\n",
       "    <tr>\n",
       "      <th>std</th>\n",
       "      <td>0.335035</td>\n",
       "      <td>2.242716e+05</td>\n",
       "      <td>4.12677</td>\n",
       "      <td>6.804699e+08</td>\n",
       "      <td>1232.497585</td>\n",
       "      <td>1387.910299</td>\n",
       "      <td>1484.992857</td>\n",
       "      <td>567.505239</td>\n",
       "      <td>30513.434204</td>\n",
       "      <td>3.621030e+05</td>\n",
       "      <td>...</td>\n",
       "      <td>3.378870e+06</td>\n",
       "      <td>1.657034e+06</td>\n",
       "      <td>4.198702e+06</td>\n",
       "      <td>2.441378e+06</td>\n",
       "      <td>2.806046e+06</td>\n",
       "      <td>5.846784e+06</td>\n",
       "      <td>1.216914e+05</td>\n",
       "      <td>544.489432</td>\n",
       "      <td>5.005356</td>\n",
       "      <td>27.278830</td>\n",
       "    </tr>\n",
       "    <tr>\n",
       "      <th>min</th>\n",
       "      <td>0.000000</td>\n",
       "      <td>0.000000e+00</td>\n",
       "      <td>0.00000</td>\n",
       "      <td>0.000000e+00</td>\n",
       "      <td>0.000000</td>\n",
       "      <td>0.000000</td>\n",
       "      <td>0.000000</td>\n",
       "      <td>0.000000</td>\n",
       "      <td>0.000000</td>\n",
       "      <td>0.000000e+00</td>\n",
       "      <td>...</td>\n",
       "      <td>0.000000e+00</td>\n",
       "      <td>0.000000e+00</td>\n",
       "      <td>0.000000e+00</td>\n",
       "      <td>0.000000e+00</td>\n",
       "      <td>0.000000e+00</td>\n",
       "      <td>0.000000e+00</td>\n",
       "      <td>0.000000e+00</td>\n",
       "      <td>0.000000</td>\n",
       "      <td>0.000000</td>\n",
       "      <td>0.000000</td>\n",
       "    </tr>\n",
       "    <tr>\n",
       "      <th>25%</th>\n",
       "      <td>0.000000</td>\n",
       "      <td>1.577120e+05</td>\n",
       "      <td>0.00000</td>\n",
       "      <td>3.770000e+02</td>\n",
       "      <td>195.000000</td>\n",
       "      <td>0.000000</td>\n",
       "      <td>0.000000</td>\n",
       "      <td>0.000000</td>\n",
       "      <td>0.000000</td>\n",
       "      <td>0.000000e+00</td>\n",
       "      <td>...</td>\n",
       "      <td>3.681070e+05</td>\n",
       "      <td>1.648850e+05</td>\n",
       "      <td>3.113240e+05</td>\n",
       "      <td>2.230640e+05</td>\n",
       "      <td>3.545410e+05</td>\n",
       "      <td>1.032010e+05</td>\n",
       "      <td>1.990000e+03</td>\n",
       "      <td>0.000000</td>\n",
       "      <td>0.000000</td>\n",
       "      <td>0.000000</td>\n",
       "    </tr>\n",
       "    <tr>\n",
       "      <th>50%</th>\n",
       "      <td>0.000000</td>\n",
       "      <td>1.952680e+05</td>\n",
       "      <td>0.00000</td>\n",
       "      <td>8.600000e+02</td>\n",
       "      <td>544.000000</td>\n",
       "      <td>0.000000</td>\n",
       "      <td>0.000000</td>\n",
       "      <td>0.000000</td>\n",
       "      <td>0.000000</td>\n",
       "      <td>0.000000e+00</td>\n",
       "      <td>...</td>\n",
       "      <td>7.713860e+05</td>\n",
       "      <td>3.664700e+05</td>\n",
       "      <td>6.812140e+05</td>\n",
       "      <td>6.180840e+05</td>\n",
       "      <td>1.148528e+06</td>\n",
       "      <td>6.797620e+05</td>\n",
       "      <td>1.045200e+04</td>\n",
       "      <td>0.000000</td>\n",
       "      <td>0.000000</td>\n",
       "      <td>0.000000</td>\n",
       "    </tr>\n",
       "    <tr>\n",
       "      <th>75%</th>\n",
       "      <td>0.000000</td>\n",
       "      <td>3.037300e+05</td>\n",
       "      <td>0.00000</td>\n",
       "      <td>2.367000e+03</td>\n",
       "      <td>1070.000000</td>\n",
       "      <td>0.000000</td>\n",
       "      <td>0.000000</td>\n",
       "      <td>0.000000</td>\n",
       "      <td>0.000000</td>\n",
       "      <td>2.124000e+03</td>\n",
       "      <td>...</td>\n",
       "      <td>1.316493e+06</td>\n",
       "      <td>6.130590e+05</td>\n",
       "      <td>1.169780e+06</td>\n",
       "      <td>1.285274e+06</td>\n",
       "      <td>2.649181e+06</td>\n",
       "      <td>2.841454e+06</td>\n",
       "      <td>4.298200e+04</td>\n",
       "      <td>8.000000</td>\n",
       "      <td>0.000000</td>\n",
       "      <td>0.000000</td>\n",
       "    </tr>\n",
       "    <tr>\n",
       "      <th>max</th>\n",
       "      <td>1.000000</td>\n",
       "      <td>1.675586e+06</td>\n",
       "      <td>68.00000</td>\n",
       "      <td>2.130706e+09</td>\n",
       "      <td>8588.000000</td>\n",
       "      <td>21050.000000</td>\n",
       "      <td>20070.000000</td>\n",
       "      <td>8516.000000</td>\n",
       "      <td>484922.000000</td>\n",
       "      <td>6.328192e+06</td>\n",
       "      <td>...</td>\n",
       "      <td>7.793393e+07</td>\n",
       "      <td>3.775839e+07</td>\n",
       "      <td>9.715238e+07</td>\n",
       "      <td>3.411102e+07</td>\n",
       "      <td>2.811407e+07</td>\n",
       "      <td>1.195801e+08</td>\n",
       "      <td>1.626932e+06</td>\n",
       "      <td>8106.000000</td>\n",
       "      <td>86.000000</td>\n",
       "      <td>606.000000</td>\n",
       "    </tr>\n",
       "  </tbody>\n",
       "</table>\n",
       "<p>8 rows × 171 columns</p>\n",
       "</div>"
      ],
      "text/plain": [
       "            class        aa_000     ab_000        ac_000       ad_000  \\\n",
       "count  591.000000  5.910000e+02  591.00000  5.910000e+02   591.000000   \n",
       "mean     0.128596  2.809300e+05    0.80203  2.451586e+08   908.297800   \n",
       "std      0.335035  2.242716e+05    4.12677  6.804699e+08  1232.497585   \n",
       "min      0.000000  0.000000e+00    0.00000  0.000000e+00     0.000000   \n",
       "25%      0.000000  1.577120e+05    0.00000  3.770000e+02   195.000000   \n",
       "50%      0.000000  1.952680e+05    0.00000  8.600000e+02   544.000000   \n",
       "75%      0.000000  3.037300e+05    0.00000  2.367000e+03  1070.000000   \n",
       "max      1.000000  1.675586e+06   68.00000  2.130706e+09  8588.000000   \n",
       "\n",
       "             ae_000        af_000       ag_000         ag_001        ag_002  \\\n",
       "count    591.000000    591.000000   591.000000     591.000000  5.910000e+02   \n",
       "mean     227.695431    338.355330    45.972927    3922.186125  6.560618e+04   \n",
       "std     1387.910299   1484.992857   567.505239   30513.434204  3.621030e+05   \n",
       "min        0.000000      0.000000     0.000000       0.000000  0.000000e+00   \n",
       "25%        0.000000      0.000000     0.000000       0.000000  0.000000e+00   \n",
       "50%        0.000000      0.000000     0.000000       0.000000  0.000000e+00   \n",
       "75%        0.000000      0.000000     0.000000       0.000000  2.124000e+03   \n",
       "max    21050.000000  20070.000000  8516.000000  484922.000000  6.328192e+06   \n",
       "\n",
       "       ...        ee_002        ee_003        ee_004        ee_005  \\\n",
       "count  ...  5.910000e+02  5.910000e+02  5.910000e+02  5.910000e+02   \n",
       "mean   ...  1.188929e+06  5.704084e+05  1.156445e+06  1.221455e+06   \n",
       "std    ...  3.378870e+06  1.657034e+06  4.198702e+06  2.441378e+06   \n",
       "min    ...  0.000000e+00  0.000000e+00  0.000000e+00  0.000000e+00   \n",
       "25%    ...  3.681070e+05  1.648850e+05  3.113240e+05  2.230640e+05   \n",
       "50%    ...  7.713860e+05  3.664700e+05  6.812140e+05  6.180840e+05   \n",
       "75%    ...  1.316493e+06  6.130590e+05  1.169780e+06  1.285274e+06   \n",
       "max    ...  7.793393e+07  3.775839e+07  9.715238e+07  3.411102e+07   \n",
       "\n",
       "             ee_006        ee_007        ee_008       ee_009      ef_000  \\\n",
       "count  5.910000e+02  5.910000e+02  5.910000e+02   591.000000  591.000000   \n",
       "mean   2.050994e+06  2.206999e+06  4.870669e+04    99.238579    0.439932   \n",
       "std    2.806046e+06  5.846784e+06  1.216914e+05   544.489432    5.005356   \n",
       "min    0.000000e+00  0.000000e+00  0.000000e+00     0.000000    0.000000   \n",
       "25%    3.545410e+05  1.032010e+05  1.990000e+03     0.000000    0.000000   \n",
       "50%    1.148528e+06  6.797620e+05  1.045200e+04     0.000000    0.000000   \n",
       "75%    2.649181e+06  2.841454e+06  4.298200e+04     8.000000    0.000000   \n",
       "max    2.811407e+07  1.195801e+08  1.626932e+06  8106.000000   86.000000   \n",
       "\n",
       "           eg_000  \n",
       "count  591.000000  \n",
       "mean     2.741117  \n",
       "std     27.278830  \n",
       "min      0.000000  \n",
       "25%      0.000000  \n",
       "50%      0.000000  \n",
       "75%      0.000000  \n",
       "max    606.000000  \n",
       "\n",
       "[8 rows x 171 columns]"
      ]
     },
     "execution_count": 33,
     "metadata": {},
     "output_type": "execute_result"
    }
   ],
   "source": [
    "ca1_d.describe()"
   ]
  },
  {
   "cell_type": "markdown",
   "id": "5c74aa4e",
   "metadata": {},
   "source": [
    "Even after dropping the missing values the distribution is still skewed to the right with a considerable difference. "
   ]
  },
  {
   "cell_type": "markdown",
   "id": "5711facd",
   "metadata": {},
   "source": [
    "# REPLACING MISSING VALUES WITH THE MEDIAN"
   ]
  },
  {
   "cell_type": "markdown",
   "id": "a5e0cff9",
   "metadata": {},
   "source": [
    "Two important facts that was found on the EDA process is:\n",
    "- The distribution is significant skewed, and;\n",
    "- The amount of missing values is also signigicant. \n",
    "\n",
    "\n",
    "Bias can be introduced in the dataset when using the summary statistics to repaclace the missing values, once the missing values are treated as similar to the non-missing ones (Kumar, 2021). To choose the best imputation techinique it is important to study the dataset and its caracheristics as it was done in the EDA. In this part of the project the Median will be used for imputation due the skewness of distribution of the target variable, once the Median is less sensitive to outliers than the other summary statistics (Kumar, 2021)."
   ]
  },
  {
   "cell_type": "code",
   "execution_count": 34,
   "id": "a8d0241c",
   "metadata": {},
   "outputs": [],
   "source": [
    "X.fillna(X.median(), inplace = True)"
   ]
  },
  {
   "cell_type": "code",
   "execution_count": 35,
   "id": "8cd2bba8",
   "metadata": {},
   "outputs": [
    {
     "data": {
      "text/plain": [
       "(60000, 170)"
      ]
     },
     "execution_count": 35,
     "metadata": {},
     "output_type": "execute_result"
    }
   ],
   "source": [
    "X.shape"
   ]
  },
  {
   "cell_type": "code",
   "execution_count": 36,
   "id": "4f88dc7f",
   "metadata": {},
   "outputs": [
    {
     "data": {
      "text/html": [
       "<div>\n",
       "<style scoped>\n",
       "    .dataframe tbody tr th:only-of-type {\n",
       "        vertical-align: middle;\n",
       "    }\n",
       "\n",
       "    .dataframe tbody tr th {\n",
       "        vertical-align: top;\n",
       "    }\n",
       "\n",
       "    .dataframe thead th {\n",
       "        text-align: right;\n",
       "    }\n",
       "</style>\n",
       "<table border=\"1\" class=\"dataframe\">\n",
       "  <thead>\n",
       "    <tr style=\"text-align: right;\">\n",
       "      <th></th>\n",
       "      <th>aa_000</th>\n",
       "      <th>ab_000</th>\n",
       "      <th>ac_000</th>\n",
       "      <th>ad_000</th>\n",
       "      <th>ae_000</th>\n",
       "      <th>af_000</th>\n",
       "      <th>ag_000</th>\n",
       "      <th>ag_001</th>\n",
       "      <th>ag_002</th>\n",
       "      <th>ag_003</th>\n",
       "      <th>...</th>\n",
       "      <th>ee_002</th>\n",
       "      <th>ee_003</th>\n",
       "      <th>ee_004</th>\n",
       "      <th>ee_005</th>\n",
       "      <th>ee_006</th>\n",
       "      <th>ee_007</th>\n",
       "      <th>ee_008</th>\n",
       "      <th>ee_009</th>\n",
       "      <th>ef_000</th>\n",
       "      <th>eg_000</th>\n",
       "    </tr>\n",
       "  </thead>\n",
       "  <tbody>\n",
       "    <tr>\n",
       "      <th>0</th>\n",
       "      <td>76698</td>\n",
       "      <td>0.0</td>\n",
       "      <td>2.130706e+09</td>\n",
       "      <td>280.0</td>\n",
       "      <td>0.0</td>\n",
       "      <td>0.0</td>\n",
       "      <td>0.0</td>\n",
       "      <td>0.0</td>\n",
       "      <td>0.0</td>\n",
       "      <td>0.0</td>\n",
       "      <td>...</td>\n",
       "      <td>1240520.0</td>\n",
       "      <td>493384.0</td>\n",
       "      <td>721044.0</td>\n",
       "      <td>469792.0</td>\n",
       "      <td>339156.0</td>\n",
       "      <td>157956.0</td>\n",
       "      <td>73224.0</td>\n",
       "      <td>0.0</td>\n",
       "      <td>0.0</td>\n",
       "      <td>0.0</td>\n",
       "    </tr>\n",
       "    <tr>\n",
       "      <th>1</th>\n",
       "      <td>33058</td>\n",
       "      <td>0.0</td>\n",
       "      <td>0.000000e+00</td>\n",
       "      <td>126.0</td>\n",
       "      <td>0.0</td>\n",
       "      <td>0.0</td>\n",
       "      <td>0.0</td>\n",
       "      <td>0.0</td>\n",
       "      <td>0.0</td>\n",
       "      <td>0.0</td>\n",
       "      <td>...</td>\n",
       "      <td>421400.0</td>\n",
       "      <td>178064.0</td>\n",
       "      <td>293306.0</td>\n",
       "      <td>245416.0</td>\n",
       "      <td>133654.0</td>\n",
       "      <td>81140.0</td>\n",
       "      <td>97576.0</td>\n",
       "      <td>1500.0</td>\n",
       "      <td>0.0</td>\n",
       "      <td>0.0</td>\n",
       "    </tr>\n",
       "    <tr>\n",
       "      <th>2</th>\n",
       "      <td>41040</td>\n",
       "      <td>0.0</td>\n",
       "      <td>2.280000e+02</td>\n",
       "      <td>100.0</td>\n",
       "      <td>0.0</td>\n",
       "      <td>0.0</td>\n",
       "      <td>0.0</td>\n",
       "      <td>0.0</td>\n",
       "      <td>0.0</td>\n",
       "      <td>0.0</td>\n",
       "      <td>...</td>\n",
       "      <td>277378.0</td>\n",
       "      <td>159812.0</td>\n",
       "      <td>423992.0</td>\n",
       "      <td>409564.0</td>\n",
       "      <td>320746.0</td>\n",
       "      <td>158022.0</td>\n",
       "      <td>95128.0</td>\n",
       "      <td>514.0</td>\n",
       "      <td>0.0</td>\n",
       "      <td>0.0</td>\n",
       "    </tr>\n",
       "    <tr>\n",
       "      <th>3</th>\n",
       "      <td>12</td>\n",
       "      <td>0.0</td>\n",
       "      <td>7.000000e+01</td>\n",
       "      <td>66.0</td>\n",
       "      <td>0.0</td>\n",
       "      <td>10.0</td>\n",
       "      <td>0.0</td>\n",
       "      <td>0.0</td>\n",
       "      <td>0.0</td>\n",
       "      <td>318.0</td>\n",
       "      <td>...</td>\n",
       "      <td>240.0</td>\n",
       "      <td>46.0</td>\n",
       "      <td>58.0</td>\n",
       "      <td>44.0</td>\n",
       "      <td>10.0</td>\n",
       "      <td>0.0</td>\n",
       "      <td>0.0</td>\n",
       "      <td>0.0</td>\n",
       "      <td>4.0</td>\n",
       "      <td>32.0</td>\n",
       "    </tr>\n",
       "    <tr>\n",
       "      <th>4</th>\n",
       "      <td>60874</td>\n",
       "      <td>0.0</td>\n",
       "      <td>1.368000e+03</td>\n",
       "      <td>458.0</td>\n",
       "      <td>0.0</td>\n",
       "      <td>0.0</td>\n",
       "      <td>0.0</td>\n",
       "      <td>0.0</td>\n",
       "      <td>0.0</td>\n",
       "      <td>0.0</td>\n",
       "      <td>...</td>\n",
       "      <td>622012.0</td>\n",
       "      <td>229790.0</td>\n",
       "      <td>405298.0</td>\n",
       "      <td>347188.0</td>\n",
       "      <td>286954.0</td>\n",
       "      <td>311560.0</td>\n",
       "      <td>433954.0</td>\n",
       "      <td>1218.0</td>\n",
       "      <td>0.0</td>\n",
       "      <td>0.0</td>\n",
       "    </tr>\n",
       "  </tbody>\n",
       "</table>\n",
       "<p>5 rows × 170 columns</p>\n",
       "</div>"
      ],
      "text/plain": [
       "   aa_000  ab_000        ac_000  ad_000  ae_000  af_000  ag_000  ag_001  \\\n",
       "0   76698     0.0  2.130706e+09   280.0     0.0     0.0     0.0     0.0   \n",
       "1   33058     0.0  0.000000e+00   126.0     0.0     0.0     0.0     0.0   \n",
       "2   41040     0.0  2.280000e+02   100.0     0.0     0.0     0.0     0.0   \n",
       "3      12     0.0  7.000000e+01    66.0     0.0    10.0     0.0     0.0   \n",
       "4   60874     0.0  1.368000e+03   458.0     0.0     0.0     0.0     0.0   \n",
       "\n",
       "   ag_002  ag_003  ...     ee_002    ee_003    ee_004    ee_005    ee_006  \\\n",
       "0     0.0     0.0  ...  1240520.0  493384.0  721044.0  469792.0  339156.0   \n",
       "1     0.0     0.0  ...   421400.0  178064.0  293306.0  245416.0  133654.0   \n",
       "2     0.0     0.0  ...   277378.0  159812.0  423992.0  409564.0  320746.0   \n",
       "3     0.0   318.0  ...      240.0      46.0      58.0      44.0      10.0   \n",
       "4     0.0     0.0  ...   622012.0  229790.0  405298.0  347188.0  286954.0   \n",
       "\n",
       "     ee_007    ee_008  ee_009  ef_000  eg_000  \n",
       "0  157956.0   73224.0     0.0     0.0     0.0  \n",
       "1   81140.0   97576.0  1500.0     0.0     0.0  \n",
       "2  158022.0   95128.0   514.0     0.0     0.0  \n",
       "3       0.0       0.0     0.0     4.0    32.0  \n",
       "4  311560.0  433954.0  1218.0     0.0     0.0  \n",
       "\n",
       "[5 rows x 170 columns]"
      ]
     },
     "execution_count": 36,
     "metadata": {},
     "output_type": "execute_result"
    }
   ],
   "source": [
    "X.head()"
   ]
  },
  {
   "cell_type": "code",
   "execution_count": 37,
   "id": "f42cf53d",
   "metadata": {},
   "outputs": [
    {
     "data": {
      "text/html": [
       "<div>\n",
       "<style scoped>\n",
       "    .dataframe tbody tr th:only-of-type {\n",
       "        vertical-align: middle;\n",
       "    }\n",
       "\n",
       "    .dataframe tbody tr th {\n",
       "        vertical-align: top;\n",
       "    }\n",
       "\n",
       "    .dataframe thead th {\n",
       "        text-align: right;\n",
       "    }\n",
       "</style>\n",
       "<table border=\"1\" class=\"dataframe\">\n",
       "  <thead>\n",
       "    <tr style=\"text-align: right;\">\n",
       "      <th></th>\n",
       "      <th>class</th>\n",
       "    </tr>\n",
       "  </thead>\n",
       "  <tbody>\n",
       "    <tr>\n",
       "      <th>0</th>\n",
       "      <td>0</td>\n",
       "    </tr>\n",
       "    <tr>\n",
       "      <th>1</th>\n",
       "      <td>0</td>\n",
       "    </tr>\n",
       "    <tr>\n",
       "      <th>2</th>\n",
       "      <td>0</td>\n",
       "    </tr>\n",
       "    <tr>\n",
       "      <th>3</th>\n",
       "      <td>0</td>\n",
       "    </tr>\n",
       "    <tr>\n",
       "      <th>4</th>\n",
       "      <td>0</td>\n",
       "    </tr>\n",
       "  </tbody>\n",
       "</table>\n",
       "</div>"
      ],
      "text/plain": [
       "   class\n",
       "0      0\n",
       "1      0\n",
       "2      0\n",
       "3      0\n",
       "4      0"
      ]
     },
     "execution_count": 37,
     "metadata": {},
     "output_type": "execute_result"
    }
   ],
   "source": [
    "y.head()"
   ]
  },
  {
   "cell_type": "code",
   "execution_count": 38,
   "id": "7a59806e",
   "metadata": {},
   "outputs": [
    {
     "data": {
      "text/plain": [
       "class\n",
       "0        59000\n",
       "1         1000\n",
       "dtype: int64"
      ]
     },
     "execution_count": 38,
     "metadata": {},
     "output_type": "execute_result"
    }
   ],
   "source": [
    "y.value_counts()"
   ]
  },
  {
   "cell_type": "code",
   "execution_count": null,
   "id": "81cd5716",
   "metadata": {},
   "outputs": [],
   "source": []
  },
  {
   "cell_type": "markdown",
   "id": "4aa967d2",
   "metadata": {},
   "source": [
    "# Standardisation and Variance"
   ]
  },
  {
   "cell_type": "code",
   "execution_count": 39,
   "id": "f70576ba",
   "metadata": {},
   "outputs": [],
   "source": [
    "sc = StandardScaler()\n",
    "\n",
    "X_scaled = sc.fit_transform(X)"
   ]
  },
  {
   "cell_type": "markdown",
   "id": "fe4464d7",
   "metadata": {},
   "source": [
    "The standardisation is an important step so all the variables can contribute equally to the analysis, otherwise the results might be biased once the variables with larger ranges will dominate over the smaller ones. \"Mathematically, this can be done by subtracting the mean and dividing by the standard deviation for each value of each variable.\" (Jaadi, 2019)."
   ]
  },
  {
   "cell_type": "code",
   "execution_count": 40,
   "id": "21997046",
   "metadata": {},
   "outputs": [
    {
     "data": {
      "text/html": [
       "<style>#sk-container-id-1 {color: black;}#sk-container-id-1 pre{padding: 0;}#sk-container-id-1 div.sk-toggleable {background-color: white;}#sk-container-id-1 label.sk-toggleable__label {cursor: pointer;display: block;width: 100%;margin-bottom: 0;padding: 0.3em;box-sizing: border-box;text-align: center;}#sk-container-id-1 label.sk-toggleable__label-arrow:before {content: \"▸\";float: left;margin-right: 0.25em;color: #696969;}#sk-container-id-1 label.sk-toggleable__label-arrow:hover:before {color: black;}#sk-container-id-1 div.sk-estimator:hover label.sk-toggleable__label-arrow:before {color: black;}#sk-container-id-1 div.sk-toggleable__content {max-height: 0;max-width: 0;overflow: hidden;text-align: left;background-color: #f0f8ff;}#sk-container-id-1 div.sk-toggleable__content pre {margin: 0.2em;color: black;border-radius: 0.25em;background-color: #f0f8ff;}#sk-container-id-1 input.sk-toggleable__control:checked~div.sk-toggleable__content {max-height: 200px;max-width: 100%;overflow: auto;}#sk-container-id-1 input.sk-toggleable__control:checked~label.sk-toggleable__label-arrow:before {content: \"▾\";}#sk-container-id-1 div.sk-estimator input.sk-toggleable__control:checked~label.sk-toggleable__label {background-color: #d4ebff;}#sk-container-id-1 div.sk-label input.sk-toggleable__control:checked~label.sk-toggleable__label {background-color: #d4ebff;}#sk-container-id-1 input.sk-hidden--visually {border: 0;clip: rect(1px 1px 1px 1px);clip: rect(1px, 1px, 1px, 1px);height: 1px;margin: -1px;overflow: hidden;padding: 0;position: absolute;width: 1px;}#sk-container-id-1 div.sk-estimator {font-family: monospace;background-color: #f0f8ff;border: 1px dotted black;border-radius: 0.25em;box-sizing: border-box;margin-bottom: 0.5em;}#sk-container-id-1 div.sk-estimator:hover {background-color: #d4ebff;}#sk-container-id-1 div.sk-parallel-item::after {content: \"\";width: 100%;border-bottom: 1px solid gray;flex-grow: 1;}#sk-container-id-1 div.sk-label:hover label.sk-toggleable__label {background-color: #d4ebff;}#sk-container-id-1 div.sk-serial::before {content: \"\";position: absolute;border-left: 1px solid gray;box-sizing: border-box;top: 0;bottom: 0;left: 50%;z-index: 0;}#sk-container-id-1 div.sk-serial {display: flex;flex-direction: column;align-items: center;background-color: white;padding-right: 0.2em;padding-left: 0.2em;position: relative;}#sk-container-id-1 div.sk-item {position: relative;z-index: 1;}#sk-container-id-1 div.sk-parallel {display: flex;align-items: stretch;justify-content: center;background-color: white;position: relative;}#sk-container-id-1 div.sk-item::before, #sk-container-id-1 div.sk-parallel-item::before {content: \"\";position: absolute;border-left: 1px solid gray;box-sizing: border-box;top: 0;bottom: 0;left: 50%;z-index: -1;}#sk-container-id-1 div.sk-parallel-item {display: flex;flex-direction: column;z-index: 1;position: relative;background-color: white;}#sk-container-id-1 div.sk-parallel-item:first-child::after {align-self: flex-end;width: 50%;}#sk-container-id-1 div.sk-parallel-item:last-child::after {align-self: flex-start;width: 50%;}#sk-container-id-1 div.sk-parallel-item:only-child::after {width: 0;}#sk-container-id-1 div.sk-dashed-wrapped {border: 1px dashed gray;margin: 0 0.4em 0.5em 0.4em;box-sizing: border-box;padding-bottom: 0.4em;background-color: white;}#sk-container-id-1 div.sk-label label {font-family: monospace;font-weight: bold;display: inline-block;line-height: 1.2em;}#sk-container-id-1 div.sk-label-container {text-align: center;}#sk-container-id-1 div.sk-container {/* jupyter's `normalize.less` sets `[hidden] { display: none; }` but bootstrap.min.css set `[hidden] { display: none !important; }` so we also need the `!important` here to be able to override the default hidden behavior on the sphinx rendered scikit-learn.org. See: https://github.com/scikit-learn/scikit-learn/issues/21755 */display: inline-block !important;position: relative;}#sk-container-id-1 div.sk-text-repr-fallback {display: none;}</style><div id=\"sk-container-id-1\" class=\"sk-top-container\"><div class=\"sk-text-repr-fallback\"><pre>PCA()</pre><b>In a Jupyter environment, please rerun this cell to show the HTML representation or trust the notebook. <br />On GitHub, the HTML representation is unable to render, please try loading this page with nbviewer.org.</b></div><div class=\"sk-container\" hidden><div class=\"sk-item\"><div class=\"sk-estimator sk-toggleable\"><input class=\"sk-toggleable__control sk-hidden--visually\" id=\"sk-estimator-id-1\" type=\"checkbox\" checked><label for=\"sk-estimator-id-1\" class=\"sk-toggleable__label sk-toggleable__label-arrow\">PCA</label><div class=\"sk-toggleable__content\"><pre>PCA()</pre></div></div></div></div></div>"
      ],
      "text/plain": [
       "PCA()"
      ]
     },
     "execution_count": 40,
     "metadata": {},
     "output_type": "execute_result"
    }
   ],
   "source": [
    "pca = PCA()\n",
    "\n",
    "pca.fit(X_scaled)"
   ]
  },
  {
   "cell_type": "code",
   "execution_count": 41,
   "id": "0bd864cd",
   "metadata": {},
   "outputs": [
    {
     "data": {
      "text/plain": [
       "array([ 28.8,  33.5,  37.8,  41.4,  44.3,  46.7,  48.6,  50.4,  52.2,\n",
       "        53.8,  55.2,  56.6,  57.8,  59. ,  60.1,  61.2,  62.2,  63.2,\n",
       "        64.2,  65.2,  66.1,  67. ,  67.9,  68.8,  69.6,  70.4,  71.2,\n",
       "        71.9,  72.6,  73.3,  74. ,  74.7,  75.4,  76.1,  76.7,  77.3,\n",
       "        77.9,  78.5,  79.1,  79.7,  80.3,  80.9,  81.5,  82.1,  82.7,\n",
       "        83.2,  83.7,  84.2,  84.7,  85.2,  85.7,  86.2,  86.6,  87. ,\n",
       "        87.4,  87.8,  88.2,  88.6,  89. ,  89.4,  89.8,  90.2,  90.6,\n",
       "        90.9,  91.2,  91.5,  91.8,  92.1,  92.4,  92.7,  93. ,  93.3,\n",
       "        93.6,  93.9,  94.1,  94.3,  94.5,  94.7,  94.9,  95.1,  95.3,\n",
       "        95.5,  95.7,  95.9,  96.1,  96.3,  96.5,  96.7,  96.9,  97.1,\n",
       "        97.3,  97.4,  97.5,  97.6,  97.7,  97.8,  97.9,  98. ,  98.1,\n",
       "        98.2,  98.3,  98.4,  98.5,  98.6,  98.7,  98.8,  98.9,  99. ,\n",
       "        99.1,  99.2,  99.3,  99.4,  99.5,  99.6,  99.7,  99.8,  99.9,\n",
       "       100. , 100.1, 100.1, 100.1, 100.1, 100.1, 100.1, 100.1, 100.1,\n",
       "       100.1, 100.1, 100.1, 100.1, 100.1, 100.1, 100.1, 100.1, 100.1,\n",
       "       100.1, 100.1, 100.1, 100.1, 100.1, 100.1, 100.1, 100.1, 100.1,\n",
       "       100.1, 100.1, 100.1, 100.1, 100.1, 100.1, 100.1, 100.1, 100.1,\n",
       "       100.1, 100.1, 100.1, 100.1, 100.1, 100.1, 100.1, 100.1, 100.1,\n",
       "       100.1, 100.1, 100.1, 100.1, 100.1, 100.1, 100.1, 100.1])"
      ]
     },
     "execution_count": 41,
     "metadata": {},
     "output_type": "execute_result"
    }
   ],
   "source": [
    "variance = pca.explained_variance_ratio_\n",
    "\n",
    "var = np.cumsum(np.round(pca.explained_variance_ratio_, decimals = 3)*100)\n",
    "\n",
    "var"
   ]
  },
  {
   "cell_type": "markdown",
   "id": "ab8bebc7",
   "metadata": {},
   "source": [
    "One of the tasks of this project is to find how many variables is needed to retain 99.5% of the variance.\n",
    "\n",
    "The array above shows the cumulative variance of the principal components. "
   ]
  },
  {
   "cell_type": "code",
   "execution_count": 42,
   "id": "fd584306",
   "metadata": {},
   "outputs": [
    {
     "data": {
      "text/plain": [
       "array([2.87521300e-01, 4.72864002e-02, 4.27757709e-02, 3.58113416e-02,\n",
       "       2.89658247e-02, 2.35472479e-02, 1.94878785e-02, 1.77520475e-02,\n",
       "       1.76110981e-02, 1.55473175e-02, 1.43068410e-02, 1.38910181e-02,\n",
       "       1.22921487e-02, 1.16914706e-02, 1.13712329e-02, 1.08604104e-02,\n",
       "       1.02075946e-02, 1.01106996e-02, 9.74146397e-03, 9.71715168e-03,\n",
       "       9.39142994e-03, 9.17687746e-03, 8.99566132e-03, 8.74410079e-03,\n",
       "       7.89393561e-03, 7.75902494e-03, 7.61637993e-03, 7.26672826e-03,\n",
       "       7.11572100e-03, 6.95314996e-03, 6.88894067e-03, 6.76859988e-03,\n",
       "       6.63880204e-03, 6.51154993e-03, 6.48354384e-03, 6.40318063e-03,\n",
       "       6.16452932e-03, 6.01861287e-03, 5.93526314e-03, 5.91136569e-03,\n",
       "       5.84779072e-03, 5.75104975e-03, 5.62839734e-03, 5.60688893e-03,\n",
       "       5.54007234e-03, 5.44528556e-03, 5.29056163e-03, 5.20895385e-03,\n",
       "       4.93001133e-03, 4.86366740e-03, 4.60297435e-03, 4.54322921e-03,\n",
       "       4.45017521e-03, 4.29155708e-03, 4.24309885e-03, 4.16235535e-03,\n",
       "       4.08714580e-03, 3.97959748e-03, 3.92281554e-03, 3.74133552e-03,\n",
       "       3.66111393e-03, 3.60059856e-03, 3.56324552e-03, 3.40224825e-03,\n",
       "       3.37929637e-03, 3.30921930e-03, 3.14446091e-03, 3.01188572e-03,\n",
       "       2.88662599e-03, 2.82321345e-03, 2.73824716e-03, 2.65027214e-03,\n",
       "       2.56872744e-03, 2.53010337e-03, 2.44011312e-03, 2.35511794e-03,\n",
       "       2.27381013e-03, 2.16871800e-03, 2.11549485e-03, 2.09610668e-03,\n",
       "       2.03093353e-03, 2.00460315e-03, 1.98275723e-03, 1.86564691e-03,\n",
       "       1.85084882e-03, 1.74818868e-03, 1.72278134e-03, 1.64492588e-03,\n",
       "       1.58939825e-03, 1.53453023e-03, 1.50169708e-03, 1.44188094e-03,\n",
       "       1.37421069e-03, 1.34160305e-03, 1.27527232e-03, 1.18046057e-03,\n",
       "       1.13617526e-03, 1.12832835e-03, 1.10030547e-03, 1.06559461e-03,\n",
       "       1.04406981e-03, 1.04146236e-03, 1.00577066e-03, 9.99336652e-04,\n",
       "       9.47740001e-04, 9.34659477e-04, 9.21414512e-04, 8.98370732e-04,\n",
       "       8.31421380e-04, 7.59731444e-04, 7.32665391e-04, 6.92154572e-04,\n",
       "       6.60606829e-04, 6.48988788e-04, 6.08529148e-04, 6.03726494e-04,\n",
       "       5.82776310e-04, 5.68538445e-04, 5.37150280e-04, 4.64302103e-04,\n",
       "       4.49791307e-04, 4.29037614e-04, 4.05373662e-04, 3.73611574e-04,\n",
       "       3.56274605e-04, 3.34519278e-04, 2.81698154e-04, 2.75406664e-04,\n",
       "       2.57187188e-04, 2.42922508e-04, 2.37730711e-04, 2.03202439e-04,\n",
       "       1.96993161e-04, 1.69038224e-04, 1.64417019e-04, 1.54864304e-04,\n",
       "       1.34437443e-04, 1.23715605e-04, 1.19997554e-04, 1.05488613e-04,\n",
       "       1.00997370e-04, 9.82328709e-05, 9.51965474e-05, 8.75680477e-05,\n",
       "       8.55565501e-05, 7.63098351e-05, 7.28474500e-05, 6.87432763e-05,\n",
       "       5.82431105e-05, 5.68796038e-05, 5.46747268e-05, 3.84366710e-05,\n",
       "       2.41872647e-05, 2.02459559e-05, 1.91937186e-05, 1.78550159e-05,\n",
       "       6.96751646e-06, 6.31553541e-06, 1.42254758e-06, 1.33387606e-06,\n",
       "       1.63943670e-07, 1.18621143e-07, 4.20417877e-09, 2.79376015e-09,\n",
       "       3.70133201e-10, 1.64610579e-11, 2.44025560e-12, 7.24573889e-14,\n",
       "       5.50156609e-15, 2.24815538e-33])"
      ]
     },
     "execution_count": 42,
     "metadata": {},
     "output_type": "execute_result"
    }
   ],
   "source": [
    "pca.explained_variance_ratio_"
   ]
  },
  {
   "cell_type": "markdown",
   "id": "d20a28af",
   "metadata": {},
   "source": [
    "The individual variance of each principal component. As the dataset has 171 features it is difficult to analyse each result. For this reason the cumulative variance and the next graphic will be more useful for the decision on how many components is needed."
   ]
  },
  {
   "cell_type": "code",
   "execution_count": 43,
   "id": "9db1c19e",
   "metadata": {},
   "outputs": [
    {
     "data": {
      "image/png": "[encoded data removed]",
      "text/plain": [
       "<Figure size 640x480 with 1 Axes>"
      ]
     },
     "metadata": {},
     "output_type": "display_data"
    }
   ],
   "source": [
    "plt.figure()\n",
    "plt.plot(np.cumsum(pca.explained_variance_ratio_))\n",
    "plt.xlabel(\"Number of Components\")\n",
    "plt.ylabel(\"Variance (%)\")\n",
    "plt.title(\"Train Dataset Explained Variance\")\n",
    "plt.show()"
   ]
  },
  {
   "cell_type": "markdown",
   "id": "09dccde0",
   "metadata": {},
   "source": [
    "The graph shows that to get 100% variance the minimum amount of components is 125 and to get the \n",
    "\n",
    "\n",
    "In this graph we can see that we can get 100% variance with 125 components, and something between 95% and 100% with 100 components. "
   ]
  },
  {
   "cell_type": "code",
   "execution_count": 44,
   "id": "9df229d7",
   "metadata": {},
   "outputs": [
    {
     "name": "stdout",
     "output_type": "stream",
     "text": [
      "comvat from PCA:\n",
      "[[ 1.00001667e+00  1.40856374e-02 -6.38774595e-02 ...  2.47153607e-01\n",
      "   1.24087718e-02  2.43878095e-02]\n",
      " [ 1.40856374e-02  1.00001667e+00 -2.12835630e-03 ... -1.62475716e-02\n",
      "   5.62720836e-02  1.06362225e-01]\n",
      " [-6.38774595e-02 -2.12835630e-03  1.00001667e+00 ...  1.37644263e-02\n",
      "  -6.26212934e-03  1.47471475e-02]\n",
      " ...\n",
      " [ 2.47153607e-01 -1.62475716e-02  1.37644263e-02 ...  1.00001667e+00\n",
      "  -3.43901873e-03 -9.71000041e-04]\n",
      " [ 1.24087718e-02  5.62720836e-02 -6.26212934e-03 ... -3.43901873e-03\n",
      "   1.00001667e+00  2.82205226e-01]\n",
      " [ 2.43878095e-02  1.06362225e-01  1.47471475e-02 ... -9.71000041e-04\n",
      "   2.82205226e-01  1.00001667e+00]]\n"
     ]
    }
   ],
   "source": [
    "computed_covmat = pca.get_covariance()\n",
    "\n",
    "print(\"comvat from PCA:\")\n",
    "\n",
    "print(\"{}\".format(computed_covmat))"
   ]
  },
  {
   "cell_type": "markdown",
   "id": "a90735ee",
   "metadata": {},
   "source": [
    "This matrix shows the variance between the variables. However, as it was discussed before, it is difficult to analyse this due the amount of features of the dataset. The matrix and a heatmap could be useful for a analysis in a smaller dataset."
   ]
  },
  {
   "cell_type": "markdown",
   "id": "8453c3cc",
   "metadata": {},
   "source": [
    "# APPLYING PCA\n",
    "\n",
    "\n",
    "\n",
    "The earlier steps \n"
   ]
  },
  {
   "cell_type": "code",
   "execution_count": 45,
   "id": "4fc0cb18",
   "metadata": {},
   "outputs": [],
   "source": [
    "pca = PCA(n_components = 100)\n",
    "\n",
    "ca1_pca = pca.fit_transform(X_scaled)"
   ]
  },
  {
   "cell_type": "markdown",
   "id": "a8b86242",
   "metadata": {},
   "source": [
    "i am passing my data frame in the pca algorithm so it can analise, and I do this with the data fram without the target variable.\n",
    "\n",
    "X is all the features except the class"
   ]
  },
  {
   "cell_type": "code",
   "execution_count": 46,
   "id": "852ccdd8",
   "metadata": {},
   "outputs": [
    {
     "data": {
      "text/html": [
       "<div>\n",
       "<style scoped>\n",
       "    .dataframe tbody tr th:only-of-type {\n",
       "        vertical-align: middle;\n",
       "    }\n",
       "\n",
       "    .dataframe tbody tr th {\n",
       "        vertical-align: top;\n",
       "    }\n",
       "\n",
       "    .dataframe thead th {\n",
       "        text-align: right;\n",
       "    }\n",
       "</style>\n",
       "<table border=\"1\" class=\"dataframe\">\n",
       "  <thead>\n",
       "    <tr style=\"text-align: right;\">\n",
       "      <th></th>\n",
       "      <th>0</th>\n",
       "      <th>1</th>\n",
       "      <th>2</th>\n",
       "      <th>3</th>\n",
       "      <th>4</th>\n",
       "      <th>5</th>\n",
       "      <th>6</th>\n",
       "      <th>7</th>\n",
       "      <th>8</th>\n",
       "      <th>9</th>\n",
       "      <th>...</th>\n",
       "      <th>90</th>\n",
       "      <th>91</th>\n",
       "      <th>92</th>\n",
       "      <th>93</th>\n",
       "      <th>94</th>\n",
       "      <th>95</th>\n",
       "      <th>96</th>\n",
       "      <th>97</th>\n",
       "      <th>98</th>\n",
       "      <th>99</th>\n",
       "    </tr>\n",
       "  </thead>\n",
       "  <tbody>\n",
       "    <tr>\n",
       "      <th>0</th>\n",
       "      <td>2.374500</td>\n",
       "      <td>-1.127649</td>\n",
       "      <td>-0.870419</td>\n",
       "      <td>1.728910</td>\n",
       "      <td>-0.061791</td>\n",
       "      <td>0.755184</td>\n",
       "      <td>0.397274</td>\n",
       "      <td>0.002816</td>\n",
       "      <td>-0.358144</td>\n",
       "      <td>-1.403680</td>\n",
       "      <td>...</td>\n",
       "      <td>-0.146177</td>\n",
       "      <td>0.253358</td>\n",
       "      <td>0.256650</td>\n",
       "      <td>0.038775</td>\n",
       "      <td>-0.269108</td>\n",
       "      <td>-0.324284</td>\n",
       "      <td>0.036295</td>\n",
       "      <td>-0.228707</td>\n",
       "      <td>0.020121</td>\n",
       "      <td>0.485833</td>\n",
       "    </tr>\n",
       "    <tr>\n",
       "      <th>1</th>\n",
       "      <td>-0.615524</td>\n",
       "      <td>-0.550443</td>\n",
       "      <td>-0.035569</td>\n",
       "      <td>0.088882</td>\n",
       "      <td>-0.137165</td>\n",
       "      <td>0.109338</td>\n",
       "      <td>0.174649</td>\n",
       "      <td>-0.006077</td>\n",
       "      <td>0.139656</td>\n",
       "      <td>0.244999</td>\n",
       "      <td>...</td>\n",
       "      <td>-0.330884</td>\n",
       "      <td>-0.224547</td>\n",
       "      <td>-0.078236</td>\n",
       "      <td>-0.355783</td>\n",
       "      <td>0.198965</td>\n",
       "      <td>0.222383</td>\n",
       "      <td>0.447151</td>\n",
       "      <td>0.281750</td>\n",
       "      <td>0.059693</td>\n",
       "      <td>0.062094</td>\n",
       "    </tr>\n",
       "    <tr>\n",
       "      <th>2</th>\n",
       "      <td>-1.205852</td>\n",
       "      <td>-0.059721</td>\n",
       "      <td>-0.771610</td>\n",
       "      <td>-0.500972</td>\n",
       "      <td>-0.038004</td>\n",
       "      <td>0.089637</td>\n",
       "      <td>-0.081018</td>\n",
       "      <td>-0.017045</td>\n",
       "      <td>-0.107396</td>\n",
       "      <td>0.156670</td>\n",
       "      <td>...</td>\n",
       "      <td>0.044133</td>\n",
       "      <td>0.008055</td>\n",
       "      <td>-0.055281</td>\n",
       "      <td>0.047602</td>\n",
       "      <td>0.000161</td>\n",
       "      <td>-0.060874</td>\n",
       "      <td>-0.057562</td>\n",
       "      <td>-0.001846</td>\n",
       "      <td>0.004258</td>\n",
       "      <td>-0.059551</td>\n",
       "    </tr>\n",
       "    <tr>\n",
       "      <th>3</th>\n",
       "      <td>-3.188903</td>\n",
       "      <td>0.251461</td>\n",
       "      <td>-0.285778</td>\n",
       "      <td>-0.869549</td>\n",
       "      <td>0.327271</td>\n",
       "      <td>-0.241293</td>\n",
       "      <td>-0.238053</td>\n",
       "      <td>-0.020669</td>\n",
       "      <td>0.583821</td>\n",
       "      <td>1.030810</td>\n",
       "      <td>...</td>\n",
       "      <td>0.013232</td>\n",
       "      <td>0.015341</td>\n",
       "      <td>-0.003729</td>\n",
       "      <td>-0.013071</td>\n",
       "      <td>-0.013006</td>\n",
       "      <td>0.040135</td>\n",
       "      <td>-0.002297</td>\n",
       "      <td>-0.044152</td>\n",
       "      <td>-0.026773</td>\n",
       "      <td>-0.009745</td>\n",
       "    </tr>\n",
       "    <tr>\n",
       "      <th>4</th>\n",
       "      <td>0.323156</td>\n",
       "      <td>-0.064226</td>\n",
       "      <td>-0.612063</td>\n",
       "      <td>0.688140</td>\n",
       "      <td>-0.565306</td>\n",
       "      <td>0.215714</td>\n",
       "      <td>0.068441</td>\n",
       "      <td>0.007874</td>\n",
       "      <td>-0.514091</td>\n",
       "      <td>-1.137269</td>\n",
       "      <td>...</td>\n",
       "      <td>0.022955</td>\n",
       "      <td>0.220627</td>\n",
       "      <td>0.197904</td>\n",
       "      <td>0.023299</td>\n",
       "      <td>0.019060</td>\n",
       "      <td>-0.093501</td>\n",
       "      <td>0.035612</td>\n",
       "      <td>0.264393</td>\n",
       "      <td>0.119812</td>\n",
       "      <td>-0.262454</td>\n",
       "    </tr>\n",
       "  </tbody>\n",
       "</table>\n",
       "<p>5 rows × 100 columns</p>\n",
       "</div>"
      ],
      "text/plain": [
       "         0         1         2         3         4         5         6   \\\n",
       "0  2.374500 -1.127649 -0.870419  1.728910 -0.061791  0.755184  0.397274   \n",
       "1 -0.615524 -0.550443 -0.035569  0.088882 -0.137165  0.109338  0.174649   \n",
       "2 -1.205852 -0.059721 -0.771610 -0.500972 -0.038004  0.089637 -0.081018   \n",
       "3 -3.188903  0.251461 -0.285778 -0.869549  0.327271 -0.241293 -0.238053   \n",
       "4  0.323156 -0.064226 -0.612063  0.688140 -0.565306  0.215714  0.068441   \n",
       "\n",
       "         7         8         9   ...        90        91        92        93  \\\n",
       "0  0.002816 -0.358144 -1.403680  ... -0.146177  0.253358  0.256650  0.038775   \n",
       "1 -0.006077  0.139656  0.244999  ... -0.330884 -0.224547 -0.078236 -0.355783   \n",
       "2 -0.017045 -0.107396  0.156670  ...  0.044133  0.008055 -0.055281  0.047602   \n",
       "3 -0.020669  0.583821  1.030810  ...  0.013232  0.015341 -0.003729 -0.013071   \n",
       "4  0.007874 -0.514091 -1.137269  ...  0.022955  0.220627  0.197904  0.023299   \n",
       "\n",
       "         94        95        96        97        98        99  \n",
       "0 -0.269108 -0.324284  0.036295 -0.228707  0.020121  0.485833  \n",
       "1  0.198965  0.222383  0.447151  0.281750  0.059693  0.062094  \n",
       "2  0.000161 -0.060874 -0.057562 -0.001846  0.004258 -0.059551  \n",
       "3 -0.013006  0.040135 -0.002297 -0.044152 -0.026773 -0.009745  \n",
       "4  0.019060 -0.093501  0.035612  0.264393  0.119812 -0.262454  \n",
       "\n",
       "[5 rows x 100 columns]"
      ]
     },
     "execution_count": 46,
     "metadata": {},
     "output_type": "execute_result"
    }
   ],
   "source": [
    "ca1_pca = pd.DataFrame(ca1_pca)\n",
    "\n",
    "ca1_pca.head()"
   ]
  },
  {
   "cell_type": "code",
   "execution_count": 47,
   "id": "dc467795",
   "metadata": {},
   "outputs": [
    {
     "data": {
      "text/html": [
       "<div>\n",
       "<style scoped>\n",
       "    .dataframe tbody tr th:only-of-type {\n",
       "        vertical-align: middle;\n",
       "    }\n",
       "\n",
       "    .dataframe tbody tr th {\n",
       "        vertical-align: top;\n",
       "    }\n",
       "\n",
       "    .dataframe thead th {\n",
       "        text-align: right;\n",
       "    }\n",
       "</style>\n",
       "<table border=\"1\" class=\"dataframe\">\n",
       "  <thead>\n",
       "    <tr style=\"text-align: right;\">\n",
       "      <th></th>\n",
       "      <th>0</th>\n",
       "      <th>1</th>\n",
       "      <th>2</th>\n",
       "      <th>3</th>\n",
       "      <th>4</th>\n",
       "      <th>5</th>\n",
       "      <th>6</th>\n",
       "      <th>7</th>\n",
       "      <th>8</th>\n",
       "      <th>9</th>\n",
       "      <th>...</th>\n",
       "      <th>91</th>\n",
       "      <th>92</th>\n",
       "      <th>93</th>\n",
       "      <th>94</th>\n",
       "      <th>95</th>\n",
       "      <th>96</th>\n",
       "      <th>97</th>\n",
       "      <th>98</th>\n",
       "      <th>99</th>\n",
       "      <th>class</th>\n",
       "    </tr>\n",
       "  </thead>\n",
       "  <tbody>\n",
       "    <tr>\n",
       "      <th>0</th>\n",
       "      <td>2.374500</td>\n",
       "      <td>-1.127649</td>\n",
       "      <td>-0.870419</td>\n",
       "      <td>1.728910</td>\n",
       "      <td>-0.061791</td>\n",
       "      <td>0.755184</td>\n",
       "      <td>0.397274</td>\n",
       "      <td>0.002816</td>\n",
       "      <td>-0.358144</td>\n",
       "      <td>-1.403680</td>\n",
       "      <td>...</td>\n",
       "      <td>0.253358</td>\n",
       "      <td>0.256650</td>\n",
       "      <td>0.038775</td>\n",
       "      <td>-0.269108</td>\n",
       "      <td>-0.324284</td>\n",
       "      <td>0.036295</td>\n",
       "      <td>-0.228707</td>\n",
       "      <td>0.020121</td>\n",
       "      <td>0.485833</td>\n",
       "      <td>0</td>\n",
       "    </tr>\n",
       "    <tr>\n",
       "      <th>1</th>\n",
       "      <td>-0.615524</td>\n",
       "      <td>-0.550443</td>\n",
       "      <td>-0.035569</td>\n",
       "      <td>0.088882</td>\n",
       "      <td>-0.137165</td>\n",
       "      <td>0.109338</td>\n",
       "      <td>0.174649</td>\n",
       "      <td>-0.006077</td>\n",
       "      <td>0.139656</td>\n",
       "      <td>0.244999</td>\n",
       "      <td>...</td>\n",
       "      <td>-0.224547</td>\n",
       "      <td>-0.078236</td>\n",
       "      <td>-0.355783</td>\n",
       "      <td>0.198965</td>\n",
       "      <td>0.222383</td>\n",
       "      <td>0.447151</td>\n",
       "      <td>0.281750</td>\n",
       "      <td>0.059693</td>\n",
       "      <td>0.062094</td>\n",
       "      <td>0</td>\n",
       "    </tr>\n",
       "    <tr>\n",
       "      <th>2</th>\n",
       "      <td>-1.205852</td>\n",
       "      <td>-0.059721</td>\n",
       "      <td>-0.771610</td>\n",
       "      <td>-0.500972</td>\n",
       "      <td>-0.038004</td>\n",
       "      <td>0.089637</td>\n",
       "      <td>-0.081018</td>\n",
       "      <td>-0.017045</td>\n",
       "      <td>-0.107396</td>\n",
       "      <td>0.156670</td>\n",
       "      <td>...</td>\n",
       "      <td>0.008055</td>\n",
       "      <td>-0.055281</td>\n",
       "      <td>0.047602</td>\n",
       "      <td>0.000161</td>\n",
       "      <td>-0.060874</td>\n",
       "      <td>-0.057562</td>\n",
       "      <td>-0.001846</td>\n",
       "      <td>0.004258</td>\n",
       "      <td>-0.059551</td>\n",
       "      <td>0</td>\n",
       "    </tr>\n",
       "    <tr>\n",
       "      <th>3</th>\n",
       "      <td>-3.188903</td>\n",
       "      <td>0.251461</td>\n",
       "      <td>-0.285778</td>\n",
       "      <td>-0.869549</td>\n",
       "      <td>0.327271</td>\n",
       "      <td>-0.241293</td>\n",
       "      <td>-0.238053</td>\n",
       "      <td>-0.020669</td>\n",
       "      <td>0.583821</td>\n",
       "      <td>1.030810</td>\n",
       "      <td>...</td>\n",
       "      <td>0.015341</td>\n",
       "      <td>-0.003729</td>\n",
       "      <td>-0.013071</td>\n",
       "      <td>-0.013006</td>\n",
       "      <td>0.040135</td>\n",
       "      <td>-0.002297</td>\n",
       "      <td>-0.044152</td>\n",
       "      <td>-0.026773</td>\n",
       "      <td>-0.009745</td>\n",
       "      <td>0</td>\n",
       "    </tr>\n",
       "    <tr>\n",
       "      <th>4</th>\n",
       "      <td>0.323156</td>\n",
       "      <td>-0.064226</td>\n",
       "      <td>-0.612063</td>\n",
       "      <td>0.688140</td>\n",
       "      <td>-0.565306</td>\n",
       "      <td>0.215714</td>\n",
       "      <td>0.068441</td>\n",
       "      <td>0.007874</td>\n",
       "      <td>-0.514091</td>\n",
       "      <td>-1.137269</td>\n",
       "      <td>...</td>\n",
       "      <td>0.220627</td>\n",
       "      <td>0.197904</td>\n",
       "      <td>0.023299</td>\n",
       "      <td>0.019060</td>\n",
       "      <td>-0.093501</td>\n",
       "      <td>0.035612</td>\n",
       "      <td>0.264393</td>\n",
       "      <td>0.119812</td>\n",
       "      <td>-0.262454</td>\n",
       "      <td>0</td>\n",
       "    </tr>\n",
       "  </tbody>\n",
       "</table>\n",
       "<p>5 rows × 101 columns</p>\n",
       "</div>"
      ],
      "text/plain": [
       "          0         1         2         3         4         5         6  \\\n",
       "0  2.374500 -1.127649 -0.870419  1.728910 -0.061791  0.755184  0.397274   \n",
       "1 -0.615524 -0.550443 -0.035569  0.088882 -0.137165  0.109338  0.174649   \n",
       "2 -1.205852 -0.059721 -0.771610 -0.500972 -0.038004  0.089637 -0.081018   \n",
       "3 -3.188903  0.251461 -0.285778 -0.869549  0.327271 -0.241293 -0.238053   \n",
       "4  0.323156 -0.064226 -0.612063  0.688140 -0.565306  0.215714  0.068441   \n",
       "\n",
       "          7         8         9  ...        91        92        93        94  \\\n",
       "0  0.002816 -0.358144 -1.403680  ...  0.253358  0.256650  0.038775 -0.269108   \n",
       "1 -0.006077  0.139656  0.244999  ... -0.224547 -0.078236 -0.355783  0.198965   \n",
       "2 -0.017045 -0.107396  0.156670  ...  0.008055 -0.055281  0.047602  0.000161   \n",
       "3 -0.020669  0.583821  1.030810  ...  0.015341 -0.003729 -0.013071 -0.013006   \n",
       "4  0.007874 -0.514091 -1.137269  ...  0.220627  0.197904  0.023299  0.019060   \n",
       "\n",
       "         95        96        97        98        99  class  \n",
       "0 -0.324284  0.036295 -0.228707  0.020121  0.485833      0  \n",
       "1  0.222383  0.447151  0.281750  0.059693  0.062094      0  \n",
       "2 -0.060874 -0.057562 -0.001846  0.004258 -0.059551      0  \n",
       "3  0.040135 -0.002297 -0.044152 -0.026773 -0.009745      0  \n",
       "4 -0.093501  0.035612  0.264393  0.119812 -0.262454      0  \n",
       "\n",
       "[5 rows x 101 columns]"
      ]
     },
     "execution_count": 47,
     "metadata": {},
     "output_type": "execute_result"
    }
   ],
   "source": [
    "ca1_concat = pd.concat([ca1_pca, y[[\"class\"]]], axis = 1)\n",
    "\n",
    "ca1_concat.head()"
   ]
  },
  {
   "cell_type": "markdown",
   "id": "f9333e2f",
   "metadata": {},
   "source": [
    "# SPLITTING AND TRAINING OUR MODEL"
   ]
  },
  {
   "cell_type": "code",
   "execution_count": 48,
   "id": "5ff7e246",
   "metadata": {},
   "outputs": [],
   "source": [
    "ca1_array = ca1_concat.values"
   ]
  },
  {
   "cell_type": "code",
   "execution_count": 49,
   "id": "7299805e",
   "metadata": {},
   "outputs": [],
   "source": [
    "X = ca1_array[:,0:100]\n",
    "\n",
    "y = ca1_array[:,100]"
   ]
  },
  {
   "cell_type": "code",
   "execution_count": 50,
   "id": "347fa063",
   "metadata": {},
   "outputs": [
    {
     "data": {
      "text/plain": [
       "array([0., 0., 0., ..., 0., 0., 0.])"
      ]
     },
     "execution_count": 50,
     "metadata": {},
     "output_type": "execute_result"
    }
   ],
   "source": [
    "y"
   ]
  },
  {
   "cell_type": "code",
   "execution_count": 51,
   "id": "8c8280b0",
   "metadata": {
    "scrolled": true
   },
   "outputs": [
    {
     "data": {
      "text/plain": [
       "array([[ 2.37449964e+00, -1.12764943e+00, -8.70419273e-01, ...,\n",
       "        -2.28706703e-01,  2.01214284e-02,  4.85832562e-01],\n",
       "       [-6.15523996e-01, -5.50442549e-01, -3.55693313e-02, ...,\n",
       "         2.81749592e-01,  5.96931320e-02,  6.20936668e-02],\n",
       "       [-1.20585236e+00, -5.97210920e-02, -7.71610133e-01, ...,\n",
       "        -1.84594029e-03,  4.25807638e-03, -5.95505806e-02],\n",
       "       ...,\n",
       "       [-3.20040141e+00,  1.66400831e-01, -4.14852757e-01, ...,\n",
       "        -2.05482426e-02, -1.15153580e-01, -1.02303434e-02],\n",
       "       [ 2.38351419e+00, -2.50409802e+00, -1.14449437e+00, ...,\n",
       "        -8.29958909e-01,  5.35760616e-01,  1.33464462e+00],\n",
       "       [-7.24923591e-01, -3.98952751e-01, -6.18277932e-01, ...,\n",
       "        -7.70942111e-02, -4.11400427e-02,  2.03479874e-02]])"
      ]
     },
     "execution_count": 51,
     "metadata": {},
     "output_type": "execute_result"
    }
   ],
   "source": [
    "X"
   ]
  },
  {
   "cell_type": "code",
   "execution_count": 52,
   "id": "52204ec1",
   "metadata": {},
   "outputs": [],
   "source": [
    "X_train, X_test, y_train, y_test = train_test_split(X, y, test_size = 0.2, random_state = 50)"
   ]
  },
  {
   "cell_type": "markdown",
   "id": "4a7383a8",
   "metadata": {},
   "source": [
    "random_state create the random numbers to train the ML"
   ]
  },
  {
   "cell_type": "markdown",
   "id": "bbf40e4e",
   "metadata": {},
   "source": [
    "# MODELS\n",
    "\n",
    "Applying the models learnt in the Machine Learning Course"
   ]
  },
  {
   "cell_type": "code",
   "execution_count": 53,
   "id": "e0f13401",
   "metadata": {},
   "outputs": [],
   "source": [
    "from sklearn import metrics\n",
    "\n",
    "from sklearn.metrics import classification_report\n",
    "\n",
    "from sklearn.metrics import confusion_matrix\n",
    "\n",
    "from sklearn.metrics import accuracy_score\n",
    "\n",
    "from sklearn.model_selection import cross_val_score"
   ]
  },
  {
   "cell_type": "markdown",
   "id": "5ab44126",
   "metadata": {},
   "source": [
    "# SVM \n",
    "\n",
    "explain the model"
   ]
  },
  {
   "cell_type": "code",
   "execution_count": 54,
   "id": "7d12f4bb",
   "metadata": {},
   "outputs": [],
   "source": [
    "from sklearn import svm"
   ]
  },
  {
   "cell_type": "code",
   "execution_count": 55,
   "id": "68100900",
   "metadata": {},
   "outputs": [],
   "source": [
    "cls_svm = svm.SVC(kernel = \"linear\") \n",
    "\n",
    "cls_svm.fit(X_train, y_train)\n",
    "\n",
    "y_pred_svm = cls_svm.predict(X_test)"
   ]
  },
  {
   "cell_type": "markdown",
   "id": "d41a8ff2",
   "metadata": {},
   "source": [
    "print(\"accuracy:\", metrics.accuracy_score(y_test, y_pred_svm))\n",
    "\n",
    "print( \"accuracy: {:.2f}\".format(metrics.accuracy_score(y_test, y_pred_svm)) )"
   ]
  },
  {
   "cell_type": "markdown",
   "id": "8ca0c9cb",
   "metadata": {},
   "source": [
    "print(classification_report(y_test, y_pred_svm))"
   ]
  },
  {
   "cell_type": "markdown",
   "id": "267c028a",
   "metadata": {},
   "source": [
    "y_predict = cls_svm.predict(X_test)\n",
    "\n",
    "cm = confusion_matrix(y_test, y_pred_svm)\n",
    "\n",
    "sns.heatmap(cm, annot = True)"
   ]
  },
  {
   "cell_type": "code",
   "execution_count": null,
   "id": "dd9fb34a",
   "metadata": {},
   "outputs": [],
   "source": []
  },
  {
   "cell_type": "markdown",
   "id": "bbd7dd00",
   "metadata": {},
   "source": [
    "# KNN MODEL\n",
    "\n",
    "explain de model"
   ]
  },
  {
   "cell_type": "code",
   "execution_count": 60,
   "id": "b2dc952d",
   "metadata": {},
   "outputs": [],
   "source": [
    "from sklearn.neighbors import KNeighborsClassifier"
   ]
  },
  {
   "cell_type": "code",
   "execution_count": 61,
   "id": "64022955",
   "metadata": {},
   "outputs": [],
   "source": [
    "kNN = KNeighborsClassifier(n_neighbors = 9)\n",
    "\n",
    "kNN.fit(X_train, y_train)\n",
    "\n",
    "y_pred_knn = kNN.predict(X_test)"
   ]
  },
  {
   "cell_type": "markdown",
   "id": "3b6cbf96",
   "metadata": {},
   "source": [
    "print(\"accuracy:\", metrics.accuracy_score(y_test, y_pred_knn))\n",
    "\n",
    "print( \"accuracy: {:.2f}\".format(metrics.accuracy_score(y_test, y_pred_knn)) )"
   ]
  },
  {
   "cell_type": "markdown",
   "id": "db66e45b",
   "metadata": {},
   "source": [
    "print(classification_report(y_test, y_pred_knn))"
   ]
  },
  {
   "cell_type": "markdown",
   "id": "d657274e",
   "metadata": {},
   "source": [
    "y_pred_knn = kNN.predict(X_test)\n",
    "\n",
    "cm = confusion_matrix(y_test, y_pred_knn)\n",
    "\n",
    "sns.heatmap(cm, annot = True)"
   ]
  },
  {
   "cell_type": "code",
   "execution_count": null,
   "id": "80fe433e",
   "metadata": {},
   "outputs": [],
   "source": []
  },
  {
   "cell_type": "markdown",
   "id": "5fac56fe",
   "metadata": {},
   "source": [
    "# DECISION TREE"
   ]
  },
  {
   "cell_type": "code",
   "execution_count": 65,
   "id": "50067043",
   "metadata": {},
   "outputs": [],
   "source": [
    "from sklearn.tree import DecisionTreeClassifier \n",
    "from sklearn import tree"
   ]
  },
  {
   "cell_type": "code",
   "execution_count": 66,
   "id": "b9a32ca0",
   "metadata": {},
   "outputs": [],
   "source": [
    "clf = DecisionTreeClassifier(criterion = \"entropy\", random_state = 0)\n",
    "\n",
    "clf = clf.fit(X_train, y_train)\n",
    "\n",
    "y_pred_dt = clf.predict(X_test)"
   ]
  },
  {
   "cell_type": "markdown",
   "id": "da9ee6a3",
   "metadata": {},
   "source": [
    "print(\"Accuracy:\",metrics.accuracy_score(y_test, y_pred_dt))\n",
    "\n",
    "print( \"Accuracy: {:.2f}\".format(metrics.accuracy_score(y_test, y_pred_dt)) )"
   ]
  },
  {
   "cell_type": "markdown",
   "id": "d4d763c3",
   "metadata": {},
   "source": [
    "print(classification_report(y_test, y_pred_dt))"
   ]
  },
  {
   "cell_type": "code",
   "execution_count": null,
   "id": "060242cd",
   "metadata": {},
   "outputs": [],
   "source": []
  },
  {
   "cell_type": "markdown",
   "id": "db5eaf08",
   "metadata": {},
   "source": [
    "# Linear Regression"
   ]
  },
  {
   "cell_type": "code",
   "execution_count": 69,
   "id": "8212d4c2",
   "metadata": {},
   "outputs": [],
   "source": [
    "from sklearn.linear_model import LinearRegression"
   ]
  },
  {
   "cell_type": "code",
   "execution_count": 70,
   "id": "93f284bc",
   "metadata": {},
   "outputs": [],
   "source": [
    "\n",
    "def get_cv_scores(model):\n",
    "    scores = cross_val_score(model,\n",
    "                             X_train,\n",
    "                             y_train,\n",
    "                             cv = 10,\n",
    "                             scoring = 'r2')\n",
    "    \n",
    "    print('CV Mean: ', np.mean(scores))\n",
    "    print('STD: ', np.std(scores))\n",
    "    print('\\n')\n",
    "    \n",
    "    \n",
    "    "
   ]
  },
  {
   "cell_type": "code",
   "execution_count": 71,
   "id": "315c471d",
   "metadata": {},
   "outputs": [],
   "source": [
    "lr = LinearRegression().fit(X_train, y_train)"
   ]
  },
  {
   "cell_type": "code",
   "execution_count": 72,
   "id": "4e128627",
   "metadata": {},
   "outputs": [
    {
     "name": "stdout",
     "output_type": "stream",
     "text": [
      "CV Mean:  -33728.46983299553\n",
      "STD:  101186.44992053279\n",
      "\n",
      "\n"
     ]
    }
   ],
   "source": [
    "get_cv_scores(lr)"
   ]
  },
  {
   "cell_type": "code",
   "execution_count": 73,
   "id": "a6d150b9",
   "metadata": {},
   "outputs": [
    {
     "name": "stdout",
     "output_type": "stream",
     "text": [
      "0.016436192401684663\n",
      "[ 9.41277860e-03  2.63575179e-03  3.21408805e-03 -5.56227230e-03\n",
      " -4.13343480e-03 -7.44624462e-03  3.76813077e-03  6.76912223e-05\n",
      "  1.41591449e-02 -1.28718174e-03 -9.10117774e-03 -8.37787876e-03\n",
      "  4.01492607e-03  1.39005883e-03  9.63312345e-03 -8.93869005e-03\n",
      "  4.52122029e-03  6.39095189e-03  9.92563138e-04  3.50015512e-04\n",
      " -4.34642173e-03 -9.44105746e-04 -1.68491530e-03  2.92167237e-03\n",
      "  8.68341335e-03 -3.08878624e-04 -6.54093073e-03 -4.12879856e-03\n",
      " -5.82692957e-03  6.40570033e-03  3.42870600e-03  2.19461014e-03\n",
      "  2.82240240e-03 -4.79863281e-04 -1.65536212e-03  6.76457034e-03\n",
      " -2.53025018e-03 -3.04412154e-03  4.72562947e-04  7.39419335e-04\n",
      " -5.04485819e-03  1.13328307e-03 -5.67928383e-03 -1.26173346e-03\n",
      " -3.37195995e-03 -4.63426273e-03  6.26377820e-03 -9.83580723e-03\n",
      "  6.21636718e-04 -8.73886944e-03 -3.77789020e-04 -2.23099129e-03\n",
      " -3.95644413e-04 -7.28370985e-03  1.88028681e-03 -6.91436396e-03\n",
      "  5.64415502e-03 -4.15937540e-03 -1.33805728e-02 -5.10535087e-03\n",
      " -5.52070722e-03 -7.79544666e-04 -3.93215831e-03  3.63086910e-03\n",
      "  4.82768690e-03  6.07752467e-03 -4.67057343e-03  3.09034291e-03\n",
      "  5.14647034e-03  9.28247850e-03  2.26548782e-03 -6.88150017e-05\n",
      "  7.42514011e-03  3.42533293e-03  4.53886471e-03  2.62065946e-03\n",
      " -9.03293544e-03 -1.20002151e-02  1.89866516e-03  2.60109585e-03\n",
      "  5.24848896e-03  5.15832014e-03 -6.45973238e-03 -1.82776071e-03\n",
      "  3.28766424e-03  2.88955775e-03 -1.62267335e-03 -1.01503928e-03\n",
      " -2.57395345e-02 -1.02514194e-02 -9.71577742e-03 -2.74212948e-03\n",
      " -3.98903562e-03  5.32545814e-03 -8.45235484e-03 -7.23653325e-03\n",
      "  2.21885084e-02  1.45335548e-02  2.79040322e-03  1.19644577e-03]\n"
     ]
    }
   ],
   "source": [
    "print(lr.intercept_)\n",
    "print(lr.coef_)"
   ]
  },
  {
   "cell_type": "code",
   "execution_count": 74,
   "id": "82f28515",
   "metadata": {},
   "outputs": [],
   "source": [
    "y_pred_lr = lr.predict(X_test)"
   ]
  },
  {
   "cell_type": "code",
   "execution_count": 75,
   "id": "c7d8c6f7",
   "metadata": {},
   "outputs": [
    {
     "data": {
      "text/html": [
       "<div>\n",
       "<style scoped>\n",
       "    .dataframe tbody tr th:only-of-type {\n",
       "        vertical-align: middle;\n",
       "    }\n",
       "\n",
       "    .dataframe tbody tr th {\n",
       "        vertical-align: top;\n",
       "    }\n",
       "\n",
       "    .dataframe thead th {\n",
       "        text-align: right;\n",
       "    }\n",
       "</style>\n",
       "<table border=\"1\" class=\"dataframe\">\n",
       "  <thead>\n",
       "    <tr style=\"text-align: right;\">\n",
       "      <th></th>\n",
       "      <th>Actual</th>\n",
       "      <th>Predicted</th>\n",
       "    </tr>\n",
       "  </thead>\n",
       "  <tbody>\n",
       "    <tr>\n",
       "      <th>0</th>\n",
       "      <td>0.0</td>\n",
       "      <td>-0.001055</td>\n",
       "    </tr>\n",
       "    <tr>\n",
       "      <th>1</th>\n",
       "      <td>0.0</td>\n",
       "      <td>-0.005145</td>\n",
       "    </tr>\n",
       "    <tr>\n",
       "      <th>2</th>\n",
       "      <td>0.0</td>\n",
       "      <td>-0.004778</td>\n",
       "    </tr>\n",
       "    <tr>\n",
       "      <th>3</th>\n",
       "      <td>0.0</td>\n",
       "      <td>-0.005053</td>\n",
       "    </tr>\n",
       "    <tr>\n",
       "      <th>4</th>\n",
       "      <td>0.0</td>\n",
       "      <td>-0.003601</td>\n",
       "    </tr>\n",
       "  </tbody>\n",
       "</table>\n",
       "</div>"
      ],
      "text/plain": [
       "   Actual  Predicted\n",
       "0     0.0  -0.001055\n",
       "1     0.0  -0.005145\n",
       "2     0.0  -0.004778\n",
       "3     0.0  -0.005053\n",
       "4     0.0  -0.003601"
      ]
     },
     "execution_count": 75,
     "metadata": {},
     "output_type": "execute_result"
    }
   ],
   "source": [
    "linear = pd.DataFrame({'Actual': y_test, 'Predicted': y_pred_lr})\n",
    "linear.head()"
   ]
  },
  {
   "cell_type": "code",
   "execution_count": 78,
   "id": "3bd17915",
   "metadata": {},
   "outputs": [
    {
     "name": "stdout",
     "output_type": "stream",
     "text": [
      "Mean Absolute Error: 0.026367911447243236\n",
      "Mean Squared Error: 0.0089509114309279\n",
      "Root Mean Squared Error: 0.09460925658162578\n"
     ]
    }
   ],
   "source": [
    "print('Mean Absolute Error:', metrics.mean_absolute_error(y_test, y_pred_lr))\n",
    "print('Mean Squared Error:', metrics.mean_squared_error(y_test, y_pred_lr))\n",
    "print('Root Mean Squared Error:', np.sqrt(metrics.mean_squared_error(y_test, y_pred_lr)))"
   ]
  },
  {
   "cell_type": "code",
   "execution_count": null,
   "id": "293a190b",
   "metadata": {},
   "outputs": [],
   "source": []
  },
  {
   "cell_type": "markdown",
   "id": "f614daba",
   "metadata": {},
   "source": [
    "# Logistic Regression"
   ]
  },
  {
   "cell_type": "code",
   "execution_count": 77,
   "id": "7f92a783",
   "metadata": {},
   "outputs": [],
   "source": [
    "from sklearn.linear_model import LogisticRegression\n",
    "from sklearn.svm import LinearSVC\n",
    "import mglearn"
   ]
  },
  {
   "cell_type": "code",
   "execution_count": 79,
   "id": "2fe25483",
   "metadata": {},
   "outputs": [
    {
     "name": "stderr",
     "output_type": "stream",
     "text": [
      "/Users/izaiaszacca/anaconda3/lib/python3.11/site-packages/sklearn/svm/_classes.py:32: FutureWarning: The default value of `dual` will change from `True` to `'auto'` in 1.5. Set the value of `dual` explicitly to suppress the warning.\n",
      "  warnings.warn(\n",
      "/Users/izaiaszacca/anaconda3/lib/python3.11/site-packages/sklearn/svm/_base.py:1242: ConvergenceWarning: Liblinear failed to converge, increase the number of iterations.\n",
      "  warnings.warn(\n"
     ]
    },
    {
     "data": {
      "image/png": "[encoded data removed]",
      "text/plain": [
       "<Figure size 500x800 with 2 Axes>"
      ]
     },
     "metadata": {},
     "output_type": "display_data"
    }
   ],
   "source": [
    "X, y = mglearn.datasets.make_forge()\n",
    "fig, axes = plt.subplots(2, 1, figsize=(5, 8)) #first is the number of rows and the 2nd is the numbers\n",
    "#of columns \n",
    "for model, ax in zip([LinearSVC(), LogisticRegression()], axes):\n",
    "    clf = model.fit(X, y)\n",
    "    mglearn.plots.plot_2d_separator(clf, X, fill=False, eps=0.5, ax=ax, alpha=.7)\n",
    "    mglearn.discrete_scatter(X[:, 0], X[:, 1], y, ax=ax)\n",
    "    ax.set_title(clf.__class__.__name__)\n",
    "    ax.set_xlabel(\"Feature 0\")\n",
    "    ax.set_ylabel(\"Feature 1\")\n",
    "    axes[0].legend()"
   ]
  },
  {
   "cell_type": "code",
   "execution_count": null,
   "id": "218005ce",
   "metadata": {},
   "outputs": [],
   "source": []
  },
  {
   "cell_type": "markdown",
   "id": "aba9c437",
   "metadata": {},
   "source": [
    "# Gaussian Naive Bayes and Support Vector Machine\n",
    "\n",
    "## Gaussian Naive Bayes"
   ]
  },
  {
   "cell_type": "code",
   "execution_count": 80,
   "id": "4f40f1de",
   "metadata": {},
   "outputs": [],
   "source": [
    "from sklearn.naive_bayes import GaussianNB"
   ]
  },
  {
   "cell_type": "code",
   "execution_count": 81,
   "id": "79513212",
   "metadata": {},
   "outputs": [
    {
     "data": {
      "text/html": [
       "<style>#sk-container-id-2 {color: black;}#sk-container-id-2 pre{padding: 0;}#sk-container-id-2 div.sk-toggleable {background-color: white;}#sk-container-id-2 label.sk-toggleable__label {cursor: pointer;display: block;width: 100%;margin-bottom: 0;padding: 0.3em;box-sizing: border-box;text-align: center;}#sk-container-id-2 label.sk-toggleable__label-arrow:before {content: \"▸\";float: left;margin-right: 0.25em;color: #696969;}#sk-container-id-2 label.sk-toggleable__label-arrow:hover:before {color: black;}#sk-container-id-2 div.sk-estimator:hover label.sk-toggleable__label-arrow:before {color: black;}#sk-container-id-2 div.sk-toggleable__content {max-height: 0;max-width: 0;overflow: hidden;text-align: left;background-color: #f0f8ff;}#sk-container-id-2 div.sk-toggleable__content pre {margin: 0.2em;color: black;border-radius: 0.25em;background-color: #f0f8ff;}#sk-container-id-2 input.sk-toggleable__control:checked~div.sk-toggleable__content {max-height: 200px;max-width: 100%;overflow: auto;}#sk-container-id-2 input.sk-toggleable__control:checked~label.sk-toggleable__label-arrow:before {content: \"▾\";}#sk-container-id-2 div.sk-estimator input.sk-toggleable__control:checked~label.sk-toggleable__label {background-color: #d4ebff;}#sk-container-id-2 div.sk-label input.sk-toggleable__control:checked~label.sk-toggleable__label {background-color: #d4ebff;}#sk-container-id-2 input.sk-hidden--visually {border: 0;clip: rect(1px 1px 1px 1px);clip: rect(1px, 1px, 1px, 1px);height: 1px;margin: -1px;overflow: hidden;padding: 0;position: absolute;width: 1px;}#sk-container-id-2 div.sk-estimator {font-family: monospace;background-color: #f0f8ff;border: 1px dotted black;border-radius: 0.25em;box-sizing: border-box;margin-bottom: 0.5em;}#sk-container-id-2 div.sk-estimator:hover {background-color: #d4ebff;}#sk-container-id-2 div.sk-parallel-item::after {content: \"\";width: 100%;border-bottom: 1px solid gray;flex-grow: 1;}#sk-container-id-2 div.sk-label:hover label.sk-toggleable__label {background-color: #d4ebff;}#sk-container-id-2 div.sk-serial::before {content: \"\";position: absolute;border-left: 1px solid gray;box-sizing: border-box;top: 0;bottom: 0;left: 50%;z-index: 0;}#sk-container-id-2 div.sk-serial {display: flex;flex-direction: column;align-items: center;background-color: white;padding-right: 0.2em;padding-left: 0.2em;position: relative;}#sk-container-id-2 div.sk-item {position: relative;z-index: 1;}#sk-container-id-2 div.sk-parallel {display: flex;align-items: stretch;justify-content: center;background-color: white;position: relative;}#sk-container-id-2 div.sk-item::before, #sk-container-id-2 div.sk-parallel-item::before {content: \"\";position: absolute;border-left: 1px solid gray;box-sizing: border-box;top: 0;bottom: 0;left: 50%;z-index: -1;}#sk-container-id-2 div.sk-parallel-item {display: flex;flex-direction: column;z-index: 1;position: relative;background-color: white;}#sk-container-id-2 div.sk-parallel-item:first-child::after {align-self: flex-end;width: 50%;}#sk-container-id-2 div.sk-parallel-item:last-child::after {align-self: flex-start;width: 50%;}#sk-container-id-2 div.sk-parallel-item:only-child::after {width: 0;}#sk-container-id-2 div.sk-dashed-wrapped {border: 1px dashed gray;margin: 0 0.4em 0.5em 0.4em;box-sizing: border-box;padding-bottom: 0.4em;background-color: white;}#sk-container-id-2 div.sk-label label {font-family: monospace;font-weight: bold;display: inline-block;line-height: 1.2em;}#sk-container-id-2 div.sk-label-container {text-align: center;}#sk-container-id-2 div.sk-container {/* jupyter's `normalize.less` sets `[hidden] { display: none; }` but bootstrap.min.css set `[hidden] { display: none !important; }` so we also need the `!important` here to be able to override the default hidden behavior on the sphinx rendered scikit-learn.org. See: https://github.com/scikit-learn/scikit-learn/issues/21755 */display: inline-block !important;position: relative;}#sk-container-id-2 div.sk-text-repr-fallback {display: none;}</style><div id=\"sk-container-id-2\" class=\"sk-top-container\"><div class=\"sk-text-repr-fallback\"><pre>GaussianNB()</pre><b>In a Jupyter environment, please rerun this cell to show the HTML representation or trust the notebook. <br />On GitHub, the HTML representation is unable to render, please try loading this page with nbviewer.org.</b></div><div class=\"sk-container\" hidden><div class=\"sk-item\"><div class=\"sk-estimator sk-toggleable\"><input class=\"sk-toggleable__control sk-hidden--visually\" id=\"sk-estimator-id-2\" type=\"checkbox\" checked><label for=\"sk-estimator-id-2\" class=\"sk-toggleable__label sk-toggleable__label-arrow\">GaussianNB</label><div class=\"sk-toggleable__content\"><pre>GaussianNB()</pre></div></div></div></div></div>"
      ],
      "text/plain": [
       "GaussianNB()"
      ]
     },
     "execution_count": 81,
     "metadata": {},
     "output_type": "execute_result"
    }
   ],
   "source": [
    "nvclassifier = GaussianNB()\n",
    "\n",
    "nvclassifier.fit(X_train, y_train)"
   ]
  },
  {
   "cell_type": "code",
   "execution_count": 82,
   "id": "4cd20a80",
   "metadata": {},
   "outputs": [
    {
     "name": "stdout",
     "output_type": "stream",
     "text": [
      "[0. 0. 0. ... 0. 0. 0.]\n"
     ]
    }
   ],
   "source": [
    "y_pred_gnb = nvclassifier.predict(X_test)\n",
    "\n",
    "print(y_pred_gnb)"
   ]
  },
  {
   "cell_type": "code",
   "execution_count": 83,
   "id": "6a912481",
   "metadata": {},
   "outputs": [
    {
     "data": {
      "text/plain": [
       "array([[0., 0.],\n",
       "       [0., 0.],\n",
       "       [0., 0.],\n",
       "       [0., 0.],\n",
       "       [0., 0.],\n",
       "       [0., 0.],\n",
       "       [0., 0.],\n",
       "       [0., 0.],\n",
       "       [0., 0.],\n",
       "       [0., 0.],\n",
       "       [1., 1.],\n",
       "       [0., 0.],\n",
       "       [0., 0.],\n",
       "       [0., 1.],\n",
       "       [0., 0.],\n",
       "       [0., 0.],\n",
       "       [0., 0.],\n",
       "       [0., 0.],\n",
       "       [0., 0.],\n",
       "       [0., 0.],\n",
       "       [0., 0.],\n",
       "       [0., 0.],\n",
       "       [0., 0.],\n",
       "       [0., 0.],\n",
       "       [0., 1.],\n",
       "       [0., 0.],\n",
       "       [0., 0.],\n",
       "       [0., 0.],\n",
       "       [0., 0.],\n",
       "       [0., 0.]])"
      ]
     },
     "execution_count": 83,
     "metadata": {},
     "output_type": "execute_result"
    }
   ],
   "source": [
    "y_compare = np.vstack((y_test,y_pred_gnb)).T\n",
    "\n",
    "y_compare[:30,:]"
   ]
  },
  {
   "cell_type": "code",
   "execution_count": 84,
   "id": "3bda17d5",
   "metadata": {},
   "outputs": [
    {
     "name": "stdout",
     "output_type": "stream",
     "text": [
      "0.9653333333333334\n"
     ]
    }
   ],
   "source": [
    "score = accuracy_score(y_test, y_pred_gnb)\n",
    "print(score)"
   ]
  },
  {
   "cell_type": "code",
   "execution_count": 85,
   "id": "57c4c5ce",
   "metadata": {},
   "outputs": [
    {
     "data": {
      "text/plain": [
       "0.9333333333333332"
      ]
     },
     "execution_count": 85,
     "metadata": {},
     "output_type": "execute_result"
    }
   ],
   "source": [
    "nvclassifier = GaussianNB()\n",
    "\n",
    "cross_val_score(nvclassifier, X, y, scoring = 'accuracy', cv = 10).mean()"
   ]
  },
  {
   "cell_type": "code",
   "execution_count": null,
   "id": "67d6b7a8",
   "metadata": {},
   "outputs": [],
   "source": []
  },
  {
   "cell_type": "code",
   "execution_count": 86,
   "id": "631869e3",
   "metadata": {},
   "outputs": [
    {
     "name": "stdout",
     "output_type": "stream",
     "text": [
      "Accuracy SVM: 0.9906666666666667\n",
      "Accuracy KNN: 0.9881666666666666\n",
      "Accuracy DT: 0.9853333333333333\n",
      "Accuracy GNB: 0.9653333333333334\n",
      "Accuracy GNB_CV: 0.9333333333333332\n"
     ]
    }
   ],
   "source": [
    "print(\"Accuracy SVM:\", metrics.accuracy_score(y_test, y_pred_svm))\n",
    "\n",
    "print(\"Accuracy KNN:\", metrics.accuracy_score(y_test, y_pred_knn))\n",
    "\n",
    "print(\"Accuracy DT:\",metrics.accuracy_score(y_test, y_pred_dt))\n",
    "\n",
    "print(\"Accuracy GNB:\", accuracy_score(y_test, y_pred_gnb))\n",
    "\n",
    "print(\"Accuracy GNB_CV:\", cross_val_score(nvclassifier, X, y, scoring = 'accuracy', cv = 10).mean())"
   ]
  },
  {
   "cell_type": "markdown",
   "id": "eb13d307",
   "metadata": {},
   "source": [
    "# Dropping all the rows with missing values\n",
    "\n",
    "- Accuracy SVM: 0.957983193277311\n",
    "\n",
    "- Accuracy KNN: 0.957983193277311\n",
    "\n",
    "- Accuracy DT: 0.8907563025210085\n",
    "\n",
    "- Accuracy GNB: 0.8403361344537815\n",
    "\n",
    "- Accuracy GNB_CV: 0.8103389830508474"
   ]
  },
  {
   "cell_type": "markdown",
   "id": "36e28aa5",
   "metadata": {},
   "source": [
    "# Dropping the columns with more than 50% of missing values\n",
    "\n",
    "- Accuracy SVM: 0.9908333333333333\n",
    "\n",
    "- Accuracy KNN: 0.9883333333333333\n",
    "\n",
    "- Accuracy DT: 0.9866666666666667\n",
    "\n",
    "- Accuracy GNB: 0.9651666666666666\n",
    "\n",
    "- Accuracy GNB_CV: 0.9650166666666667"
   ]
  },
  {
   "cell_type": "code",
   "execution_count": null,
   "id": "11bc248f",
   "metadata": {},
   "outputs": [],
   "source": []
  }
 ],
 "metadata": {
  "kernelspec": {
   "display_name": "Python 3 (ipykernel)",
   "language": "python",
   "name": "python3"
  },
  "language_info": {
   "codemirror_mode": {
    "name": "ipython",
    "version": 3
   },
   "file_extension": ".py",
   "mimetype": "text/x-python",
   "name": "python",
   "nbconvert_exporter": "python",
   "pygments_lexer": "ipython3",
   "version": "3.11.4"
  }
 },
 "nbformat": 4,
 "nbformat_minor": 5
}
