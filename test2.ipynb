{
 "cells": [
  {
   "cell_type": "code",
   "execution_count": 1,
   "id": "2890cc27",
   "metadata": {},
   "outputs": [],
   "source": [
    "%matplotlib inline\n",
    "\n",
    "import pandas as pd\n",
    "\n",
    "import numpy as np\n",
    "\n",
    "import matplotlib.pyplot as plt\n",
    "\n",
    "import seaborn as sns\n",
    "\n",
    "sns.set()\n",
    "\n",
    "from sklearn.preprocessing import StandardScaler\n",
    "\n",
    "from sklearn.decomposition import PCA\n",
    "\n",
    "from sklearn import preprocessing\n",
    "\n",
    "from sklearn.model_selection import train_test_split "
   ]
  },
  {
   "cell_type": "code",
   "execution_count": 2,
   "id": "b02677d1",
   "metadata": {},
   "outputs": [
    {
     "name": "stdout",
     "output_type": "stream",
     "text": [
      "Requirement already satisfied: mglearn in /Users/izaiaszacca/anaconda3/lib/python3.11/site-packages (0.2.0)\n",
      "Requirement already satisfied: numpy in /Users/izaiaszacca/anaconda3/lib/python3.11/site-packages (from mglearn) (1.24.3)\n",
      "Requirement already satisfied: matplotlib in /Users/izaiaszacca/anaconda3/lib/python3.11/site-packages (from mglearn) (3.7.1)\n",
      "Requirement already satisfied: scikit-learn in /Users/izaiaszacca/anaconda3/lib/python3.11/site-packages (from mglearn) (1.3.0)\n",
      "Requirement already satisfied: pandas in /Users/izaiaszacca/anaconda3/lib/python3.11/site-packages (from mglearn) (1.5.3)\n",
      "Requirement already satisfied: pillow in /Users/izaiaszacca/anaconda3/lib/python3.11/site-packages (from mglearn) (9.4.0)\n",
      "Requirement already satisfied: cycler in /Users/izaiaszacca/anaconda3/lib/python3.11/site-packages (from mglearn) (0.11.0)\n",
      "Requirement already satisfied: imageio in /Users/izaiaszacca/anaconda3/lib/python3.11/site-packages (from mglearn) (2.31.1)\n",
      "Requirement already satisfied: joblib in /Users/izaiaszacca/anaconda3/lib/python3.11/site-packages (from mglearn) (1.2.0)\n",
      "Requirement already satisfied: contourpy>=1.0.1 in /Users/izaiaszacca/anaconda3/lib/python3.11/site-packages (from matplotlib->mglearn) (1.0.5)\n",
      "Requirement already satisfied: fonttools>=4.22.0 in /Users/izaiaszacca/anaconda3/lib/python3.11/site-packages (from matplotlib->mglearn) (4.25.0)\n",
      "Requirement already satisfied: kiwisolver>=1.0.1 in /Users/izaiaszacca/anaconda3/lib/python3.11/site-packages (from matplotlib->mglearn) (1.4.4)\n",
      "Requirement already satisfied: packaging>=20.0 in /Users/izaiaszacca/anaconda3/lib/python3.11/site-packages (from matplotlib->mglearn) (23.0)\n",
      "Requirement already satisfied: pyparsing>=2.3.1 in /Users/izaiaszacca/anaconda3/lib/python3.11/site-packages (from matplotlib->mglearn) (3.0.9)\n",
      "Requirement already satisfied: python-dateutil>=2.7 in /Users/izaiaszacca/anaconda3/lib/python3.11/site-packages (from matplotlib->mglearn) (2.8.2)\n",
      "Requirement already satisfied: pytz>=2020.1 in /Users/izaiaszacca/anaconda3/lib/python3.11/site-packages (from pandas->mglearn) (2022.7)\n",
      "Requirement already satisfied: scipy>=1.5.0 in /Users/izaiaszacca/anaconda3/lib/python3.11/site-packages (from scikit-learn->mglearn) (1.10.1)\n",
      "Requirement already satisfied: threadpoolctl>=2.0.0 in /Users/izaiaszacca/anaconda3/lib/python3.11/site-packages (from scikit-learn->mglearn) (2.2.0)\n",
      "Requirement already satisfied: six>=1.5 in /Users/izaiaszacca/anaconda3/lib/python3.11/site-packages (from python-dateutil>=2.7->matplotlib->mglearn) (1.16.0)\n",
      "Note: you may need to restart the kernel to use updated packages.\n"
     ]
    }
   ],
   "source": [
    "pip install mglearn"
   ]
  },
  {
   "cell_type": "code",
   "execution_count": 3,
   "id": "f28fa776",
   "metadata": {},
   "outputs": [],
   "source": [
    "ca1 = pd.read_csv(\"aps_failure_set.csv\")"
   ]
  },
  {
   "cell_type": "code",
   "execution_count": 4,
   "id": "1714cebd",
   "metadata": {},
   "outputs": [],
   "source": [
    "miss_vals = [\"na\"]"
   ]
  },
  {
   "cell_type": "code",
   "execution_count": 5,
   "id": "b5997983",
   "metadata": {},
   "outputs": [],
   "source": [
    "ca1 = pd.read_csv(\"aps_failure_set.csv\", na_values = miss_vals)"
   ]
  },
  {
   "cell_type": "code",
   "execution_count": 6,
   "id": "bc603893",
   "metadata": {},
   "outputs": [],
   "source": [
    "ca1['class'].replace('neg', 0, inplace = True)\n",
    "ca1['class'].replace('pos', 1, inplace = True)"
   ]
  },
  {
   "cell_type": "code",
   "execution_count": 7,
   "id": "82469e73",
   "metadata": {},
   "outputs": [
    {
     "name": "stdout",
     "output_type": "stream",
     "text": [
      "ab_000    77.215000\n",
      "bm_000    65.915000\n",
      "bn_000    73.348333\n",
      "bo_000    77.221667\n",
      "bp_000    79.566667\n",
      "bq_000    81.203333\n",
      "br_000    82.106667\n",
      "cr_000    77.215000\n",
      "dtype: float64\n"
     ]
    }
   ],
   "source": [
    "isnull = ca1.isnull().sum()\n",
    "\n",
    "nperc = (isnull / (len(ca1))) * 100\n",
    "\n",
    "more_than_50 = nperc[nperc > 50]\n",
    "\n",
    "print(more_than_50)"
   ]
  },
  {
   "cell_type": "code",
   "execution_count": 8,
   "id": "a954d34f",
   "metadata": {},
   "outputs": [
    {
     "data": {
      "text/html": [
       "<div>\n",
       "<style scoped>\n",
       "    .dataframe tbody tr th:only-of-type {\n",
       "        vertical-align: middle;\n",
       "    }\n",
       "\n",
       "    .dataframe tbody tr th {\n",
       "        vertical-align: top;\n",
       "    }\n",
       "\n",
       "    .dataframe thead th {\n",
       "        text-align: right;\n",
       "    }\n",
       "</style>\n",
       "<table border=\"1\" class=\"dataframe\">\n",
       "  <thead>\n",
       "    <tr style=\"text-align: right;\">\n",
       "      <th></th>\n",
       "      <th>class</th>\n",
       "      <th>aa_000</th>\n",
       "      <th>ac_000</th>\n",
       "      <th>ad_000</th>\n",
       "      <th>ae_000</th>\n",
       "      <th>af_000</th>\n",
       "      <th>ag_000</th>\n",
       "      <th>ag_001</th>\n",
       "      <th>ag_002</th>\n",
       "      <th>ag_003</th>\n",
       "      <th>...</th>\n",
       "      <th>ee_002</th>\n",
       "      <th>ee_003</th>\n",
       "      <th>ee_004</th>\n",
       "      <th>ee_005</th>\n",
       "      <th>ee_006</th>\n",
       "      <th>ee_007</th>\n",
       "      <th>ee_008</th>\n",
       "      <th>ee_009</th>\n",
       "      <th>ef_000</th>\n",
       "      <th>eg_000</th>\n",
       "    </tr>\n",
       "  </thead>\n",
       "  <tbody>\n",
       "    <tr>\n",
       "      <th>0</th>\n",
       "      <td>0</td>\n",
       "      <td>76698</td>\n",
       "      <td>2.130706e+09</td>\n",
       "      <td>280.0</td>\n",
       "      <td>0.0</td>\n",
       "      <td>0.0</td>\n",
       "      <td>0.0</td>\n",
       "      <td>0.0</td>\n",
       "      <td>0.0</td>\n",
       "      <td>0.0</td>\n",
       "      <td>...</td>\n",
       "      <td>1240520.0</td>\n",
       "      <td>493384.0</td>\n",
       "      <td>721044.0</td>\n",
       "      <td>469792.0</td>\n",
       "      <td>339156.0</td>\n",
       "      <td>157956.0</td>\n",
       "      <td>73224.0</td>\n",
       "      <td>0.0</td>\n",
       "      <td>0.0</td>\n",
       "      <td>0.0</td>\n",
       "    </tr>\n",
       "    <tr>\n",
       "      <th>1</th>\n",
       "      <td>0</td>\n",
       "      <td>33058</td>\n",
       "      <td>0.000000e+00</td>\n",
       "      <td>NaN</td>\n",
       "      <td>0.0</td>\n",
       "      <td>0.0</td>\n",
       "      <td>0.0</td>\n",
       "      <td>0.0</td>\n",
       "      <td>0.0</td>\n",
       "      <td>0.0</td>\n",
       "      <td>...</td>\n",
       "      <td>421400.0</td>\n",
       "      <td>178064.0</td>\n",
       "      <td>293306.0</td>\n",
       "      <td>245416.0</td>\n",
       "      <td>133654.0</td>\n",
       "      <td>81140.0</td>\n",
       "      <td>97576.0</td>\n",
       "      <td>1500.0</td>\n",
       "      <td>0.0</td>\n",
       "      <td>0.0</td>\n",
       "    </tr>\n",
       "    <tr>\n",
       "      <th>2</th>\n",
       "      <td>0</td>\n",
       "      <td>41040</td>\n",
       "      <td>2.280000e+02</td>\n",
       "      <td>100.0</td>\n",
       "      <td>0.0</td>\n",
       "      <td>0.0</td>\n",
       "      <td>0.0</td>\n",
       "      <td>0.0</td>\n",
       "      <td>0.0</td>\n",
       "      <td>0.0</td>\n",
       "      <td>...</td>\n",
       "      <td>277378.0</td>\n",
       "      <td>159812.0</td>\n",
       "      <td>423992.0</td>\n",
       "      <td>409564.0</td>\n",
       "      <td>320746.0</td>\n",
       "      <td>158022.0</td>\n",
       "      <td>95128.0</td>\n",
       "      <td>514.0</td>\n",
       "      <td>0.0</td>\n",
       "      <td>0.0</td>\n",
       "    </tr>\n",
       "    <tr>\n",
       "      <th>3</th>\n",
       "      <td>0</td>\n",
       "      <td>12</td>\n",
       "      <td>7.000000e+01</td>\n",
       "      <td>66.0</td>\n",
       "      <td>0.0</td>\n",
       "      <td>10.0</td>\n",
       "      <td>0.0</td>\n",
       "      <td>0.0</td>\n",
       "      <td>0.0</td>\n",
       "      <td>318.0</td>\n",
       "      <td>...</td>\n",
       "      <td>240.0</td>\n",
       "      <td>46.0</td>\n",
       "      <td>58.0</td>\n",
       "      <td>44.0</td>\n",
       "      <td>10.0</td>\n",
       "      <td>0.0</td>\n",
       "      <td>0.0</td>\n",
       "      <td>0.0</td>\n",
       "      <td>4.0</td>\n",
       "      <td>32.0</td>\n",
       "    </tr>\n",
       "    <tr>\n",
       "      <th>4</th>\n",
       "      <td>0</td>\n",
       "      <td>60874</td>\n",
       "      <td>1.368000e+03</td>\n",
       "      <td>458.0</td>\n",
       "      <td>0.0</td>\n",
       "      <td>0.0</td>\n",
       "      <td>0.0</td>\n",
       "      <td>0.0</td>\n",
       "      <td>0.0</td>\n",
       "      <td>0.0</td>\n",
       "      <td>...</td>\n",
       "      <td>622012.0</td>\n",
       "      <td>229790.0</td>\n",
       "      <td>405298.0</td>\n",
       "      <td>347188.0</td>\n",
       "      <td>286954.0</td>\n",
       "      <td>311560.0</td>\n",
       "      <td>433954.0</td>\n",
       "      <td>1218.0</td>\n",
       "      <td>0.0</td>\n",
       "      <td>0.0</td>\n",
       "    </tr>\n",
       "  </tbody>\n",
       "</table>\n",
       "<p>5 rows × 163 columns</p>\n",
       "</div>"
      ],
      "text/plain": [
       "   class  aa_000        ac_000  ad_000  ae_000  af_000  ag_000  ag_001  \\\n",
       "0      0   76698  2.130706e+09   280.0     0.0     0.0     0.0     0.0   \n",
       "1      0   33058  0.000000e+00     NaN     0.0     0.0     0.0     0.0   \n",
       "2      0   41040  2.280000e+02   100.0     0.0     0.0     0.0     0.0   \n",
       "3      0      12  7.000000e+01    66.0     0.0    10.0     0.0     0.0   \n",
       "4      0   60874  1.368000e+03   458.0     0.0     0.0     0.0     0.0   \n",
       "\n",
       "   ag_002  ag_003  ...     ee_002    ee_003    ee_004    ee_005    ee_006  \\\n",
       "0     0.0     0.0  ...  1240520.0  493384.0  721044.0  469792.0  339156.0   \n",
       "1     0.0     0.0  ...   421400.0  178064.0  293306.0  245416.0  133654.0   \n",
       "2     0.0     0.0  ...   277378.0  159812.0  423992.0  409564.0  320746.0   \n",
       "3     0.0   318.0  ...      240.0      46.0      58.0      44.0      10.0   \n",
       "4     0.0     0.0  ...   622012.0  229790.0  405298.0  347188.0  286954.0   \n",
       "\n",
       "     ee_007    ee_008  ee_009  ef_000  eg_000  \n",
       "0  157956.0   73224.0     0.0     0.0     0.0  \n",
       "1   81140.0   97576.0  1500.0     0.0     0.0  \n",
       "2  158022.0   95128.0   514.0     0.0     0.0  \n",
       "3       0.0       0.0     0.0     4.0    32.0  \n",
       "4  311560.0  433954.0  1218.0     0.0     0.0  \n",
       "\n",
       "[5 rows x 163 columns]"
      ]
     },
     "execution_count": 8,
     "metadata": {},
     "output_type": "execute_result"
    }
   ],
   "source": [
    "ca1_d = ca1.drop([\"ab_000\", \"bm_000\", \"bn_000\", \"bo_000\", \"bp_000\", \"bq_000\", \"br_000\",\n",
    "                        \"cr_000\"], axis = 1)\n",
    "\n",
    "ca1_d.head()"
   ]
  },
  {
   "cell_type": "code",
   "execution_count": 9,
   "id": "88f8721c",
   "metadata": {},
   "outputs": [
    {
     "data": {
      "text/html": [
       "<div>\n",
       "<style scoped>\n",
       "    .dataframe tbody tr th:only-of-type {\n",
       "        vertical-align: middle;\n",
       "    }\n",
       "\n",
       "    .dataframe tbody tr th {\n",
       "        vertical-align: top;\n",
       "    }\n",
       "\n",
       "    .dataframe thead th {\n",
       "        text-align: right;\n",
       "    }\n",
       "</style>\n",
       "<table border=\"1\" class=\"dataframe\">\n",
       "  <thead>\n",
       "    <tr style=\"text-align: right;\">\n",
       "      <th></th>\n",
       "      <th>aa_000</th>\n",
       "      <th>ac_000</th>\n",
       "      <th>ad_000</th>\n",
       "      <th>ae_000</th>\n",
       "      <th>af_000</th>\n",
       "      <th>ag_000</th>\n",
       "      <th>ag_001</th>\n",
       "      <th>ag_002</th>\n",
       "      <th>ag_003</th>\n",
       "      <th>ag_004</th>\n",
       "      <th>...</th>\n",
       "      <th>ee_002</th>\n",
       "      <th>ee_003</th>\n",
       "      <th>ee_004</th>\n",
       "      <th>ee_005</th>\n",
       "      <th>ee_006</th>\n",
       "      <th>ee_007</th>\n",
       "      <th>ee_008</th>\n",
       "      <th>ee_009</th>\n",
       "      <th>ef_000</th>\n",
       "      <th>eg_000</th>\n",
       "    </tr>\n",
       "  </thead>\n",
       "  <tbody>\n",
       "    <tr>\n",
       "      <th>0</th>\n",
       "      <td>76698</td>\n",
       "      <td>2.130706e+09</td>\n",
       "      <td>280.0</td>\n",
       "      <td>0.0</td>\n",
       "      <td>0.0</td>\n",
       "      <td>0.0</td>\n",
       "      <td>0.0</td>\n",
       "      <td>0.0</td>\n",
       "      <td>0.0</td>\n",
       "      <td>37250.0</td>\n",
       "      <td>...</td>\n",
       "      <td>1240520.0</td>\n",
       "      <td>493384.0</td>\n",
       "      <td>721044.0</td>\n",
       "      <td>469792.0</td>\n",
       "      <td>339156.0</td>\n",
       "      <td>157956.0</td>\n",
       "      <td>73224.0</td>\n",
       "      <td>0.0</td>\n",
       "      <td>0.0</td>\n",
       "      <td>0.0</td>\n",
       "    </tr>\n",
       "    <tr>\n",
       "      <th>1</th>\n",
       "      <td>33058</td>\n",
       "      <td>0.000000e+00</td>\n",
       "      <td>NaN</td>\n",
       "      <td>0.0</td>\n",
       "      <td>0.0</td>\n",
       "      <td>0.0</td>\n",
       "      <td>0.0</td>\n",
       "      <td>0.0</td>\n",
       "      <td>0.0</td>\n",
       "      <td>18254.0</td>\n",
       "      <td>...</td>\n",
       "      <td>421400.0</td>\n",
       "      <td>178064.0</td>\n",
       "      <td>293306.0</td>\n",
       "      <td>245416.0</td>\n",
       "      <td>133654.0</td>\n",
       "      <td>81140.0</td>\n",
       "      <td>97576.0</td>\n",
       "      <td>1500.0</td>\n",
       "      <td>0.0</td>\n",
       "      <td>0.0</td>\n",
       "    </tr>\n",
       "    <tr>\n",
       "      <th>2</th>\n",
       "      <td>41040</td>\n",
       "      <td>2.280000e+02</td>\n",
       "      <td>100.0</td>\n",
       "      <td>0.0</td>\n",
       "      <td>0.0</td>\n",
       "      <td>0.0</td>\n",
       "      <td>0.0</td>\n",
       "      <td>0.0</td>\n",
       "      <td>0.0</td>\n",
       "      <td>1648.0</td>\n",
       "      <td>...</td>\n",
       "      <td>277378.0</td>\n",
       "      <td>159812.0</td>\n",
       "      <td>423992.0</td>\n",
       "      <td>409564.0</td>\n",
       "      <td>320746.0</td>\n",
       "      <td>158022.0</td>\n",
       "      <td>95128.0</td>\n",
       "      <td>514.0</td>\n",
       "      <td>0.0</td>\n",
       "      <td>0.0</td>\n",
       "    </tr>\n",
       "    <tr>\n",
       "      <th>3</th>\n",
       "      <td>12</td>\n",
       "      <td>7.000000e+01</td>\n",
       "      <td>66.0</td>\n",
       "      <td>0.0</td>\n",
       "      <td>10.0</td>\n",
       "      <td>0.0</td>\n",
       "      <td>0.0</td>\n",
       "      <td>0.0</td>\n",
       "      <td>318.0</td>\n",
       "      <td>2212.0</td>\n",
       "      <td>...</td>\n",
       "      <td>240.0</td>\n",
       "      <td>46.0</td>\n",
       "      <td>58.0</td>\n",
       "      <td>44.0</td>\n",
       "      <td>10.0</td>\n",
       "      <td>0.0</td>\n",
       "      <td>0.0</td>\n",
       "      <td>0.0</td>\n",
       "      <td>4.0</td>\n",
       "      <td>32.0</td>\n",
       "    </tr>\n",
       "    <tr>\n",
       "      <th>4</th>\n",
       "      <td>60874</td>\n",
       "      <td>1.368000e+03</td>\n",
       "      <td>458.0</td>\n",
       "      <td>0.0</td>\n",
       "      <td>0.0</td>\n",
       "      <td>0.0</td>\n",
       "      <td>0.0</td>\n",
       "      <td>0.0</td>\n",
       "      <td>0.0</td>\n",
       "      <td>43752.0</td>\n",
       "      <td>...</td>\n",
       "      <td>622012.0</td>\n",
       "      <td>229790.0</td>\n",
       "      <td>405298.0</td>\n",
       "      <td>347188.0</td>\n",
       "      <td>286954.0</td>\n",
       "      <td>311560.0</td>\n",
       "      <td>433954.0</td>\n",
       "      <td>1218.0</td>\n",
       "      <td>0.0</td>\n",
       "      <td>0.0</td>\n",
       "    </tr>\n",
       "  </tbody>\n",
       "</table>\n",
       "<p>5 rows × 162 columns</p>\n",
       "</div>"
      ],
      "text/plain": [
       "   aa_000        ac_000  ad_000  ae_000  af_000  ag_000  ag_001  ag_002  \\\n",
       "0   76698  2.130706e+09   280.0     0.0     0.0     0.0     0.0     0.0   \n",
       "1   33058  0.000000e+00     NaN     0.0     0.0     0.0     0.0     0.0   \n",
       "2   41040  2.280000e+02   100.0     0.0     0.0     0.0     0.0     0.0   \n",
       "3      12  7.000000e+01    66.0     0.0    10.0     0.0     0.0     0.0   \n",
       "4   60874  1.368000e+03   458.0     0.0     0.0     0.0     0.0     0.0   \n",
       "\n",
       "   ag_003   ag_004  ...     ee_002    ee_003    ee_004    ee_005    ee_006  \\\n",
       "0     0.0  37250.0  ...  1240520.0  493384.0  721044.0  469792.0  339156.0   \n",
       "1     0.0  18254.0  ...   421400.0  178064.0  293306.0  245416.0  133654.0   \n",
       "2     0.0   1648.0  ...   277378.0  159812.0  423992.0  409564.0  320746.0   \n",
       "3   318.0   2212.0  ...      240.0      46.0      58.0      44.0      10.0   \n",
       "4     0.0  43752.0  ...   622012.0  229790.0  405298.0  347188.0  286954.0   \n",
       "\n",
       "     ee_007    ee_008  ee_009  ef_000  eg_000  \n",
       "0  157956.0   73224.0     0.0     0.0     0.0  \n",
       "1   81140.0   97576.0  1500.0     0.0     0.0  \n",
       "2  158022.0   95128.0   514.0     0.0     0.0  \n",
       "3       0.0       0.0     0.0     4.0    32.0  \n",
       "4  311560.0  433954.0  1218.0     0.0     0.0  \n",
       "\n",
       "[5 rows x 162 columns]"
      ]
     },
     "execution_count": 9,
     "metadata": {},
     "output_type": "execute_result"
    }
   ],
   "source": [
    "ca1_split = ca1_d.drop([\"class\"], axis = 1)\n",
    "\n",
    "ca1_split.head()"
   ]
  },
  {
   "cell_type": "code",
   "execution_count": 10,
   "id": "d735778c",
   "metadata": {},
   "outputs": [
    {
     "data": {
      "text/html": [
       "<div>\n",
       "<style scoped>\n",
       "    .dataframe tbody tr th:only-of-type {\n",
       "        vertical-align: middle;\n",
       "    }\n",
       "\n",
       "    .dataframe tbody tr th {\n",
       "        vertical-align: top;\n",
       "    }\n",
       "\n",
       "    .dataframe thead th {\n",
       "        text-align: right;\n",
       "    }\n",
       "</style>\n",
       "<table border=\"1\" class=\"dataframe\">\n",
       "  <thead>\n",
       "    <tr style=\"text-align: right;\">\n",
       "      <th></th>\n",
       "      <th>class</th>\n",
       "    </tr>\n",
       "  </thead>\n",
       "  <tbody>\n",
       "    <tr>\n",
       "      <th>0</th>\n",
       "      <td>0</td>\n",
       "    </tr>\n",
       "    <tr>\n",
       "      <th>1</th>\n",
       "      <td>0</td>\n",
       "    </tr>\n",
       "    <tr>\n",
       "      <th>2</th>\n",
       "      <td>0</td>\n",
       "    </tr>\n",
       "    <tr>\n",
       "      <th>3</th>\n",
       "      <td>0</td>\n",
       "    </tr>\n",
       "    <tr>\n",
       "      <th>4</th>\n",
       "      <td>0</td>\n",
       "    </tr>\n",
       "  </tbody>\n",
       "</table>\n",
       "</div>"
      ],
      "text/plain": [
       "   class\n",
       "0      0\n",
       "1      0\n",
       "2      0\n",
       "3      0\n",
       "4      0"
      ]
     },
     "execution_count": 10,
     "metadata": {},
     "output_type": "execute_result"
    }
   ],
   "source": [
    "class_ca1 = ca1_d[[\"class\"]]\n",
    "\n",
    "class_ca1.head()"
   ]
  },
  {
   "cell_type": "code",
   "execution_count": 11,
   "id": "d4469249",
   "metadata": {},
   "outputs": [],
   "source": [
    "X = ca1_split\n",
    "\n",
    "y = class_ca1"
   ]
  },
  {
   "cell_type": "code",
   "execution_count": 12,
   "id": "493a3e10",
   "metadata": {},
   "outputs": [],
   "source": [
    "X.fillna(X.median(), inplace = True)"
   ]
  },
  {
   "cell_type": "code",
   "execution_count": 13,
   "id": "80b0eb36",
   "metadata": {},
   "outputs": [],
   "source": [
    "sc = StandardScaler()\n",
    "\n",
    "X_scaled = sc.fit_transform(X)"
   ]
  },
  {
   "cell_type": "code",
   "execution_count": 14,
   "id": "39954364",
   "metadata": {},
   "outputs": [
    {
     "data": {
      "text/html": [
       "<style>#sk-container-id-1 {color: black;}#sk-container-id-1 pre{padding: 0;}#sk-container-id-1 div.sk-toggleable {background-color: white;}#sk-container-id-1 label.sk-toggleable__label {cursor: pointer;display: block;width: 100%;margin-bottom: 0;padding: 0.3em;box-sizing: border-box;text-align: center;}#sk-container-id-1 label.sk-toggleable__label-arrow:before {content: \"▸\";float: left;margin-right: 0.25em;color: #696969;}#sk-container-id-1 label.sk-toggleable__label-arrow:hover:before {color: black;}#sk-container-id-1 div.sk-estimator:hover label.sk-toggleable__label-arrow:before {color: black;}#sk-container-id-1 div.sk-toggleable__content {max-height: 0;max-width: 0;overflow: hidden;text-align: left;background-color: #f0f8ff;}#sk-container-id-1 div.sk-toggleable__content pre {margin: 0.2em;color: black;border-radius: 0.25em;background-color: #f0f8ff;}#sk-container-id-1 input.sk-toggleable__control:checked~div.sk-toggleable__content {max-height: 200px;max-width: 100%;overflow: auto;}#sk-container-id-1 input.sk-toggleable__control:checked~label.sk-toggleable__label-arrow:before {content: \"▾\";}#sk-container-id-1 div.sk-estimator input.sk-toggleable__control:checked~label.sk-toggleable__label {background-color: #d4ebff;}#sk-container-id-1 div.sk-label input.sk-toggleable__control:checked~label.sk-toggleable__label {background-color: #d4ebff;}#sk-container-id-1 input.sk-hidden--visually {border: 0;clip: rect(1px 1px 1px 1px);clip: rect(1px, 1px, 1px, 1px);height: 1px;margin: -1px;overflow: hidden;padding: 0;position: absolute;width: 1px;}#sk-container-id-1 div.sk-estimator {font-family: monospace;background-color: #f0f8ff;border: 1px dotted black;border-radius: 0.25em;box-sizing: border-box;margin-bottom: 0.5em;}#sk-container-id-1 div.sk-estimator:hover {background-color: #d4ebff;}#sk-container-id-1 div.sk-parallel-item::after {content: \"\";width: 100%;border-bottom: 1px solid gray;flex-grow: 1;}#sk-container-id-1 div.sk-label:hover label.sk-toggleable__label {background-color: #d4ebff;}#sk-container-id-1 div.sk-serial::before {content: \"\";position: absolute;border-left: 1px solid gray;box-sizing: border-box;top: 0;bottom: 0;left: 50%;z-index: 0;}#sk-container-id-1 div.sk-serial {display: flex;flex-direction: column;align-items: center;background-color: white;padding-right: 0.2em;padding-left: 0.2em;position: relative;}#sk-container-id-1 div.sk-item {position: relative;z-index: 1;}#sk-container-id-1 div.sk-parallel {display: flex;align-items: stretch;justify-content: center;background-color: white;position: relative;}#sk-container-id-1 div.sk-item::before, #sk-container-id-1 div.sk-parallel-item::before {content: \"\";position: absolute;border-left: 1px solid gray;box-sizing: border-box;top: 0;bottom: 0;left: 50%;z-index: -1;}#sk-container-id-1 div.sk-parallel-item {display: flex;flex-direction: column;z-index: 1;position: relative;background-color: white;}#sk-container-id-1 div.sk-parallel-item:first-child::after {align-self: flex-end;width: 50%;}#sk-container-id-1 div.sk-parallel-item:last-child::after {align-self: flex-start;width: 50%;}#sk-container-id-1 div.sk-parallel-item:only-child::after {width: 0;}#sk-container-id-1 div.sk-dashed-wrapped {border: 1px dashed gray;margin: 0 0.4em 0.5em 0.4em;box-sizing: border-box;padding-bottom: 0.4em;background-color: white;}#sk-container-id-1 div.sk-label label {font-family: monospace;font-weight: bold;display: inline-block;line-height: 1.2em;}#sk-container-id-1 div.sk-label-container {text-align: center;}#sk-container-id-1 div.sk-container {/* jupyter's `normalize.less` sets `[hidden] { display: none; }` but bootstrap.min.css set `[hidden] { display: none !important; }` so we also need the `!important` here to be able to override the default hidden behavior on the sphinx rendered scikit-learn.org. See: https://github.com/scikit-learn/scikit-learn/issues/21755 */display: inline-block !important;position: relative;}#sk-container-id-1 div.sk-text-repr-fallback {display: none;}</style><div id=\"sk-container-id-1\" class=\"sk-top-container\"><div class=\"sk-text-repr-fallback\"><pre>PCA()</pre><b>In a Jupyter environment, please rerun this cell to show the HTML representation or trust the notebook. <br />On GitHub, the HTML representation is unable to render, please try loading this page with nbviewer.org.</b></div><div class=\"sk-container\" hidden><div class=\"sk-item\"><div class=\"sk-estimator sk-toggleable\"><input class=\"sk-toggleable__control sk-hidden--visually\" id=\"sk-estimator-id-1\" type=\"checkbox\" checked><label for=\"sk-estimator-id-1\" class=\"sk-toggleable__label sk-toggleable__label-arrow\">PCA</label><div class=\"sk-toggleable__content\"><pre>PCA()</pre></div></div></div></div></div>"
      ],
      "text/plain": [
       "PCA()"
      ]
     },
     "execution_count": 14,
     "metadata": {},
     "output_type": "execute_result"
    }
   ],
   "source": [
    "pca = PCA()\n",
    "\n",
    "pca.fit(X_scaled)"
   ]
  },
  {
   "cell_type": "code",
   "execution_count": 15,
   "id": "bb6e50d6",
   "metadata": {},
   "outputs": [
    {
     "data": {
      "image/png": "[encoded data removed]",
      "text/plain": [
       "<Figure size 640x480 with 1 Axes>"
      ]
     },
     "metadata": {},
     "output_type": "display_data"
    }
   ],
   "source": [
    "plt.figure()\n",
    "plt.plot(np.cumsum(pca.explained_variance_ratio_))\n",
    "plt.xlabel(\"Number of Components\")\n",
    "plt.ylabel(\"Variance (%)\")\n",
    "plt.title(\"Train Dataset Explained Variance\")\n",
    "plt.show()"
   ]
  },
  {
   "cell_type": "code",
   "execution_count": 16,
   "id": "0206989d",
   "metadata": {},
   "outputs": [],
   "source": [
    "pca = PCA(n_components = 100)\n",
    "\n",
    "ca1_pca = pca.fit_transform(X_scaled)"
   ]
  },
  {
   "cell_type": "code",
   "execution_count": 17,
   "id": "2c713165",
   "metadata": {},
   "outputs": [
    {
     "data": {
      "text/html": [
       "<div>\n",
       "<style scoped>\n",
       "    .dataframe tbody tr th:only-of-type {\n",
       "        vertical-align: middle;\n",
       "    }\n",
       "\n",
       "    .dataframe tbody tr th {\n",
       "        vertical-align: top;\n",
       "    }\n",
       "\n",
       "    .dataframe thead th {\n",
       "        text-align: right;\n",
       "    }\n",
       "</style>\n",
       "<table border=\"1\" class=\"dataframe\">\n",
       "  <thead>\n",
       "    <tr style=\"text-align: right;\">\n",
       "      <th></th>\n",
       "      <th>0</th>\n",
       "      <th>1</th>\n",
       "      <th>2</th>\n",
       "      <th>3</th>\n",
       "      <th>4</th>\n",
       "      <th>5</th>\n",
       "      <th>6</th>\n",
       "      <th>7</th>\n",
       "      <th>8</th>\n",
       "      <th>9</th>\n",
       "      <th>...</th>\n",
       "      <th>90</th>\n",
       "      <th>91</th>\n",
       "      <th>92</th>\n",
       "      <th>93</th>\n",
       "      <th>94</th>\n",
       "      <th>95</th>\n",
       "      <th>96</th>\n",
       "      <th>97</th>\n",
       "      <th>98</th>\n",
       "      <th>99</th>\n",
       "    </tr>\n",
       "  </thead>\n",
       "  <tbody>\n",
       "    <tr>\n",
       "      <th>0</th>\n",
       "      <td>2.370109</td>\n",
       "      <td>-1.173316</td>\n",
       "      <td>1.899632</td>\n",
       "      <td>-0.060218</td>\n",
       "      <td>0.750227</td>\n",
       "      <td>-0.398509</td>\n",
       "      <td>0.005011</td>\n",
       "      <td>-0.348752</td>\n",
       "      <td>-1.358148</td>\n",
       "      <td>-0.942015</td>\n",
       "      <td>...</td>\n",
       "      <td>0.084890</td>\n",
       "      <td>-0.323565</td>\n",
       "      <td>-0.342278</td>\n",
       "      <td>0.148002</td>\n",
       "      <td>-0.152373</td>\n",
       "      <td>0.366161</td>\n",
       "      <td>0.038600</td>\n",
       "      <td>-0.087274</td>\n",
       "      <td>0.094097</td>\n",
       "      <td>0.611890</td>\n",
       "    </tr>\n",
       "    <tr>\n",
       "      <th>1</th>\n",
       "      <td>-0.620366</td>\n",
       "      <td>-0.552837</td>\n",
       "      <td>0.069060</td>\n",
       "      <td>-0.117031</td>\n",
       "      <td>0.053238</td>\n",
       "      <td>-0.171584</td>\n",
       "      <td>-0.008234</td>\n",
       "      <td>0.182780</td>\n",
       "      <td>0.313255</td>\n",
       "      <td>-0.174585</td>\n",
       "      <td>...</td>\n",
       "      <td>-0.281379</td>\n",
       "      <td>0.188383</td>\n",
       "      <td>0.211624</td>\n",
       "      <td>0.091409</td>\n",
       "      <td>0.408717</td>\n",
       "      <td>0.368515</td>\n",
       "      <td>0.013236</td>\n",
       "      <td>-0.291912</td>\n",
       "      <td>-0.989073</td>\n",
       "      <td>0.005208</td>\n",
       "    </tr>\n",
       "    <tr>\n",
       "      <th>2</th>\n",
       "      <td>-1.211995</td>\n",
       "      <td>-0.110978</td>\n",
       "      <td>-0.237763</td>\n",
       "      <td>-0.146611</td>\n",
       "      <td>0.243909</td>\n",
       "      <td>0.071734</td>\n",
       "      <td>-0.014483</td>\n",
       "      <td>-0.155625</td>\n",
       "      <td>0.054439</td>\n",
       "      <td>0.481591</td>\n",
       "      <td>...</td>\n",
       "      <td>0.046055</td>\n",
       "      <td>0.007005</td>\n",
       "      <td>-0.043509</td>\n",
       "      <td>-0.063723</td>\n",
       "      <td>-0.031603</td>\n",
       "      <td>-0.026151</td>\n",
       "      <td>0.084607</td>\n",
       "      <td>-0.045258</td>\n",
       "      <td>0.009034</td>\n",
       "      <td>0.025724</td>\n",
       "    </tr>\n",
       "    <tr>\n",
       "      <th>3</th>\n",
       "      <td>-3.194907</td>\n",
       "      <td>0.224803</td>\n",
       "      <td>-0.761693</td>\n",
       "      <td>0.264186</td>\n",
       "      <td>-0.154487</td>\n",
       "      <td>0.237237</td>\n",
       "      <td>-0.023598</td>\n",
       "      <td>0.563016</td>\n",
       "      <td>0.939585</td>\n",
       "      <td>0.851131</td>\n",
       "      <td>...</td>\n",
       "      <td>-0.011963</td>\n",
       "      <td>-0.018513</td>\n",
       "      <td>0.033087</td>\n",
       "      <td>0.035983</td>\n",
       "      <td>-0.033603</td>\n",
       "      <td>-0.035984</td>\n",
       "      <td>-0.011220</td>\n",
       "      <td>0.012446</td>\n",
       "      <td>0.010927</td>\n",
       "      <td>-0.020712</td>\n",
       "    </tr>\n",
       "    <tr>\n",
       "      <th>4</th>\n",
       "      <td>0.317832</td>\n",
       "      <td>-0.099276</td>\n",
       "      <td>0.843198</td>\n",
       "      <td>-0.577345</td>\n",
       "      <td>0.214998</td>\n",
       "      <td>-0.070132</td>\n",
       "      <td>0.011109</td>\n",
       "      <td>-0.519218</td>\n",
       "      <td>-1.079808</td>\n",
       "      <td>-0.785517</td>\n",
       "      <td>...</td>\n",
       "      <td>-0.009788</td>\n",
       "      <td>0.019045</td>\n",
       "      <td>-0.107842</td>\n",
       "      <td>-0.091322</td>\n",
       "      <td>0.203271</td>\n",
       "      <td>0.127000</td>\n",
       "      <td>0.279093</td>\n",
       "      <td>0.042210</td>\n",
       "      <td>-0.085615</td>\n",
       "      <td>-0.185164</td>\n",
       "    </tr>\n",
       "  </tbody>\n",
       "</table>\n",
       "<p>5 rows × 100 columns</p>\n",
       "</div>"
      ],
      "text/plain": [
       "         0         1         2         3         4         5         6   \\\n",
       "0  2.370109 -1.173316  1.899632 -0.060218  0.750227 -0.398509  0.005011   \n",
       "1 -0.620366 -0.552837  0.069060 -0.117031  0.053238 -0.171584 -0.008234   \n",
       "2 -1.211995 -0.110978 -0.237763 -0.146611  0.243909  0.071734 -0.014483   \n",
       "3 -3.194907  0.224803 -0.761693  0.264186 -0.154487  0.237237 -0.023598   \n",
       "4  0.317832 -0.099276  0.843198 -0.577345  0.214998 -0.070132  0.011109   \n",
       "\n",
       "         7         8         9   ...        90        91        92        93  \\\n",
       "0 -0.348752 -1.358148 -0.942015  ...  0.084890 -0.323565 -0.342278  0.148002   \n",
       "1  0.182780  0.313255 -0.174585  ... -0.281379  0.188383  0.211624  0.091409   \n",
       "2 -0.155625  0.054439  0.481591  ...  0.046055  0.007005 -0.043509 -0.063723   \n",
       "3  0.563016  0.939585  0.851131  ... -0.011963 -0.018513  0.033087  0.035983   \n",
       "4 -0.519218 -1.079808 -0.785517  ... -0.009788  0.019045 -0.107842 -0.091322   \n",
       "\n",
       "         94        95        96        97        98        99  \n",
       "0 -0.152373  0.366161  0.038600 -0.087274  0.094097  0.611890  \n",
       "1  0.408717  0.368515  0.013236 -0.291912 -0.989073  0.005208  \n",
       "2 -0.031603 -0.026151  0.084607 -0.045258  0.009034  0.025724  \n",
       "3 -0.033603 -0.035984 -0.011220  0.012446  0.010927 -0.020712  \n",
       "4  0.203271  0.127000  0.279093  0.042210 -0.085615 -0.185164  \n",
       "\n",
       "[5 rows x 100 columns]"
      ]
     },
     "execution_count": 17,
     "metadata": {},
     "output_type": "execute_result"
    }
   ],
   "source": [
    "ca1_pca = pd.DataFrame(ca1_pca)\n",
    "\n",
    "ca1_pca.head()"
   ]
  },
  {
   "cell_type": "code",
   "execution_count": 18,
   "id": "fed34645",
   "metadata": {},
   "outputs": [
    {
     "data": {
      "text/html": [
       "<div>\n",
       "<style scoped>\n",
       "    .dataframe tbody tr th:only-of-type {\n",
       "        vertical-align: middle;\n",
       "    }\n",
       "\n",
       "    .dataframe tbody tr th {\n",
       "        vertical-align: top;\n",
       "    }\n",
       "\n",
       "    .dataframe thead th {\n",
       "        text-align: right;\n",
       "    }\n",
       "</style>\n",
       "<table border=\"1\" class=\"dataframe\">\n",
       "  <thead>\n",
       "    <tr style=\"text-align: right;\">\n",
       "      <th></th>\n",
       "      <th>0</th>\n",
       "      <th>1</th>\n",
       "      <th>2</th>\n",
       "      <th>3</th>\n",
       "      <th>4</th>\n",
       "      <th>5</th>\n",
       "      <th>6</th>\n",
       "      <th>7</th>\n",
       "      <th>8</th>\n",
       "      <th>9</th>\n",
       "      <th>...</th>\n",
       "      <th>91</th>\n",
       "      <th>92</th>\n",
       "      <th>93</th>\n",
       "      <th>94</th>\n",
       "      <th>95</th>\n",
       "      <th>96</th>\n",
       "      <th>97</th>\n",
       "      <th>98</th>\n",
       "      <th>99</th>\n",
       "      <th>class</th>\n",
       "    </tr>\n",
       "  </thead>\n",
       "  <tbody>\n",
       "    <tr>\n",
       "      <th>0</th>\n",
       "      <td>2.370109</td>\n",
       "      <td>-1.173316</td>\n",
       "      <td>1.899632</td>\n",
       "      <td>-0.060218</td>\n",
       "      <td>0.750227</td>\n",
       "      <td>-0.398509</td>\n",
       "      <td>0.005011</td>\n",
       "      <td>-0.348752</td>\n",
       "      <td>-1.358148</td>\n",
       "      <td>-0.942015</td>\n",
       "      <td>...</td>\n",
       "      <td>-0.323565</td>\n",
       "      <td>-0.342278</td>\n",
       "      <td>0.148002</td>\n",
       "      <td>-0.152373</td>\n",
       "      <td>0.366161</td>\n",
       "      <td>0.038600</td>\n",
       "      <td>-0.087274</td>\n",
       "      <td>0.094097</td>\n",
       "      <td>0.611890</td>\n",
       "      <td>0</td>\n",
       "    </tr>\n",
       "    <tr>\n",
       "      <th>1</th>\n",
       "      <td>-0.620366</td>\n",
       "      <td>-0.552837</td>\n",
       "      <td>0.069060</td>\n",
       "      <td>-0.117031</td>\n",
       "      <td>0.053238</td>\n",
       "      <td>-0.171584</td>\n",
       "      <td>-0.008234</td>\n",
       "      <td>0.182780</td>\n",
       "      <td>0.313255</td>\n",
       "      <td>-0.174585</td>\n",
       "      <td>...</td>\n",
       "      <td>0.188383</td>\n",
       "      <td>0.211624</td>\n",
       "      <td>0.091409</td>\n",
       "      <td>0.408717</td>\n",
       "      <td>0.368515</td>\n",
       "      <td>0.013236</td>\n",
       "      <td>-0.291912</td>\n",
       "      <td>-0.989073</td>\n",
       "      <td>0.005208</td>\n",
       "      <td>0</td>\n",
       "    </tr>\n",
       "    <tr>\n",
       "      <th>2</th>\n",
       "      <td>-1.211995</td>\n",
       "      <td>-0.110978</td>\n",
       "      <td>-0.237763</td>\n",
       "      <td>-0.146611</td>\n",
       "      <td>0.243909</td>\n",
       "      <td>0.071734</td>\n",
       "      <td>-0.014483</td>\n",
       "      <td>-0.155625</td>\n",
       "      <td>0.054439</td>\n",
       "      <td>0.481591</td>\n",
       "      <td>...</td>\n",
       "      <td>0.007005</td>\n",
       "      <td>-0.043509</td>\n",
       "      <td>-0.063723</td>\n",
       "      <td>-0.031603</td>\n",
       "      <td>-0.026151</td>\n",
       "      <td>0.084607</td>\n",
       "      <td>-0.045258</td>\n",
       "      <td>0.009034</td>\n",
       "      <td>0.025724</td>\n",
       "      <td>0</td>\n",
       "    </tr>\n",
       "    <tr>\n",
       "      <th>3</th>\n",
       "      <td>-3.194907</td>\n",
       "      <td>0.224803</td>\n",
       "      <td>-0.761693</td>\n",
       "      <td>0.264186</td>\n",
       "      <td>-0.154487</td>\n",
       "      <td>0.237237</td>\n",
       "      <td>-0.023598</td>\n",
       "      <td>0.563016</td>\n",
       "      <td>0.939585</td>\n",
       "      <td>0.851131</td>\n",
       "      <td>...</td>\n",
       "      <td>-0.018513</td>\n",
       "      <td>0.033087</td>\n",
       "      <td>0.035983</td>\n",
       "      <td>-0.033603</td>\n",
       "      <td>-0.035984</td>\n",
       "      <td>-0.011220</td>\n",
       "      <td>0.012446</td>\n",
       "      <td>0.010927</td>\n",
       "      <td>-0.020712</td>\n",
       "      <td>0</td>\n",
       "    </tr>\n",
       "    <tr>\n",
       "      <th>4</th>\n",
       "      <td>0.317832</td>\n",
       "      <td>-0.099276</td>\n",
       "      <td>0.843198</td>\n",
       "      <td>-0.577345</td>\n",
       "      <td>0.214998</td>\n",
       "      <td>-0.070132</td>\n",
       "      <td>0.011109</td>\n",
       "      <td>-0.519218</td>\n",
       "      <td>-1.079808</td>\n",
       "      <td>-0.785517</td>\n",
       "      <td>...</td>\n",
       "      <td>0.019045</td>\n",
       "      <td>-0.107842</td>\n",
       "      <td>-0.091322</td>\n",
       "      <td>0.203271</td>\n",
       "      <td>0.127000</td>\n",
       "      <td>0.279093</td>\n",
       "      <td>0.042210</td>\n",
       "      <td>-0.085615</td>\n",
       "      <td>-0.185164</td>\n",
       "      <td>0</td>\n",
       "    </tr>\n",
       "  </tbody>\n",
       "</table>\n",
       "<p>5 rows × 101 columns</p>\n",
       "</div>"
      ],
      "text/plain": [
       "          0         1         2         3         4         5         6  \\\n",
       "0  2.370109 -1.173316  1.899632 -0.060218  0.750227 -0.398509  0.005011   \n",
       "1 -0.620366 -0.552837  0.069060 -0.117031  0.053238 -0.171584 -0.008234   \n",
       "2 -1.211995 -0.110978 -0.237763 -0.146611  0.243909  0.071734 -0.014483   \n",
       "3 -3.194907  0.224803 -0.761693  0.264186 -0.154487  0.237237 -0.023598   \n",
       "4  0.317832 -0.099276  0.843198 -0.577345  0.214998 -0.070132  0.011109   \n",
       "\n",
       "          7         8         9  ...        91        92        93        94  \\\n",
       "0 -0.348752 -1.358148 -0.942015  ... -0.323565 -0.342278  0.148002 -0.152373   \n",
       "1  0.182780  0.313255 -0.174585  ...  0.188383  0.211624  0.091409  0.408717   \n",
       "2 -0.155625  0.054439  0.481591  ...  0.007005 -0.043509 -0.063723 -0.031603   \n",
       "3  0.563016  0.939585  0.851131  ... -0.018513  0.033087  0.035983 -0.033603   \n",
       "4 -0.519218 -1.079808 -0.785517  ...  0.019045 -0.107842 -0.091322  0.203271   \n",
       "\n",
       "         95        96        97        98        99  class  \n",
       "0  0.366161  0.038600 -0.087274  0.094097  0.611890      0  \n",
       "1  0.368515  0.013236 -0.291912 -0.989073  0.005208      0  \n",
       "2 -0.026151  0.084607 -0.045258  0.009034  0.025724      0  \n",
       "3 -0.035984 -0.011220  0.012446  0.010927 -0.020712      0  \n",
       "4  0.127000  0.279093  0.042210 -0.085615 -0.185164      0  \n",
       "\n",
       "[5 rows x 101 columns]"
      ]
     },
     "execution_count": 18,
     "metadata": {},
     "output_type": "execute_result"
    }
   ],
   "source": [
    "ca1_concat = pd.concat([ca1_pca, y[[\"class\"]]], axis = 1)\n",
    "\n",
    "ca1_concat.head()"
   ]
  },
  {
   "cell_type": "code",
   "execution_count": 19,
   "id": "f207f8b3",
   "metadata": {},
   "outputs": [],
   "source": [
    "ca1_array = ca1_concat.values"
   ]
  },
  {
   "cell_type": "code",
   "execution_count": 20,
   "id": "ba809b6a",
   "metadata": {},
   "outputs": [],
   "source": [
    "X = ca1_array[:,0:100]\n",
    "\n",
    "y = ca1_array[:,100]"
   ]
  },
  {
   "cell_type": "code",
   "execution_count": 21,
   "id": "9b7d4ae4",
   "metadata": {},
   "outputs": [],
   "source": [
    "X_train, X_test, y_train, y_test = train_test_split(X, y, test_size = 0.2, random_state = 50)"
   ]
  },
  {
   "cell_type": "code",
   "execution_count": 22,
   "id": "14c54345",
   "metadata": {},
   "outputs": [],
   "source": [
    "from sklearn import metrics\n",
    "\n",
    "from sklearn.metrics import classification_report\n",
    "\n",
    "from sklearn.metrics import confusion_matrix\n",
    "\n",
    "from sklearn.metrics import accuracy_score\n",
    "\n",
    "from sklearn.model_selection import cross_val_score"
   ]
  },
  {
   "cell_type": "code",
   "execution_count": 23,
   "id": "d27aa8a7",
   "metadata": {},
   "outputs": [],
   "source": [
    "from sklearn import svm"
   ]
  },
  {
   "cell_type": "code",
   "execution_count": 27,
   "id": "a0b5197b",
   "metadata": {},
   "outputs": [],
   "source": [
    "cls_svm = svm.SVC(kernel = \"linear\") \n",
    "\n",
    "cls_svm.fit(X_train, y_train)\n",
    "\n",
    "y_pred_svm = cls_svm.predict(X_test)"
   ]
  },
  {
   "cell_type": "code",
   "execution_count": 28,
   "id": "4770f10f",
   "metadata": {},
   "outputs": [
    {
     "name": "stdout",
     "output_type": "stream",
     "text": [
      "accuracy: 0.9910833333333333\n",
      "accuracy: 0.99\n"
     ]
    }
   ],
   "source": [
    "print(\"accuracy:\", metrics.accuracy_score(y_test, y_pred_svm))\n",
    "\n",
    "print( \"accuracy: {:.2f}\".format(metrics.accuracy_score(y_test, y_pred_svm)) )"
   ]
  },
  {
   "cell_type": "code",
   "execution_count": 29,
   "id": "b4b33393",
   "metadata": {},
   "outputs": [
    {
     "name": "stdout",
     "output_type": "stream",
     "text": [
      "              precision    recall  f1-score   support\n",
      "\n",
      "         0.0       0.99      1.00      1.00     11786\n",
      "         1.0       0.87      0.59      0.70       214\n",
      "\n",
      "    accuracy                           0.99     12000\n",
      "   macro avg       0.93      0.79      0.85     12000\n",
      "weighted avg       0.99      0.99      0.99     12000\n",
      "\n"
     ]
    }
   ],
   "source": [
    "print(classification_report(y_test, y_pred_svm))"
   ]
  },
  {
   "cell_type": "code",
   "execution_count": null,
   "id": "f02a989b",
   "metadata": {},
   "outputs": [],
   "source": []
  },
  {
   "cell_type": "code",
   "execution_count": 30,
   "id": "4b6ca567",
   "metadata": {},
   "outputs": [],
   "source": [
    "from sklearn.neighbors import KNeighborsClassifier"
   ]
  },
  {
   "cell_type": "code",
   "execution_count": 31,
   "id": "a71eb1bc",
   "metadata": {},
   "outputs": [],
   "source": [
    "kNN = KNeighborsClassifier(n_neighbors = 9)\n",
    "\n",
    "kNN.fit(X_train, y_train)\n",
    "\n",
    "y_pred_knn = kNN.predict(X_test)"
   ]
  },
  {
   "cell_type": "code",
   "execution_count": 32,
   "id": "43ff5e1b",
   "metadata": {},
   "outputs": [
    {
     "name": "stdout",
     "output_type": "stream",
     "text": [
      "accuracy: 0.9883333333333333\n",
      "accuracy: 0.99\n"
     ]
    }
   ],
   "source": [
    "print(\"accuracy:\", metrics.accuracy_score(y_test, y_pred_knn))\n",
    "\n",
    "print( \"accuracy: {:.2f}\".format(metrics.accuracy_score(y_test, y_pred_knn)) )"
   ]
  },
  {
   "cell_type": "code",
   "execution_count": 33,
   "id": "4130dbca",
   "metadata": {},
   "outputs": [
    {
     "name": "stdout",
     "output_type": "stream",
     "text": [
      "              precision    recall  f1-score   support\n",
      "\n",
      "         0.0       0.99      1.00      0.99     11786\n",
      "         1.0       0.81      0.45      0.58       214\n",
      "\n",
      "    accuracy                           0.99     12000\n",
      "   macro avg       0.90      0.72      0.79     12000\n",
      "weighted avg       0.99      0.99      0.99     12000\n",
      "\n"
     ]
    }
   ],
   "source": [
    "print(classification_report(y_test, y_pred_knn))"
   ]
  },
  {
   "cell_type": "code",
   "execution_count": null,
   "id": "2cc1677a",
   "metadata": {},
   "outputs": [],
   "source": []
  },
  {
   "cell_type": "code",
   "execution_count": 34,
   "id": "48f32721",
   "metadata": {},
   "outputs": [],
   "source": [
    "from sklearn.tree import DecisionTreeClassifier \n",
    "from sklearn import tree"
   ]
  },
  {
   "cell_type": "code",
   "execution_count": 35,
   "id": "b6b0f9e1",
   "metadata": {},
   "outputs": [],
   "source": [
    "clf = DecisionTreeClassifier(criterion = \"entropy\", random_state = 0)\n",
    "\n",
    "clf = clf.fit(X_train, y_train)\n",
    "\n",
    "y_pred_dt = clf.predict(X_test)"
   ]
  },
  {
   "cell_type": "code",
   "execution_count": 36,
   "id": "8615ea18",
   "metadata": {},
   "outputs": [
    {
     "name": "stdout",
     "output_type": "stream",
     "text": [
      "Accuracy: 0.98675\n",
      "Accuracy: 0.99\n"
     ]
    }
   ],
   "source": [
    "print(\"Accuracy:\",metrics.accuracy_score(y_test, y_pred_dt))\n",
    "\n",
    "print( \"Accuracy: {:.2f}\".format(metrics.accuracy_score(y_test, y_pred_dt)) )"
   ]
  },
  {
   "cell_type": "code",
   "execution_count": 37,
   "id": "4ceb092a",
   "metadata": {},
   "outputs": [
    {
     "name": "stdout",
     "output_type": "stream",
     "text": [
      "              precision    recall  f1-score   support\n",
      "\n",
      "         0.0       0.99      0.99      0.99     11786\n",
      "         1.0       0.63      0.61      0.62       214\n",
      "\n",
      "    accuracy                           0.99     12000\n",
      "   macro avg       0.81      0.80      0.81     12000\n",
      "weighted avg       0.99      0.99      0.99     12000\n",
      "\n"
     ]
    }
   ],
   "source": [
    "print(classification_report(y_test, y_pred_dt))"
   ]
  },
  {
   "cell_type": "code",
   "execution_count": null,
   "id": "cb9e2a55",
   "metadata": {},
   "outputs": [],
   "source": []
  },
  {
   "cell_type": "code",
   "execution_count": 38,
   "id": "1888eeb1",
   "metadata": {},
   "outputs": [],
   "source": [
    "from sklearn.linear_model import LinearRegression"
   ]
  },
  {
   "cell_type": "code",
   "execution_count": 39,
   "id": "4630dfb5",
   "metadata": {},
   "outputs": [],
   "source": [
    "\n",
    "def get_cv_scores(model):\n",
    "    scores = cross_val_score(model,\n",
    "                             X_train,\n",
    "                             y_train,\n",
    "                             cv = 10,\n",
    "                             scoring = 'r2')\n",
    "    \n",
    "    print('CV Mean: ', np.mean(scores))\n",
    "    print('STD: ', np.std(scores))\n",
    "    print('\\n')\n",
    "    \n",
    "    \n",
    "    "
   ]
  },
  {
   "cell_type": "code",
   "execution_count": 40,
   "id": "ee4bd6e0",
   "metadata": {},
   "outputs": [],
   "source": [
    "lr = LinearRegression().fit(X_train, y_train)"
   ]
  },
  {
   "cell_type": "code",
   "execution_count": 41,
   "id": "64c13981",
   "metadata": {},
   "outputs": [
    {
     "name": "stdout",
     "output_type": "stream",
     "text": [
      "CV Mean:  -45744.54354843812\n",
      "STD:  137227.20089284028\n",
      "\n",
      "\n"
     ]
    }
   ],
   "source": [
    "get_cv_scores(lr)"
   ]
  },
  {
   "cell_type": "code",
   "execution_count": 42,
   "id": "08550035",
   "metadata": {},
   "outputs": [],
   "source": [
    "y_pred_lr = lr.predict(X_test)"
   ]
  },
  {
   "cell_type": "code",
   "execution_count": 43,
   "id": "6fdb0498",
   "metadata": {},
   "outputs": [
    {
     "data": {
      "text/html": [
       "<div>\n",
       "<style scoped>\n",
       "    .dataframe tbody tr th:only-of-type {\n",
       "        vertical-align: middle;\n",
       "    }\n",
       "\n",
       "    .dataframe tbody tr th {\n",
       "        vertical-align: top;\n",
       "    }\n",
       "\n",
       "    .dataframe thead th {\n",
       "        text-align: right;\n",
       "    }\n",
       "</style>\n",
       "<table border=\"1\" class=\"dataframe\">\n",
       "  <thead>\n",
       "    <tr style=\"text-align: right;\">\n",
       "      <th></th>\n",
       "      <th>Actual</th>\n",
       "      <th>Predicted</th>\n",
       "    </tr>\n",
       "  </thead>\n",
       "  <tbody>\n",
       "    <tr>\n",
       "      <th>0</th>\n",
       "      <td>0.0</td>\n",
       "      <td>0.002932</td>\n",
       "    </tr>\n",
       "    <tr>\n",
       "      <th>1</th>\n",
       "      <td>0.0</td>\n",
       "      <td>-0.004400</td>\n",
       "    </tr>\n",
       "    <tr>\n",
       "      <th>2</th>\n",
       "      <td>0.0</td>\n",
       "      <td>-0.004213</td>\n",
       "    </tr>\n",
       "    <tr>\n",
       "      <th>3</th>\n",
       "      <td>0.0</td>\n",
       "      <td>-0.004466</td>\n",
       "    </tr>\n",
       "    <tr>\n",
       "      <th>4</th>\n",
       "      <td>0.0</td>\n",
       "      <td>-0.003121</td>\n",
       "    </tr>\n",
       "  </tbody>\n",
       "</table>\n",
       "</div>"
      ],
      "text/plain": [
       "   Actual  Predicted\n",
       "0     0.0   0.002932\n",
       "1     0.0  -0.004400\n",
       "2     0.0  -0.004213\n",
       "3     0.0  -0.004466\n",
       "4     0.0  -0.003121"
      ]
     },
     "execution_count": 43,
     "metadata": {},
     "output_type": "execute_result"
    }
   ],
   "source": [
    "linear = pd.DataFrame({'Actual': y_test, 'Predicted': y_pred_lr})\n",
    "linear.head()"
   ]
  },
  {
   "cell_type": "code",
   "execution_count": 44,
   "id": "d800b45f",
   "metadata": {},
   "outputs": [
    {
     "name": "stdout",
     "output_type": "stream",
     "text": [
      "Mean Absolute Error: 0.008916666666666666\n",
      "Mean Squared Error: 0.008916666666666666\n",
      "Root Mean Squared Error: 0.0944281031614353\n"
     ]
    }
   ],
   "source": [
    "print('Mean Absolute Error:', metrics.mean_absolute_error(y_test, y_pred))\n",
    "print('Mean Squared Error:', metrics.mean_squared_error(y_test, y_pred))\n",
    "print('Root Mean Squared Error:', np.sqrt(metrics.mean_squared_error(y_test, y_pred)))"
   ]
  },
  {
   "cell_type": "code",
   "execution_count": null,
   "id": "a5e28c4c",
   "metadata": {},
   "outputs": [],
   "source": []
  },
  {
   "cell_type": "code",
   "execution_count": 45,
   "id": "69a9a8d0",
   "metadata": {},
   "outputs": [],
   "source": [
    "from sklearn.naive_bayes import GaussianNB"
   ]
  },
  {
   "cell_type": "code",
   "execution_count": 46,
   "id": "b5eed58b",
   "metadata": {},
   "outputs": [
    {
     "data": {
      "text/html": [
       "<style>#sk-container-id-2 {color: black;}#sk-container-id-2 pre{padding: 0;}#sk-container-id-2 div.sk-toggleable {background-color: white;}#sk-container-id-2 label.sk-toggleable__label {cursor: pointer;display: block;width: 100%;margin-bottom: 0;padding: 0.3em;box-sizing: border-box;text-align: center;}#sk-container-id-2 label.sk-toggleable__label-arrow:before {content: \"▸\";float: left;margin-right: 0.25em;color: #696969;}#sk-container-id-2 label.sk-toggleable__label-arrow:hover:before {color: black;}#sk-container-id-2 div.sk-estimator:hover label.sk-toggleable__label-arrow:before {color: black;}#sk-container-id-2 div.sk-toggleable__content {max-height: 0;max-width: 0;overflow: hidden;text-align: left;background-color: #f0f8ff;}#sk-container-id-2 div.sk-toggleable__content pre {margin: 0.2em;color: black;border-radius: 0.25em;background-color: #f0f8ff;}#sk-container-id-2 input.sk-toggleable__control:checked~div.sk-toggleable__content {max-height: 200px;max-width: 100%;overflow: auto;}#sk-container-id-2 input.sk-toggleable__control:checked~label.sk-toggleable__label-arrow:before {content: \"▾\";}#sk-container-id-2 div.sk-estimator input.sk-toggleable__control:checked~label.sk-toggleable__label {background-color: #d4ebff;}#sk-container-id-2 div.sk-label input.sk-toggleable__control:checked~label.sk-toggleable__label {background-color: #d4ebff;}#sk-container-id-2 input.sk-hidden--visually {border: 0;clip: rect(1px 1px 1px 1px);clip: rect(1px, 1px, 1px, 1px);height: 1px;margin: -1px;overflow: hidden;padding: 0;position: absolute;width: 1px;}#sk-container-id-2 div.sk-estimator {font-family: monospace;background-color: #f0f8ff;border: 1px dotted black;border-radius: 0.25em;box-sizing: border-box;margin-bottom: 0.5em;}#sk-container-id-2 div.sk-estimator:hover {background-color: #d4ebff;}#sk-container-id-2 div.sk-parallel-item::after {content: \"\";width: 100%;border-bottom: 1px solid gray;flex-grow: 1;}#sk-container-id-2 div.sk-label:hover label.sk-toggleable__label {background-color: #d4ebff;}#sk-container-id-2 div.sk-serial::before {content: \"\";position: absolute;border-left: 1px solid gray;box-sizing: border-box;top: 0;bottom: 0;left: 50%;z-index: 0;}#sk-container-id-2 div.sk-serial {display: flex;flex-direction: column;align-items: center;background-color: white;padding-right: 0.2em;padding-left: 0.2em;position: relative;}#sk-container-id-2 div.sk-item {position: relative;z-index: 1;}#sk-container-id-2 div.sk-parallel {display: flex;align-items: stretch;justify-content: center;background-color: white;position: relative;}#sk-container-id-2 div.sk-item::before, #sk-container-id-2 div.sk-parallel-item::before {content: \"\";position: absolute;border-left: 1px solid gray;box-sizing: border-box;top: 0;bottom: 0;left: 50%;z-index: -1;}#sk-container-id-2 div.sk-parallel-item {display: flex;flex-direction: column;z-index: 1;position: relative;background-color: white;}#sk-container-id-2 div.sk-parallel-item:first-child::after {align-self: flex-end;width: 50%;}#sk-container-id-2 div.sk-parallel-item:last-child::after {align-self: flex-start;width: 50%;}#sk-container-id-2 div.sk-parallel-item:only-child::after {width: 0;}#sk-container-id-2 div.sk-dashed-wrapped {border: 1px dashed gray;margin: 0 0.4em 0.5em 0.4em;box-sizing: border-box;padding-bottom: 0.4em;background-color: white;}#sk-container-id-2 div.sk-label label {font-family: monospace;font-weight: bold;display: inline-block;line-height: 1.2em;}#sk-container-id-2 div.sk-label-container {text-align: center;}#sk-container-id-2 div.sk-container {/* jupyter's `normalize.less` sets `[hidden] { display: none; }` but bootstrap.min.css set `[hidden] { display: none !important; }` so we also need the `!important` here to be able to override the default hidden behavior on the sphinx rendered scikit-learn.org. See: https://github.com/scikit-learn/scikit-learn/issues/21755 */display: inline-block !important;position: relative;}#sk-container-id-2 div.sk-text-repr-fallback {display: none;}</style><div id=\"sk-container-id-2\" class=\"sk-top-container\"><div class=\"sk-text-repr-fallback\"><pre>GaussianNB()</pre><b>In a Jupyter environment, please rerun this cell to show the HTML representation or trust the notebook. <br />On GitHub, the HTML representation is unable to render, please try loading this page with nbviewer.org.</b></div><div class=\"sk-container\" hidden><div class=\"sk-item\"><div class=\"sk-estimator sk-toggleable\"><input class=\"sk-toggleable__control sk-hidden--visually\" id=\"sk-estimator-id-2\" type=\"checkbox\" checked><label for=\"sk-estimator-id-2\" class=\"sk-toggleable__label sk-toggleable__label-arrow\">GaussianNB</label><div class=\"sk-toggleable__content\"><pre>GaussianNB()</pre></div></div></div></div></div>"
      ],
      "text/plain": [
       "GaussianNB()"
      ]
     },
     "execution_count": 46,
     "metadata": {},
     "output_type": "execute_result"
    }
   ],
   "source": [
    "nvclassifier = GaussianNB()\n",
    "\n",
    "nvclassifier.fit(X_train, y_train)"
   ]
  },
  {
   "cell_type": "code",
   "execution_count": 47,
   "id": "ce2fd48d",
   "metadata": {},
   "outputs": [
    {
     "name": "stdout",
     "output_type": "stream",
     "text": [
      "[0. 0. 0. ... 0. 0. 0.]\n"
     ]
    }
   ],
   "source": [
    "y_pred_gnb = nvclassifier.predict(X_test)\n",
    "\n",
    "print(y_pred_gnb)"
   ]
  },
  {
   "cell_type": "code",
   "execution_count": 48,
   "id": "9b30074f",
   "metadata": {},
   "outputs": [
    {
     "data": {
      "text/plain": [
       "array([[0., 0.],\n",
       "       [0., 0.],\n",
       "       [0., 0.],\n",
       "       [0., 0.],\n",
       "       [0., 0.],\n",
       "       [0., 0.],\n",
       "       [0., 0.],\n",
       "       [0., 0.],\n",
       "       [0., 0.],\n",
       "       [0., 0.],\n",
       "       [1., 1.],\n",
       "       [0., 0.],\n",
       "       [0., 0.],\n",
       "       [0., 1.],\n",
       "       [0., 0.],\n",
       "       [0., 0.],\n",
       "       [0., 0.],\n",
       "       [0., 0.],\n",
       "       [0., 0.],\n",
       "       [0., 0.],\n",
       "       [0., 0.],\n",
       "       [0., 0.],\n",
       "       [0., 0.],\n",
       "       [0., 0.],\n",
       "       [0., 1.],\n",
       "       [0., 0.],\n",
       "       [0., 0.],\n",
       "       [0., 0.],\n",
       "       [0., 0.],\n",
       "       [0., 0.]])"
      ]
     },
     "execution_count": 48,
     "metadata": {},
     "output_type": "execute_result"
    }
   ],
   "source": [
    "y_compare = np.vstack((y_test,y_pred_gnb)).T\n",
    "\n",
    "y_compare[:30,:]"
   ]
  },
  {
   "cell_type": "code",
   "execution_count": 49,
   "id": "ac14047d",
   "metadata": {},
   "outputs": [
    {
     "name": "stdout",
     "output_type": "stream",
     "text": [
      "0.9653333333333334\n"
     ]
    }
   ],
   "source": [
    "score = accuracy_score(y_test, y_pred_gnb)\n",
    "print(score)"
   ]
  },
  {
   "cell_type": "code",
   "execution_count": 50,
   "id": "d1d9fc9e",
   "metadata": {},
   "outputs": [
    {
     "data": {
      "text/plain": [
       "0.9650333333333332"
      ]
     },
     "execution_count": 50,
     "metadata": {},
     "output_type": "execute_result"
    }
   ],
   "source": [
    "nvclassifier = GaussianNB()\n",
    "\n",
    "cross_val_score(nvclassifier, X, y, scoring = 'accuracy', cv = 10).mean()"
   ]
  },
  {
   "cell_type": "code",
   "execution_count": null,
   "id": "8cc50932",
   "metadata": {},
   "outputs": [],
   "source": []
  },
  {
   "cell_type": "code",
   "execution_count": 52,
   "id": "813509e8",
   "metadata": {},
   "outputs": [
    {
     "name": "stdout",
     "output_type": "stream",
     "text": [
      "Accuracy SVM: 0.9910833333333333\n",
      "Accuracy KNN: 0.9883333333333333\n",
      "Accuracy DT: 0.98675\n",
      "Accuracy GNB: 0.9650333333333332\n"
     ]
    }
   ],
   "source": [
    "print(\"Accuracy SVM:\", metrics.accuracy_score(y_test, y_pred_svm))\n",
    "\n",
    "print(\"Accuracy KNN:\", metrics.accuracy_score(y_test, y_pred_knn))\n",
    "\n",
    "print(\"Accuracy DT:\",metrics.accuracy_score(y_test, y_pred_dt))\n",
    "\n",
    "print(\"Accuracy GNB:\", cross_val_score(nvclassifier, X, y, scoring = 'accuracy', cv = 10).mean())"
   ]
  },
  {
   "cell_type": "code",
   "execution_count": null,
   "id": "01c0179e",
   "metadata": {},
   "outputs": [],
   "source": []
  }
 ],
 "metadata": {
  "kernelspec": {
   "display_name": "Python 3 (ipykernel)",
   "language": "python",
   "name": "python3"
  },
  "language_info": {
   "codemirror_mode": {
    "name": "ipython",
    "version": 3
   },
   "file_extension": ".py",
   "mimetype": "text/x-python",
   "name": "python",
   "nbconvert_exporter": "python",
   "pygments_lexer": "ipython3",
   "version": "3.11.4"
  }
 },
 "nbformat": 4,
 "nbformat_minor": 5
}
